{
 "cells": [
  {
   "cell_type": "markdown",
   "id": "16e83ea1",
   "metadata": {},
   "source": [
    "# Hyperparameters"
   ]
  },
  {
   "cell_type": "code",
   "execution_count": 1250,
   "id": "0a431f97",
   "metadata": {},
   "outputs": [],
   "source": [
    "IS_TRAINING_MODE = True\n",
    "\n",
    "# training data paramters\n",
    "TRAINING_PERCENT_PARAMETER = 0.15 #if IS_TRAINING_MODE else 0.015\n",
    "DATA_PATH = './data'\n",
    "\n",
    "# Development Parameters\n",
    "DEBUG_PARAMETER = True\n",
    "PARAM_FINAL_IMAGES = False\n",
    "PARAM_GENERATE_CONFIDENCE_MATRIX = True\n",
    "\n",
    "# Hyper parameters - these are from the last 15% run\n",
    "sfs_features_to_select = 3\n",
    "gradient_boost__n_estimators = 32\n",
    "\n",
    "# Best Params for All Hyperparameters\n",
    "logistic_regression__C = 1.0\n",
    "logistic_regression__class_weight = 'balanced'\n",
    "logistic_regression__fit_intercept = True\n",
    "logistic_regression__penalty = 'l1'\n",
    "logistic_regression__solver = 'liblinear'\n",
    "kneighbors__algorithm = 'auto'\n",
    "kneighbors__n_neighbors = 10\n",
    "kneighbors__weights = None\n",
    "decision_tree__criterion = 'entropy'\n",
    "decision_tree__max_depth = 6\n",
    "decision_tree__max_features = None\n",
    "random_forest__max_features = 8\n",
    "random_forest__n_estimators = 3\n",
    "extremegradientboost__learning_rate = 1\n",
    "extremegradientboost__max_depth = 1\n",
    "extremegradientboost__n_estimators = 18\n",
    "logistic_regression__features = ['rb_count', 'on_schedule', 'form_EMPTY', 'form_SHOTGUN', 'form_SINGLEBACK', ]\n",
    "kneighbors__features = ['extra_ol', 'form_EMPTY', 'form_SHOTGUN', ]\n",
    "decision_tree__features = ['rb_count', 'form_SHOTGUN', 'form_SINGLEBACK', 'form_VICTORY', ]\n",
    "support_vector__features = ['rb_count', 'on_schedule', 'form_SHOTGUN', 'form_SINGLEBACK', 'form_VICTORY', ]\n",
    "extremegradientboost__features = ['rb_count', 'form_EMPTY', 'form_SHOTGUN', 'form_SINGLEBACK', ]"
   ]
  },
  {
   "cell_type": "markdown",
   "id": "35191b0d",
   "metadata": {},
   "source": [
    "# Initializing Data"
   ]
  },
  {
   "cell_type": "markdown",
   "id": "6bea1a3c",
   "metadata": {},
   "source": [
    "## Preparing Data"
   ]
  },
  {
   "cell_type": "markdown",
   "id": "3e79b33e",
   "metadata": {},
   "source": [
    "### Includes"
   ]
  },
  {
   "cell_type": "code",
   "execution_count": 1251,
   "id": "6f063a7c",
   "metadata": {},
   "outputs": [],
   "source": [
    "import pandas as pd\n",
    "import numpy as np\n",
    "import math\n",
    "\n",
    "from sklearn.metrics import root_mean_squared_error\n",
    "from sklearn.model_selection import train_test_split, GridSearchCV\n",
    "from sklearn import set_config\n",
    "from sklearn.utils import shuffle\n",
    "\n",
    "from sklearn import tree\n",
    "\n",
    "import pandas as pd\n",
    "import numpy as np\n",
    "import seaborn as sns\n",
    "import time\n",
    "from matplotlib import pyplot as plt\n",
    "from sklearn.compose import make_column_transformer\n",
    "from sklearn.dummy import DummyClassifier\n",
    "from sklearn.linear_model import LogisticRegression\n",
    "from sklearn.metrics import precision_score, recall_score, accuracy_score , confusion_matrix, roc_curve, ConfusionMatrixDisplay, RocCurveDisplay\n",
    "from sklearn.model_selection import train_test_split\n",
    "from sklearn.neighbors import KNeighborsClassifier\n",
    "from sklearn.pipeline import Pipeline\n",
    "from sklearn.preprocessing import OneHotEncoder, OrdinalEncoder\n",
    "from sklearn.svm import SVC\n",
    "from sklearn import tree\n",
    "from sklearn.tree import DecisionTreeClassifier\n",
    "from sklearn.utils import shuffle\n",
    "from sklearn.linear_model import Ridge\n",
    "from sklearn.feature_selection import SequentialFeatureSelector\n",
    "from sklearn.preprocessing import LabelEncoder\n",
    "\n",
    "# HalvingGridSearchCV is experimental and the API might change without any deprecation cycle\n",
    "from sklearn.experimental import enable_halving_search_cv\n",
    "from sklearn.model_selection import HalvingGridSearchCV\n",
    "\n",
    "from sklearn.metrics import auc as skl_auc\n",
    "from sklearn.model_selection import GridSearchCV\n",
    "from sklearn.preprocessing import StandardScaler\n",
    "from sklearn.ensemble import RandomForestClassifier\n",
    "from sklearn.ensemble import GradientBoostingRegressor, GradientBoostingClassifier\n",
    "import plotly.express as px\n",
    "\n",
    "import xgboost as xgb\n",
    "from xgboost import XGBClassifier\n",
    "\n",
    "import warnings\n",
    "warnings.filterwarnings('ignore')"
   ]
  },
  {
   "cell_type": "markdown",
   "id": "3ab5f1fc",
   "metadata": {},
   "source": [
    "### Load the Data"
   ]
  },
  {
   "cell_type": "code",
   "execution_count": 1252,
   "id": "94cf96ed",
   "metadata": {},
   "outputs": [],
   "source": [
    "plays_path = f'{DATA_PATH}/plays.csv'\n",
    "plays = pd.read_csv(plays_path)"
   ]
  },
  {
   "cell_type": "code",
   "execution_count": 1253,
   "id": "ec4f00f9",
   "metadata": {},
   "outputs": [],
   "source": [
    "games_path = f'{DATA_PATH}/games.csv'\n",
    "games = pd.read_csv(games_path)\n",
    "\n",
    "plays = plays.merge(games[['gameId', 'homeTeamAbbr', 'visitorTeamAbbr']], left_on='gameId', right_on='gameId')"
   ]
  },
  {
   "cell_type": "markdown",
   "id": "b8a3fb49",
   "metadata": {},
   "source": [
    "## Readying the dataset"
   ]
  },
  {
   "cell_type": "code",
   "execution_count": 1254,
   "id": "19bdf05d",
   "metadata": {},
   "outputs": [],
   "source": [
    "def get_position_features(s: pd.Series) -> pd.Series:\n",
    "    \"\"\"determine wr, te, rb based on alignment; WRxTE\n",
    "    \"\"\"\n",
    "    wr_count = te_count = rb_count = 0\n",
    "    extra_ol = s.offenseFormation == \"JUMBO\"\n",
    "    if not isinstance(s.receiverAlignment, float):\n",
    "        alignment = s.receiverAlignment.split('x')\n",
    "        if len(alignment):\n",
    "            wr_count = int(alignment[0])\n",
    "            te_count = int(alignment[1])\n",
    "            rb_count = 5 - wr_count - te_count\n",
    "            if extra_ol and rb_count > 1:\n",
    "                rb_count -= 1 \n",
    "\n",
    "    return pd.Series([wr_count, te_count, rb_count, extra_ol], ['wr_count', 'te_count', 'rb_count', 'extra_ol'])\n",
    "def get_time_features(s: pd.Series) -> pd.Series:\n",
    "    \"\"\"determine total time remaining, is overtime, or within two mins\n",
    "    \"\"\" \n",
    "    two_min_1st_half = 32 * 60\n",
    "    two_min_2st_half = 2 * 60\n",
    "    two_min_overtime = 68 * 60\n",
    "    \n",
    "    quarter = int(s.quarter)\n",
    "    secs_remaining = math.nan\n",
    "    is_inside_two_mins = is_overtime = False\n",
    "    quarter_clock = s.gameClock.split(':')\n",
    "    if len(quarter_clock) == 2:\n",
    "        secs_in_quarter = int(quarter_clock[0]) * 60 + int(quarter_clock[1])\n",
    "        if quarter <= 4:\n",
    "            secs_remaining = (4 - quarter) * 15 * 60 + secs_in_quarter\n",
    "        else:\n",
    "            secs_remaining = secs_in_quarter\n",
    "            is_overtime = True\n",
    "        is_inside_two_mins = secs_in_quarter <= 120 and (quarter == 2 or quarter >= 4)\n",
    "\n",
    "    return pd.Series([secs_remaining, is_inside_two_mins, is_overtime], ['secs_remaining', 'is_inside_two_mins', 'is_overtime'])\n",
    "\n",
    "# v1 result - just sneak, kneel, spikie, pass, or run\n",
    "plays['play_result'] = plays.apply(lambda p: \n",
    "                                   'run' if p.qbSneak == True else \n",
    "                                   'run' if p.qbKneel == True else \n",
    "                                   'pass' if p.qbSpike == True else \n",
    "                                   'pass' if p.isDropback == True else \n",
    "                                   'run', axis = 1)\n",
    "\n",
    "# offenseFormation is NaN for qb kneels or spikes\n",
    "plays['offense_formation'] = plays.apply(lambda p: \n",
    "                                   'VICTORY' if p.qbKneel == True else\n",
    "                                   'MUDDLE' if p.qbSpike == True else\n",
    "                                   p.offenseFormation, axis = 1)\n",
    "\n",
    "# offense is considered on schedule if they gain at least 50% on first down, 70% on second down, or 100% on 3rd/4th. \n",
    "# this means on schedule is 1st (yards <= 10), 2nd (yards <= 5), 3rd (yards <= 3), 4th (yards <= 1)\n",
    "plays['on_schedule'] = plays.apply(lambda p: \n",
    "                                   p.yardsToGo <= 10 if p.down == 1 else\n",
    "                                   p.yardsToGo <= 5  if p.down == 2 else\n",
    "                                   p.yardsToGo <= 3  if p.down == 3 else\n",
    "                                   p.yardsToGo <= 1  if p.down == 4 else\n",
    "                                   False, axis = 1)\n",
    "# anything two yards or less is considered short yardage\n",
    "plays['and_short'] = plays.apply(lambda p: p.yardsToGo <= 2, axis = 1)\n",
    "\n",
    "\n",
    "# get score and win probability\n",
    "plays['score_offset'] = plays.apply(lambda p: \n",
    "                                    p.preSnapHomeScore - p.preSnapVisitorScore if p.possessionTeam == p.homeTeamAbbr else\n",
    "                                    p.preSnapVisitorScore - p.preSnapHomeScore, axis = 1)\n",
    "plays['win_probability'] = plays.apply(lambda p: \n",
    "                                       p.preSnapHomeTeamWinProbability if p.possessionTeam == p.homeTeamAbbr else\n",
    "                                       p.preSnapVisitorTeamWinProbability, axis = 1)\n",
    "\n",
    "# get position counts (TE, WR, etc)\n",
    "tmp = plays.apply(get_position_features, axis=1)\n",
    "plays['wr_count'] = tmp['wr_count']\n",
    "plays['te_count'] = tmp['te_count']\n",
    "plays['rb_count'] = tmp['rb_count']\n",
    "plays['extra_ol'] = tmp['extra_ol']\n",
    "\n",
    "tmp = plays.apply(get_time_features, axis=1)\n",
    "plays['secs_remaining'] = tmp['secs_remaining']\n",
    "plays['is_inside_two_mins'] = tmp['is_inside_two_mins']\n",
    "plays['is_overtime'] = tmp['is_overtime']\n",
    "\n",
    "plays['off_yards_to_goal'] = plays.apply(lambda p: 100 - int(p.yardlineNumber) if p.yardlineSide == p.possessionTeam else int(p.yardlineNumber), axis = 1)\n",
    "df = plays"
   ]
  },
  {
   "cell_type": "markdown",
   "id": "e6b285ea",
   "metadata": {},
   "source": [
    "## Prepare the training set"
   ]
  },
  {
   "cell_type": "code",
   "execution_count": 1255,
   "id": "7b1d350e",
   "metadata": {},
   "outputs": [],
   "source": [
    "# add in dummies - doing this manually because it's simpler overall than doing column transformer\n",
    "formation_dummies = pd.get_dummies(df.offense_formation, prefix='form')\n",
    "df = pd.concat([df, formation_dummies], axis=1)\n",
    "quarter_dummies = pd.get_dummies(df.quarter, prefix='quarter')\n",
    "df = pd.concat([df, quarter_dummies], axis=1)\n",
    "down_dummies = pd.get_dummies(df.down, prefix='down')\n",
    "df = pd.concat([df, down_dummies], axis=1)\n",
    "teams_dummies = pd.get_dummies(df.possessionTeam, prefix='team') \n",
    "df = pd.concat([df, teams_dummies], axis=1)\n",
    "\n",
    "TARGET_FEATURE = 'play_result'\n",
    "TRAINING_FEATURES = ['yardsToGo',                                                               # down and distance\n",
    "                     'secs_remaining', 'is_inside_two_mins',                                    # game time\n",
    "                     'wr_count', 'te_count', 'rb_count', 'extra_ol',                            # formations\n",
    "                     'on_schedule', 'and_short',                                                # situational\n",
    "                     'score_offset', 'win_probability',                                         # score and win probability\n",
    "                     TARGET_FEATURE]\n",
    "\n",
    "# add dummy features - using all for training\n",
    "for c in formation_dummies.columns:\n",
    "    TRAINING_FEATURES.append(c)\n",
    "for c in quarter_dummies.columns:\n",
    "    TRAINING_FEATURES.append(c)\n",
    "for c in down_dummies.columns:\n",
    "    TRAINING_FEATURES.append(c)\n",
    "for c in teams_dummies.columns:\n",
    "    TRAINING_FEATURES.append(c)"
   ]
  },
  {
   "cell_type": "code",
   "execution_count": 1256,
   "id": "0788f56d",
   "metadata": {},
   "outputs": [
    {
     "name": "stdout",
     "output_type": "stream",
     "text": [
      "The training set has 2418 rows\n",
      "The test set has 13706 rows\n",
      "The target feature is play_result and the 61 training columns are ['yardsToGo', 'secs_remaining', 'is_inside_two_mins', 'wr_count', 'te_count', 'rb_count', 'extra_ol', 'on_schedule', 'and_short', 'score_offset', 'win_probability', 'form_EMPTY', 'form_I_FORM', 'form_JUMBO', 'form_MUDDLE', 'form_PISTOL', 'form_SHOTGUN', 'form_SINGLEBACK', 'form_VICTORY', 'form_WILDCAT', 'quarter_1', 'quarter_2', 'quarter_3', 'quarter_4', 'quarter_5', 'down_1', 'down_2', 'down_3', 'down_4', 'team_ARI', 'team_ATL', 'team_BAL', 'team_BUF', 'team_CAR', 'team_CHI', 'team_CIN', 'team_CLE', 'team_DAL', 'team_DEN', 'team_DET', 'team_GB', 'team_HOU', 'team_IND', 'team_JAX', 'team_KC', 'team_LA', 'team_LAC', 'team_LV', 'team_MIA', 'team_MIN', 'team_NE', 'team_NO', 'team_NYG', 'team_NYJ', 'team_PHI', 'team_PIT', 'team_SEA', 'team_SF', 'team_TB', 'team_TEN', 'team_WAS']\n"
     ]
    }
   ],
   "source": [
    "tmp = df[TRAINING_FEATURES]\n",
    "X_train, X_test, y_train, y_test = train_test_split(tmp.drop(TARGET_FEATURE, axis = 1), \n",
    "                                                    tmp[TARGET_FEATURE],\n",
    "                                                    train_size=TRAINING_PERCENT_PARAMETER,\n",
    "                                                    random_state=27,\n",
    "                                                    stratify = df[TARGET_FEATURE],\n",
    "                                                    shuffle=True)\n",
    "if DEBUG_PARAMETER:\n",
    "    print(f\"The training set has {len(y_train)} rows\")\n",
    "    print(f\"The test set has {len(y_test)} rows\")\n",
    "    print(f\"The target feature is {TARGET_FEATURE} and the {len(X_train.columns)} training columns are {[x for x in X_train.columns]}\")"
   ]
  },
  {
   "cell_type": "markdown",
   "id": "421a02ee",
   "metadata": {},
   "source": [
    "## Automation Layer"
   ]
  },
  {
   "cell_type": "code",
   "execution_count": 1257,
   "id": "df2d9f0e",
   "metadata": {},
   "outputs": [],
   "source": [
    "def create_roc_curve(model, X_test, y_test):\n",
    "    \"\"\" Create ROC curve for model\n",
    "    \"\"\"\n",
    "    y_score = model.predict_proba(X_test)[:, 1]\n",
    "    fpr, tpr, thresholds = roc_curve(y_test, y_score)\n",
    "    roc_auc_value = skl_auc(fpr, tpr)\n",
    "\n",
    "    disp2 = RocCurveDisplay(fpr=fpr, tpr=tpr, roc_auc=roc_auc_value)\n",
    "    disp2.plot()\n",
    "\n",
    "all_best_params = {}\n",
    "def print_best_params(name, best_params):\n",
    "    \"\"\" Displays best hyperparameters in a format that can be copy/pasted into Hyperparameters section\n",
    "    \"\"\"\n",
    "    if IS_TRAINING_MODE:\n",
    "        return\n",
    "    print(f\"======== Best Params for {name} ========\")\n",
    "    for key in best_params:\n",
    "        value = best_params[key]\n",
    "        if not isinstance(value, str):\n",
    "            print(f\"{key} = {value}\")\n",
    "        else:\n",
    "            print(f\"{key} = '{value}'\")\n",
    "\n",
    "def append_best_params(name, best_params):\n",
    "    \"\"\" Add best params for model\n",
    "    \"\"\"\n",
    "    all_best_params.update(best_params)\n",
    "    print_best_params(name, best_params)\n",
    "\n",
    "all_runs = []\n",
    "best_run = None\n",
    "class ModelTrainer:\n",
    "    \"\"\"Automates model training, capturing output, and generating basic charts\n",
    "    \"\"\"\n",
    "    def __init__(self, model_name, actual_model, prefix, generate_charts=True, selected_features=None, use_label_encoder=False):\n",
    "        self.start_time = time.time()\n",
    "        self.model_name = model_name\n",
    "        self.model = actual_model\n",
    "        self.prefix = prefix\n",
    "        self.generate_charts = False #generate_charts\n",
    "        self.training_features = None\n",
    "        self.train_time = None\n",
    "        self.train_accuracy = None\n",
    "        self.test_accuracy = None\n",
    "        self.features = selected_features if selected_features is not None else [x for x in TRAINING_FEATURES if x != TARGET_FEATURE]\n",
    "        self.use_label_encoder = use_label_encoder\n",
    "        \n",
    "    def elapsed(self):\n",
    "        elapsed_time = time.time() - self.start_time\n",
    "        return f\"{elapsed_time:.2f} secs\"\n",
    "    \n",
    "    def model_predict(self, X, is_continuous):\n",
    "        prediction = self.model.predict(X)\n",
    "        if is_continuous:\n",
    "            prediction = (prediction >= 0.5).astype(int)\n",
    "        return prediction\n",
    "    \n",
    "    def chart_roc_and_confusion(self, is_continuous):\n",
    "        fig, ax = plt.subplots(1, 2)\n",
    "        if PARAM_FINAL_IMAGES:\n",
    "            fig.set_size_inches(20, 12)\n",
    "        else:\n",
    "            fig.set_size_inches(15, 5)\n",
    "\n",
    "        preds = self.model_predict(X_test[self.features], is_continuous)\n",
    "\n",
    "        # need label encoder for XGB\n",
    "        y_train_local = y_train\n",
    "        y_test_local = y_test\n",
    "        if self.use_label_encoder:\n",
    "            y_train_local = LabelEncoder().fit_transform(y_train)\n",
    "            y_test_local = LabelEncoder().fit_transform(y_test)\n",
    "\n",
    "        # Confusion Matrix\n",
    "        if PARAM_GENERATE_CONFIDENCE_MATRIX:\n",
    "            conf_matrix = confusion_matrix(y_test_local, preds)\n",
    "            disp1 = ConfusionMatrixDisplay(conf_matrix, display_labels=['run', 'pass' ])\n",
    "            # plt.title(\"Confusion Matrix\")\n",
    "            disp1.plot(ax=ax[0])\n",
    "            # print(f\"Precision: {precision_score(y_test_local, preds, labels=['run', 'pass' ], pos_label='run'):.4f}\")\n",
    "            # print(f\"Recall: {recall_score(y_test_local, preds, labels=['run', 'pass' ], pos_label='run'):.4f}\")            \n",
    "\n",
    "        # ROC Curve\n",
    "        y_score = None\n",
    "        if not is_continuous:\n",
    "            y_score = self.model.predict_proba(X_test[self.features])[:, 1]\n",
    "        else:\n",
    "            y_score = self.model.predict(X_test[self.features])\n",
    "        fpr, tpr, thresholds = roc_curve(y_test, y_score, pos_label='run') # \n",
    "        roc_auc_value = skl_auc(fpr, tpr)\n",
    "\n",
    "        disp2 = RocCurveDisplay(fpr=fpr, tpr=tpr, roc_auc=roc_auc_value)\n",
    "        disp2.plot(ax=ax[1])\n",
    "    \n",
    "    def run(self, is_continuous=False):\n",
    "        \"\"\"Run model training and gather results for future comparison\n",
    "        \"\"\"\n",
    "        features = self.features\n",
    "        global best_run\n",
    "        if not IS_TRAINING_MODE:\n",
    "            print(\"Not training models - IS_TRAINING_MODE=False\")\n",
    "            return\n",
    "        training_features = 0 if self.model_name == \"Dummy\" else len(TRAINING_FEATURES) - 1\n",
    "\n",
    "        # need label encoder for XGB\n",
    "        y_train_local = y_train\n",
    "        y_test_local = y_test\n",
    "        if self.use_label_encoder:\n",
    "            y_train_local = LabelEncoder().fit_transform(y_train)\n",
    "            y_test_local = LabelEncoder().fit_transform(y_test)\n",
    "\n",
    "        model = self.model\n",
    "        model.fit(X_train[features], y_train_local)\n",
    "        predictions = model.predict(X_test[features])\n",
    "        train_accuracy = accuracy_score(model.predict(X_train[features]), y_train_local)\n",
    "        test_accuracy = accuracy_score(predictions, y_test_local) \n",
    "        self.training_features = training_features\n",
    "        self.train_time = self.elapsed()\n",
    "        self.train_accuracy = train_accuracy\n",
    "        self.test_accuracy = test_accuracy\n",
    "        if self.prefix is not None:\n",
    "            X_test[f'{self.prefix}_pred'] = predictions\n",
    "        all_runs.append(self)\n",
    "        if best_run is None or self.test_accuracy > best_run.test_accuracy:\n",
    "            best_run = self\n",
    "\n",
    "        if PARAM_GENERATE_CONFIDENCE_MATRIX:\n",
    "            self.chart_roc_and_confusion(False)\n",
    "\n",
    "def optimize_model_params(pipeline, parameters_to_try, use_label_encoder=False):\n",
    "    \"\"\"Find the best parameters for this model\n",
    "    \"\"\"\n",
    "    if IS_TRAINING_MODE:\n",
    "        print(\"Not optimizing hyper parameters - IS_TRAINING_MODE=True\")\n",
    "        return\n",
    "    \n",
    "    # need label encoder for XGB\n",
    "    y_train_local = y_train\n",
    "    if use_label_encoder:\n",
    "        y_train_local = LabelEncoder().fit_transform(y_train)\n",
    "\n",
    "    model_finder = GridSearchCV(estimator = pipeline, \n",
    "                                param_grid = parameters_to_try, \n",
    "                                scoring = \"accuracy\",\n",
    "                                n_jobs=-1,      # parallelization\n",
    "                                cv = 5)\n",
    "    model_finder.fit(X_train, y_train_local)\n",
    "    append_best_params(\"LogisticRegression\", model_finder.best_params_)\n",
    "\n",
    "def show_run_output():\n",
    "    \"\"\"Print out model runs in markdown table\n",
    "    \"\"\"\n",
    "    if not IS_TRAINING_MODE:\n",
    "        return\n",
    "    print(f\"*Best Run is {best_run.test_accuracy:4f} from {best_run.model_name}*\\n\")\n",
    "    print(\"| Model | Features | Train Time | Train Accuracy | Test Accuracy |\")\n",
    "    print(\"| ----- | -------- | ---------- | -------------  | -----------   |\")\n",
    "    for r in all_runs:\n",
    "        print(f\"| {r.model_name} | {r.training_features} | {r.train_time} | {r.train_accuracy:.4f} | {r.test_accuracy:.4f} |\")\n",
    "\n",
    "all_best_features = []\n",
    "def find_best_features(sq_model, prefix, max_features=10, use_label_encoder=False):\n",
    "    \"\"\"Find the best features, will quit when local min hit\n",
    "    \"\"\"\n",
    "    if IS_TRAINING_MODE:\n",
    "        print(\"Not optimizing hyper parameters - IS_TRAINING_MODE=True\")\n",
    "        return\n",
    "    best_accuracy = 0.0\n",
    "    best_features = []\n",
    "    \n",
    "    # need label encoder for XGB\n",
    "    y_train_local = y_train\n",
    "    y_test_local = y_test\n",
    "    if use_label_encoder:\n",
    "        y_train_local = LabelEncoder().fit_transform(y_train)\n",
    "        y_test_local = LabelEncoder().fit_transform(y_test)    \n",
    "\n",
    "    last_test_accuracy = \"\"\n",
    "    for num_features in range(1, max_features + 1):\n",
    "        start = time.time()\n",
    "        selector = SequentialFeatureSelector(estimator=sq_model, n_features_to_select=num_features, n_jobs=-1)\n",
    "        pipeline = Pipeline([\n",
    "            # ('scaler', StandardScaler()),\n",
    "            ('sequential', selector)\n",
    "        ])\n",
    "        X_sfs = pipeline.fit_transform(X_train, y_train_local)\n",
    "\n",
    "        best_columns = selector.get_feature_names_out()\n",
    "\n",
    "        sq_model.fit(X_train[best_columns], y_train_local)\n",
    "        # train_accuracy = accuracy_score(sq_model.predict(X_train[best_columns]), y_train)\n",
    "        test_accuracy = accuracy_score(sq_model.predict(X_test[best_columns]), y_test_local)\n",
    "        if last_test_accuracy == f\"{test_accuracy:4f}\":\n",
    "            print(\"Test accuracy has flattened out - stopping search\")\n",
    "            break\n",
    "        last_test_accuracy = f\"{test_accuracy:4f}\"\n",
    "\n",
    "        elapsed_time = time.time() - start\n",
    "        print(f\"Best Training Accuracy for {num_features}: {test_accuracy:4f} in {elapsed_time:.4f} secs, features: {selector.get_feature_names_out()}\")\n",
    "\n",
    "        if test_accuracy > best_accuracy:\n",
    "            best_accuracy = test_accuracy\n",
    "            best_features = selector.get_feature_names_out()\n",
    "    print(f\"\\nOverall Best: {best_accuracy:4f} features: {best_features}\")\n",
    "    output = f\"{prefix}__features = [\"\n",
    "    for feature in best_features:\n",
    "        output += f\"'{feature}', \"\n",
    "    output += \"]\"\n",
    "    all_best_features.append(output)\n",
    "    return best_features\n",
    "\n",
    "def print_best_features():\n",
    "    \"\"\"Displays best features in a format that can be copy/pasted into Hyperparameters section\n",
    "    \"\"\"\n",
    "    for best_feature in all_best_features:\n",
    "        print(best_feature)\n"
   ]
  },
  {
   "cell_type": "markdown",
   "id": "3ed22e89",
   "metadata": {},
   "source": [
    "## EDA"
   ]
  },
  {
   "cell_type": "markdown",
   "id": "bc7d20f8",
   "metadata": {},
   "source": [
    "### Expectation: Teams pass substantially more in the last two minutes of each half"
   ]
  },
  {
   "cell_type": "code",
   "execution_count": 1258,
   "id": "fa3afa07",
   "metadata": {},
   "outputs": [
    {
     "data": {
      "application/vnd.plotly.v1+json": {
       "config": {
        "plotlyServerURL": "https://plot.ly"
       },
       "data": [
        {
         "hovertemplate": "mins_in_half=%{x}<br>pass_percent=%{y}<extra></extra>",
         "legendgroup": "",
         "marker": {
          "color": "#636efa",
          "symbol": "circle"
         },
         "mode": "markers",
         "name": "",
         "orientation": "v",
         "showlegend": false,
         "type": "scatter",
         "x": {
          "bdata": "4uPk5ebn6Onq6+zt7u/w8fLz9PX29/j5+vv8/f7/",
          "dtype": "i1"
         },
         "xaxis": "x",
         "y": {
          "bdata": "ovdMovdM4j9Qn5cG6vPiP0dASrsRkOI/FYeMvXb54T80WKEzWKHjP3086K37k+M/X0J7Ce0l5D9IEbAx2k7jP4G3HxJ4++E/mpmZmZmZ4z8cA6u9vzHgPzs6k2pHZ+I/X0J7Ce0l5D+hsLplwdfjP9u2bdu2beE/qPCOe3NF4j8/gvsI7iPgP/Q8z/M8z+M/bCivobyG4j/tyMEmbnziP1VVVVVVVeU/k9aWktaW4j83A9N1jjXiP0SlI3sGouI/iYiIiIiI4j/ipO7LYyviP+JwOBwOh+M//rLeL+v94j/P8zzP8zznP1/sTkUt8eo/",
          "dtype": "f8"
         },
         "yaxis": "y"
        },
        {
         "hovertemplate": "<b>OLS trendline</b><br>pass_percent = 0.00247825 * mins_in_half + 0.637846<br>R<sup>2</sup>=0.122424<br><br>mins_in_half=%{x}<br>pass_percent=%{y} <b>(trend)</b><extra></extra>",
         "legendgroup": "",
         "marker": {
          "color": "#636efa",
          "symbol": "circle"
         },
         "mode": "lines",
         "name": "",
         "showlegend": false,
         "type": "scatter",
         "x": {
          "bdata": "4uPk5ebn6Onq6+zt7u/w8fLz9PX29/j5+vv8/f7/",
          "dtype": "i1"
         },
         "xaxis": "x",
         "y": {
          "bdata": "XBTpKS0I4j9ZLCdtehziP1ZEZbDHMOI/U1yj8xRF4j9QdOE2YlniP02MH3qvbeI/SqRdvfyB4j9IvJsASpbiP0XU2UOXquI/QuwXh+S+4j8/BFbKMdPiPzwclA1/5+I/OTTSUMz74j82TBCUGRDjPzNkTtdmJOM/MHyMGrQ44z8ulMpdAU3jPyusCKFOYeM/KMRG5Jt14z8l3IQn6YnjPyL0wmo2nuM/HwwBroOy4z8cJD/x0MbjPxk8fTQe2+M/FlS7d2vv4z8TbPm6uAPkPxGEN/4FGOQ/Dpx1QVMs5D8LtLOEoEDkPwjM8cftVOQ/",
          "dtype": "f8"
         },
         "yaxis": "y"
        }
       ],
       "layout": {
        "legend": {
         "tracegroupgap": 0
        },
        "template": {
         "data": {
          "bar": [
           {
            "error_x": {
             "color": "#2a3f5f"
            },
            "error_y": {
             "color": "#2a3f5f"
            },
            "marker": {
             "line": {
              "color": "#E5ECF6",
              "width": 0.5
             },
             "pattern": {
              "fillmode": "overlay",
              "size": 10,
              "solidity": 0.2
             }
            },
            "type": "bar"
           }
          ],
          "barpolar": [
           {
            "marker": {
             "line": {
              "color": "#E5ECF6",
              "width": 0.5
             },
             "pattern": {
              "fillmode": "overlay",
              "size": 10,
              "solidity": 0.2
             }
            },
            "type": "barpolar"
           }
          ],
          "carpet": [
           {
            "aaxis": {
             "endlinecolor": "#2a3f5f",
             "gridcolor": "white",
             "linecolor": "white",
             "minorgridcolor": "white",
             "startlinecolor": "#2a3f5f"
            },
            "baxis": {
             "endlinecolor": "#2a3f5f",
             "gridcolor": "white",
             "linecolor": "white",
             "minorgridcolor": "white",
             "startlinecolor": "#2a3f5f"
            },
            "type": "carpet"
           }
          ],
          "choropleth": [
           {
            "colorbar": {
             "outlinewidth": 0,
             "ticks": ""
            },
            "type": "choropleth"
           }
          ],
          "contour": [
           {
            "colorbar": {
             "outlinewidth": 0,
             "ticks": ""
            },
            "colorscale": [
             [
              0,
              "#0d0887"
             ],
             [
              0.1111111111111111,
              "#46039f"
             ],
             [
              0.2222222222222222,
              "#7201a8"
             ],
             [
              0.3333333333333333,
              "#9c179e"
             ],
             [
              0.4444444444444444,
              "#bd3786"
             ],
             [
              0.5555555555555556,
              "#d8576b"
             ],
             [
              0.6666666666666666,
              "#ed7953"
             ],
             [
              0.7777777777777778,
              "#fb9f3a"
             ],
             [
              0.8888888888888888,
              "#fdca26"
             ],
             [
              1,
              "#f0f921"
             ]
            ],
            "type": "contour"
           }
          ],
          "contourcarpet": [
           {
            "colorbar": {
             "outlinewidth": 0,
             "ticks": ""
            },
            "type": "contourcarpet"
           }
          ],
          "heatmap": [
           {
            "colorbar": {
             "outlinewidth": 0,
             "ticks": ""
            },
            "colorscale": [
             [
              0,
              "#0d0887"
             ],
             [
              0.1111111111111111,
              "#46039f"
             ],
             [
              0.2222222222222222,
              "#7201a8"
             ],
             [
              0.3333333333333333,
              "#9c179e"
             ],
             [
              0.4444444444444444,
              "#bd3786"
             ],
             [
              0.5555555555555556,
              "#d8576b"
             ],
             [
              0.6666666666666666,
              "#ed7953"
             ],
             [
              0.7777777777777778,
              "#fb9f3a"
             ],
             [
              0.8888888888888888,
              "#fdca26"
             ],
             [
              1,
              "#f0f921"
             ]
            ],
            "type": "heatmap"
           }
          ],
          "histogram": [
           {
            "marker": {
             "pattern": {
              "fillmode": "overlay",
              "size": 10,
              "solidity": 0.2
             }
            },
            "type": "histogram"
           }
          ],
          "histogram2d": [
           {
            "colorbar": {
             "outlinewidth": 0,
             "ticks": ""
            },
            "colorscale": [
             [
              0,
              "#0d0887"
             ],
             [
              0.1111111111111111,
              "#46039f"
             ],
             [
              0.2222222222222222,
              "#7201a8"
             ],
             [
              0.3333333333333333,
              "#9c179e"
             ],
             [
              0.4444444444444444,
              "#bd3786"
             ],
             [
              0.5555555555555556,
              "#d8576b"
             ],
             [
              0.6666666666666666,
              "#ed7953"
             ],
             [
              0.7777777777777778,
              "#fb9f3a"
             ],
             [
              0.8888888888888888,
              "#fdca26"
             ],
             [
              1,
              "#f0f921"
             ]
            ],
            "type": "histogram2d"
           }
          ],
          "histogram2dcontour": [
           {
            "colorbar": {
             "outlinewidth": 0,
             "ticks": ""
            },
            "colorscale": [
             [
              0,
              "#0d0887"
             ],
             [
              0.1111111111111111,
              "#46039f"
             ],
             [
              0.2222222222222222,
              "#7201a8"
             ],
             [
              0.3333333333333333,
              "#9c179e"
             ],
             [
              0.4444444444444444,
              "#bd3786"
             ],
             [
              0.5555555555555556,
              "#d8576b"
             ],
             [
              0.6666666666666666,
              "#ed7953"
             ],
             [
              0.7777777777777778,
              "#fb9f3a"
             ],
             [
              0.8888888888888888,
              "#fdca26"
             ],
             [
              1,
              "#f0f921"
             ]
            ],
            "type": "histogram2dcontour"
           }
          ],
          "mesh3d": [
           {
            "colorbar": {
             "outlinewidth": 0,
             "ticks": ""
            },
            "type": "mesh3d"
           }
          ],
          "parcoords": [
           {
            "line": {
             "colorbar": {
              "outlinewidth": 0,
              "ticks": ""
             }
            },
            "type": "parcoords"
           }
          ],
          "pie": [
           {
            "automargin": true,
            "type": "pie"
           }
          ],
          "scatter": [
           {
            "fillpattern": {
             "fillmode": "overlay",
             "size": 10,
             "solidity": 0.2
            },
            "type": "scatter"
           }
          ],
          "scatter3d": [
           {
            "line": {
             "colorbar": {
              "outlinewidth": 0,
              "ticks": ""
             }
            },
            "marker": {
             "colorbar": {
              "outlinewidth": 0,
              "ticks": ""
             }
            },
            "type": "scatter3d"
           }
          ],
          "scattercarpet": [
           {
            "marker": {
             "colorbar": {
              "outlinewidth": 0,
              "ticks": ""
             }
            },
            "type": "scattercarpet"
           }
          ],
          "scattergeo": [
           {
            "marker": {
             "colorbar": {
              "outlinewidth": 0,
              "ticks": ""
             }
            },
            "type": "scattergeo"
           }
          ],
          "scattergl": [
           {
            "marker": {
             "colorbar": {
              "outlinewidth": 0,
              "ticks": ""
             }
            },
            "type": "scattergl"
           }
          ],
          "scattermap": [
           {
            "marker": {
             "colorbar": {
              "outlinewidth": 0,
              "ticks": ""
             }
            },
            "type": "scattermap"
           }
          ],
          "scattermapbox": [
           {
            "marker": {
             "colorbar": {
              "outlinewidth": 0,
              "ticks": ""
             }
            },
            "type": "scattermapbox"
           }
          ],
          "scatterpolar": [
           {
            "marker": {
             "colorbar": {
              "outlinewidth": 0,
              "ticks": ""
             }
            },
            "type": "scatterpolar"
           }
          ],
          "scatterpolargl": [
           {
            "marker": {
             "colorbar": {
              "outlinewidth": 0,
              "ticks": ""
             }
            },
            "type": "scatterpolargl"
           }
          ],
          "scatterternary": [
           {
            "marker": {
             "colorbar": {
              "outlinewidth": 0,
              "ticks": ""
             }
            },
            "type": "scatterternary"
           }
          ],
          "surface": [
           {
            "colorbar": {
             "outlinewidth": 0,
             "ticks": ""
            },
            "colorscale": [
             [
              0,
              "#0d0887"
             ],
             [
              0.1111111111111111,
              "#46039f"
             ],
             [
              0.2222222222222222,
              "#7201a8"
             ],
             [
              0.3333333333333333,
              "#9c179e"
             ],
             [
              0.4444444444444444,
              "#bd3786"
             ],
             [
              0.5555555555555556,
              "#d8576b"
             ],
             [
              0.6666666666666666,
              "#ed7953"
             ],
             [
              0.7777777777777778,
              "#fb9f3a"
             ],
             [
              0.8888888888888888,
              "#fdca26"
             ],
             [
              1,
              "#f0f921"
             ]
            ],
            "type": "surface"
           }
          ],
          "table": [
           {
            "cells": {
             "fill": {
              "color": "#EBF0F8"
             },
             "line": {
              "color": "white"
             }
            },
            "header": {
             "fill": {
              "color": "#C8D4E3"
             },
             "line": {
              "color": "white"
             }
            },
            "type": "table"
           }
          ]
         },
         "layout": {
          "annotationdefaults": {
           "arrowcolor": "#2a3f5f",
           "arrowhead": 0,
           "arrowwidth": 1
          },
          "autotypenumbers": "strict",
          "coloraxis": {
           "colorbar": {
            "outlinewidth": 0,
            "ticks": ""
           }
          },
          "colorscale": {
           "diverging": [
            [
             0,
             "#8e0152"
            ],
            [
             0.1,
             "#c51b7d"
            ],
            [
             0.2,
             "#de77ae"
            ],
            [
             0.3,
             "#f1b6da"
            ],
            [
             0.4,
             "#fde0ef"
            ],
            [
             0.5,
             "#f7f7f7"
            ],
            [
             0.6,
             "#e6f5d0"
            ],
            [
             0.7,
             "#b8e186"
            ],
            [
             0.8,
             "#7fbc41"
            ],
            [
             0.9,
             "#4d9221"
            ],
            [
             1,
             "#276419"
            ]
           ],
           "sequential": [
            [
             0,
             "#0d0887"
            ],
            [
             0.1111111111111111,
             "#46039f"
            ],
            [
             0.2222222222222222,
             "#7201a8"
            ],
            [
             0.3333333333333333,
             "#9c179e"
            ],
            [
             0.4444444444444444,
             "#bd3786"
            ],
            [
             0.5555555555555556,
             "#d8576b"
            ],
            [
             0.6666666666666666,
             "#ed7953"
            ],
            [
             0.7777777777777778,
             "#fb9f3a"
            ],
            [
             0.8888888888888888,
             "#fdca26"
            ],
            [
             1,
             "#f0f921"
            ]
           ],
           "sequentialminus": [
            [
             0,
             "#0d0887"
            ],
            [
             0.1111111111111111,
             "#46039f"
            ],
            [
             0.2222222222222222,
             "#7201a8"
            ],
            [
             0.3333333333333333,
             "#9c179e"
            ],
            [
             0.4444444444444444,
             "#bd3786"
            ],
            [
             0.5555555555555556,
             "#d8576b"
            ],
            [
             0.6666666666666666,
             "#ed7953"
            ],
            [
             0.7777777777777778,
             "#fb9f3a"
            ],
            [
             0.8888888888888888,
             "#fdca26"
            ],
            [
             1,
             "#f0f921"
            ]
           ]
          },
          "colorway": [
           "#636efa",
           "#EF553B",
           "#00cc96",
           "#ab63fa",
           "#FFA15A",
           "#19d3f3",
           "#FF6692",
           "#B6E880",
           "#FF97FF",
           "#FECB52"
          ],
          "font": {
           "color": "#2a3f5f"
          },
          "geo": {
           "bgcolor": "white",
           "lakecolor": "white",
           "landcolor": "#E5ECF6",
           "showlakes": true,
           "showland": true,
           "subunitcolor": "white"
          },
          "hoverlabel": {
           "align": "left"
          },
          "hovermode": "closest",
          "mapbox": {
           "style": "light"
          },
          "paper_bgcolor": "white",
          "plot_bgcolor": "#E5ECF6",
          "polar": {
           "angularaxis": {
            "gridcolor": "white",
            "linecolor": "white",
            "ticks": ""
           },
           "bgcolor": "#E5ECF6",
           "radialaxis": {
            "gridcolor": "white",
            "linecolor": "white",
            "ticks": ""
           }
          },
          "scene": {
           "xaxis": {
            "backgroundcolor": "#E5ECF6",
            "gridcolor": "white",
            "gridwidth": 2,
            "linecolor": "white",
            "showbackground": true,
            "ticks": "",
            "zerolinecolor": "white"
           },
           "yaxis": {
            "backgroundcolor": "#E5ECF6",
            "gridcolor": "white",
            "gridwidth": 2,
            "linecolor": "white",
            "showbackground": true,
            "ticks": "",
            "zerolinecolor": "white"
           },
           "zaxis": {
            "backgroundcolor": "#E5ECF6",
            "gridcolor": "white",
            "gridwidth": 2,
            "linecolor": "white",
            "showbackground": true,
            "ticks": "",
            "zerolinecolor": "white"
           }
          },
          "shapedefaults": {
           "line": {
            "color": "#2a3f5f"
           }
          },
          "ternary": {
           "aaxis": {
            "gridcolor": "white",
            "linecolor": "white",
            "ticks": ""
           },
           "baxis": {
            "gridcolor": "white",
            "linecolor": "white",
            "ticks": ""
           },
           "bgcolor": "#E5ECF6",
           "caxis": {
            "gridcolor": "white",
            "linecolor": "white",
            "ticks": ""
           }
          },
          "title": {
           "x": 0.05
          },
          "xaxis": {
           "automargin": true,
           "gridcolor": "white",
           "linecolor": "white",
           "ticks": "",
           "title": {
            "standoff": 15
           },
           "zerolinecolor": "white",
           "zerolinewidth": 2
          },
          "yaxis": {
           "automargin": true,
           "gridcolor": "white",
           "linecolor": "white",
           "ticks": "",
           "title": {
            "standoff": 15
           },
           "zerolinecolor": "white",
           "zerolinewidth": 2
          }
         }
        },
        "title": {
         "text": "Percentage of Passing Plays by Time Remaining in First Half"
        },
        "xaxis": {
         "anchor": "y",
         "domain": [
          0,
          1
         ],
         "title": {
          "text": "mins_in_half"
         }
        },
        "yaxis": {
         "anchor": "x",
         "domain": [
          0,
          1
         ],
         "title": {
          "text": "pass_percent"
         }
        }
       }
      }
     },
     "metadata": {},
     "output_type": "display_data"
    }
   ],
   "source": [
    "df['pass_percent'] = df.apply(lambda p: 1 if p.play_result == \"pass\" else 0, axis = 1)\n",
    "df['mins_in_half'] = df.apply(lambda p: 30 - math.ceil(p.secs_remaining / 60), axis = 1)\n",
    "\n",
    "pass_by_min = df.loc[(df.quarter < 3), ['mins_in_half', 'pass_percent'] ].groupby(['mins_in_half']).mean('pass_percent').reset_index()\n",
    "\n",
    "px.scatter(pass_by_min, x='mins_in_half', y='pass_percent', trendline='ols', title='Percentage of Passing Plays by Time Remaining in First Half')"
   ]
  },
  {
   "cell_type": "code",
   "execution_count": 1259,
   "id": "5c319403",
   "metadata": {},
   "outputs": [
    {
     "data": {
      "application/vnd.plotly.v1+json": {
       "config": {
        "plotlyServerURL": "https://plot.ly"
       },
       "data": [
        {
         "hovertemplate": "mins_in_half=%{x}<br>pass_percent=%{y}<extra></extra>",
         "legendgroup": "",
         "marker": {
          "color": "#636efa",
          "symbol": "circle"
         },
         "mode": "markers",
         "name": "",
         "orientation": "v",
         "showlegend": false,
         "type": "scatter",
         "x": {
          "bdata": "Hh8gISIjJCUmJygpKissLS4vMDEyMzQ1Njc4OTo7",
          "dtype": "i1"
         },
         "xaxis": "x",
         "y": {
          "bdata": "+ResJXzN4D8FfPNq4lnhPzMwXedYI+E/g2xDQPE54z9huacRlnviP4+4I+6IO+I/9DzP8zzP4z8RyDURyDXhP7P7jbL7jeI/Am8/JPD24z/jBTIpXiDjP2gMRwsSUOM/IQtZyEIW4j/b0ZlUOzrjP5zcTe4md+M/dRruXlYJ5D/sUbgehevhPy0TRMsE0eI/yGXFQAlv5D/KZDKZTCbjP70loYa0veI/FYeMvXb54T+RLJOeEcniP0U+6wZT5OM/EI31obE+5D+jYFGwKFjkP2ZmZmZmZuI/lzHl67CE4z/S+cu0sRfiP7XGrm8mq+Q/",
          "dtype": "f8"
         },
         "yaxis": "y"
        },
        {
         "hovertemplate": "<b>OLS trendline</b><br>pass_percent = 0.00182382 * mins_in_half + 0.509474<br>R<sup>2</sup>=0.241242<br><br>mins_in_half=%{x}<br>pass_percent=%{y} <b>(trend)</b><extra></extra>",
         "legendgroup": "",
         "marker": {
          "color": "#636efa",
          "symbol": "circle"
         },
         "mode": "lines",
         "name": "",
         "showlegend": false,
         "type": "scatter",
         "x": {
          "bdata": "Hh8gISIjJCUmJygpKissLS4vMDEyMzQ1Njc4OTo7",
          "dtype": "i1"
         },
         "xaxis": "x",
         "y": {
          "bdata": "/cBdctYN4j9/CrxIxxziPwJUGh+4K+I/hJ149ag64j8H59bLmUniP4owNaKKWOI/DHqTeHtn4j+Pw/FObHbiPxENUCVdheI/lFau+02U4j8WoAzSPqPiP5npaqgvsuI/GzPJfiDB4j+efCdVEdDiPyHGhSsC3+I/ow/kAfPt4j8mWULY4/ziP6iioK7UC+M/K+z+hMUa4z+tNV1btinjPzB/uzGnOOM/ssgZCJhH4z81EnjeiFbjP7hb1rR5ZeM/OqU0i2p04z+97pJhW4PjPz848TdMkuM/woFPDj2h4z9Ey63kLbDjP8cUDLsev+M/",
          "dtype": "f8"
         },
         "yaxis": "y"
        }
       ],
       "layout": {
        "legend": {
         "tracegroupgap": 0
        },
        "template": {
         "data": {
          "bar": [
           {
            "error_x": {
             "color": "#2a3f5f"
            },
            "error_y": {
             "color": "#2a3f5f"
            },
            "marker": {
             "line": {
              "color": "#E5ECF6",
              "width": 0.5
             },
             "pattern": {
              "fillmode": "overlay",
              "size": 10,
              "solidity": 0.2
             }
            },
            "type": "bar"
           }
          ],
          "barpolar": [
           {
            "marker": {
             "line": {
              "color": "#E5ECF6",
              "width": 0.5
             },
             "pattern": {
              "fillmode": "overlay",
              "size": 10,
              "solidity": 0.2
             }
            },
            "type": "barpolar"
           }
          ],
          "carpet": [
           {
            "aaxis": {
             "endlinecolor": "#2a3f5f",
             "gridcolor": "white",
             "linecolor": "white",
             "minorgridcolor": "white",
             "startlinecolor": "#2a3f5f"
            },
            "baxis": {
             "endlinecolor": "#2a3f5f",
             "gridcolor": "white",
             "linecolor": "white",
             "minorgridcolor": "white",
             "startlinecolor": "#2a3f5f"
            },
            "type": "carpet"
           }
          ],
          "choropleth": [
           {
            "colorbar": {
             "outlinewidth": 0,
             "ticks": ""
            },
            "type": "choropleth"
           }
          ],
          "contour": [
           {
            "colorbar": {
             "outlinewidth": 0,
             "ticks": ""
            },
            "colorscale": [
             [
              0,
              "#0d0887"
             ],
             [
              0.1111111111111111,
              "#46039f"
             ],
             [
              0.2222222222222222,
              "#7201a8"
             ],
             [
              0.3333333333333333,
              "#9c179e"
             ],
             [
              0.4444444444444444,
              "#bd3786"
             ],
             [
              0.5555555555555556,
              "#d8576b"
             ],
             [
              0.6666666666666666,
              "#ed7953"
             ],
             [
              0.7777777777777778,
              "#fb9f3a"
             ],
             [
              0.8888888888888888,
              "#fdca26"
             ],
             [
              1,
              "#f0f921"
             ]
            ],
            "type": "contour"
           }
          ],
          "contourcarpet": [
           {
            "colorbar": {
             "outlinewidth": 0,
             "ticks": ""
            },
            "type": "contourcarpet"
           }
          ],
          "heatmap": [
           {
            "colorbar": {
             "outlinewidth": 0,
             "ticks": ""
            },
            "colorscale": [
             [
              0,
              "#0d0887"
             ],
             [
              0.1111111111111111,
              "#46039f"
             ],
             [
              0.2222222222222222,
              "#7201a8"
             ],
             [
              0.3333333333333333,
              "#9c179e"
             ],
             [
              0.4444444444444444,
              "#bd3786"
             ],
             [
              0.5555555555555556,
              "#d8576b"
             ],
             [
              0.6666666666666666,
              "#ed7953"
             ],
             [
              0.7777777777777778,
              "#fb9f3a"
             ],
             [
              0.8888888888888888,
              "#fdca26"
             ],
             [
              1,
              "#f0f921"
             ]
            ],
            "type": "heatmap"
           }
          ],
          "histogram": [
           {
            "marker": {
             "pattern": {
              "fillmode": "overlay",
              "size": 10,
              "solidity": 0.2
             }
            },
            "type": "histogram"
           }
          ],
          "histogram2d": [
           {
            "colorbar": {
             "outlinewidth": 0,
             "ticks": ""
            },
            "colorscale": [
             [
              0,
              "#0d0887"
             ],
             [
              0.1111111111111111,
              "#46039f"
             ],
             [
              0.2222222222222222,
              "#7201a8"
             ],
             [
              0.3333333333333333,
              "#9c179e"
             ],
             [
              0.4444444444444444,
              "#bd3786"
             ],
             [
              0.5555555555555556,
              "#d8576b"
             ],
             [
              0.6666666666666666,
              "#ed7953"
             ],
             [
              0.7777777777777778,
              "#fb9f3a"
             ],
             [
              0.8888888888888888,
              "#fdca26"
             ],
             [
              1,
              "#f0f921"
             ]
            ],
            "type": "histogram2d"
           }
          ],
          "histogram2dcontour": [
           {
            "colorbar": {
             "outlinewidth": 0,
             "ticks": ""
            },
            "colorscale": [
             [
              0,
              "#0d0887"
             ],
             [
              0.1111111111111111,
              "#46039f"
             ],
             [
              0.2222222222222222,
              "#7201a8"
             ],
             [
              0.3333333333333333,
              "#9c179e"
             ],
             [
              0.4444444444444444,
              "#bd3786"
             ],
             [
              0.5555555555555556,
              "#d8576b"
             ],
             [
              0.6666666666666666,
              "#ed7953"
             ],
             [
              0.7777777777777778,
              "#fb9f3a"
             ],
             [
              0.8888888888888888,
              "#fdca26"
             ],
             [
              1,
              "#f0f921"
             ]
            ],
            "type": "histogram2dcontour"
           }
          ],
          "mesh3d": [
           {
            "colorbar": {
             "outlinewidth": 0,
             "ticks": ""
            },
            "type": "mesh3d"
           }
          ],
          "parcoords": [
           {
            "line": {
             "colorbar": {
              "outlinewidth": 0,
              "ticks": ""
             }
            },
            "type": "parcoords"
           }
          ],
          "pie": [
           {
            "automargin": true,
            "type": "pie"
           }
          ],
          "scatter": [
           {
            "fillpattern": {
             "fillmode": "overlay",
             "size": 10,
             "solidity": 0.2
            },
            "type": "scatter"
           }
          ],
          "scatter3d": [
           {
            "line": {
             "colorbar": {
              "outlinewidth": 0,
              "ticks": ""
             }
            },
            "marker": {
             "colorbar": {
              "outlinewidth": 0,
              "ticks": ""
             }
            },
            "type": "scatter3d"
           }
          ],
          "scattercarpet": [
           {
            "marker": {
             "colorbar": {
              "outlinewidth": 0,
              "ticks": ""
             }
            },
            "type": "scattercarpet"
           }
          ],
          "scattergeo": [
           {
            "marker": {
             "colorbar": {
              "outlinewidth": 0,
              "ticks": ""
             }
            },
            "type": "scattergeo"
           }
          ],
          "scattergl": [
           {
            "marker": {
             "colorbar": {
              "outlinewidth": 0,
              "ticks": ""
             }
            },
            "type": "scattergl"
           }
          ],
          "scattermap": [
           {
            "marker": {
             "colorbar": {
              "outlinewidth": 0,
              "ticks": ""
             }
            },
            "type": "scattermap"
           }
          ],
          "scattermapbox": [
           {
            "marker": {
             "colorbar": {
              "outlinewidth": 0,
              "ticks": ""
             }
            },
            "type": "scattermapbox"
           }
          ],
          "scatterpolar": [
           {
            "marker": {
             "colorbar": {
              "outlinewidth": 0,
              "ticks": ""
             }
            },
            "type": "scatterpolar"
           }
          ],
          "scatterpolargl": [
           {
            "marker": {
             "colorbar": {
              "outlinewidth": 0,
              "ticks": ""
             }
            },
            "type": "scatterpolargl"
           }
          ],
          "scatterternary": [
           {
            "marker": {
             "colorbar": {
              "outlinewidth": 0,
              "ticks": ""
             }
            },
            "type": "scatterternary"
           }
          ],
          "surface": [
           {
            "colorbar": {
             "outlinewidth": 0,
             "ticks": ""
            },
            "colorscale": [
             [
              0,
              "#0d0887"
             ],
             [
              0.1111111111111111,
              "#46039f"
             ],
             [
              0.2222222222222222,
              "#7201a8"
             ],
             [
              0.3333333333333333,
              "#9c179e"
             ],
             [
              0.4444444444444444,
              "#bd3786"
             ],
             [
              0.5555555555555556,
              "#d8576b"
             ],
             [
              0.6666666666666666,
              "#ed7953"
             ],
             [
              0.7777777777777778,
              "#fb9f3a"
             ],
             [
              0.8888888888888888,
              "#fdca26"
             ],
             [
              1,
              "#f0f921"
             ]
            ],
            "type": "surface"
           }
          ],
          "table": [
           {
            "cells": {
             "fill": {
              "color": "#EBF0F8"
             },
             "line": {
              "color": "white"
             }
            },
            "header": {
             "fill": {
              "color": "#C8D4E3"
             },
             "line": {
              "color": "white"
             }
            },
            "type": "table"
           }
          ]
         },
         "layout": {
          "annotationdefaults": {
           "arrowcolor": "#2a3f5f",
           "arrowhead": 0,
           "arrowwidth": 1
          },
          "autotypenumbers": "strict",
          "coloraxis": {
           "colorbar": {
            "outlinewidth": 0,
            "ticks": ""
           }
          },
          "colorscale": {
           "diverging": [
            [
             0,
             "#8e0152"
            ],
            [
             0.1,
             "#c51b7d"
            ],
            [
             0.2,
             "#de77ae"
            ],
            [
             0.3,
             "#f1b6da"
            ],
            [
             0.4,
             "#fde0ef"
            ],
            [
             0.5,
             "#f7f7f7"
            ],
            [
             0.6,
             "#e6f5d0"
            ],
            [
             0.7,
             "#b8e186"
            ],
            [
             0.8,
             "#7fbc41"
            ],
            [
             0.9,
             "#4d9221"
            ],
            [
             1,
             "#276419"
            ]
           ],
           "sequential": [
            [
             0,
             "#0d0887"
            ],
            [
             0.1111111111111111,
             "#46039f"
            ],
            [
             0.2222222222222222,
             "#7201a8"
            ],
            [
             0.3333333333333333,
             "#9c179e"
            ],
            [
             0.4444444444444444,
             "#bd3786"
            ],
            [
             0.5555555555555556,
             "#d8576b"
            ],
            [
             0.6666666666666666,
             "#ed7953"
            ],
            [
             0.7777777777777778,
             "#fb9f3a"
            ],
            [
             0.8888888888888888,
             "#fdca26"
            ],
            [
             1,
             "#f0f921"
            ]
           ],
           "sequentialminus": [
            [
             0,
             "#0d0887"
            ],
            [
             0.1111111111111111,
             "#46039f"
            ],
            [
             0.2222222222222222,
             "#7201a8"
            ],
            [
             0.3333333333333333,
             "#9c179e"
            ],
            [
             0.4444444444444444,
             "#bd3786"
            ],
            [
             0.5555555555555556,
             "#d8576b"
            ],
            [
             0.6666666666666666,
             "#ed7953"
            ],
            [
             0.7777777777777778,
             "#fb9f3a"
            ],
            [
             0.8888888888888888,
             "#fdca26"
            ],
            [
             1,
             "#f0f921"
            ]
           ]
          },
          "colorway": [
           "#636efa",
           "#EF553B",
           "#00cc96",
           "#ab63fa",
           "#FFA15A",
           "#19d3f3",
           "#FF6692",
           "#B6E880",
           "#FF97FF",
           "#FECB52"
          ],
          "font": {
           "color": "#2a3f5f"
          },
          "geo": {
           "bgcolor": "white",
           "lakecolor": "white",
           "landcolor": "#E5ECF6",
           "showlakes": true,
           "showland": true,
           "subunitcolor": "white"
          },
          "hoverlabel": {
           "align": "left"
          },
          "hovermode": "closest",
          "mapbox": {
           "style": "light"
          },
          "paper_bgcolor": "white",
          "plot_bgcolor": "#E5ECF6",
          "polar": {
           "angularaxis": {
            "gridcolor": "white",
            "linecolor": "white",
            "ticks": ""
           },
           "bgcolor": "#E5ECF6",
           "radialaxis": {
            "gridcolor": "white",
            "linecolor": "white",
            "ticks": ""
           }
          },
          "scene": {
           "xaxis": {
            "backgroundcolor": "#E5ECF6",
            "gridcolor": "white",
            "gridwidth": 2,
            "linecolor": "white",
            "showbackground": true,
            "ticks": "",
            "zerolinecolor": "white"
           },
           "yaxis": {
            "backgroundcolor": "#E5ECF6",
            "gridcolor": "white",
            "gridwidth": 2,
            "linecolor": "white",
            "showbackground": true,
            "ticks": "",
            "zerolinecolor": "white"
           },
           "zaxis": {
            "backgroundcolor": "#E5ECF6",
            "gridcolor": "white",
            "gridwidth": 2,
            "linecolor": "white",
            "showbackground": true,
            "ticks": "",
            "zerolinecolor": "white"
           }
          },
          "shapedefaults": {
           "line": {
            "color": "#2a3f5f"
           }
          },
          "ternary": {
           "aaxis": {
            "gridcolor": "white",
            "linecolor": "white",
            "ticks": ""
           },
           "baxis": {
            "gridcolor": "white",
            "linecolor": "white",
            "ticks": ""
           },
           "bgcolor": "#E5ECF6",
           "caxis": {
            "gridcolor": "white",
            "linecolor": "white",
            "ticks": ""
           }
          },
          "title": {
           "x": 0.05
          },
          "xaxis": {
           "automargin": true,
           "gridcolor": "white",
           "linecolor": "white",
           "ticks": "",
           "title": {
            "standoff": 15
           },
           "zerolinecolor": "white",
           "zerolinewidth": 2
          },
          "yaxis": {
           "automargin": true,
           "gridcolor": "white",
           "linecolor": "white",
           "ticks": "",
           "title": {
            "standoff": 15
           },
           "zerolinecolor": "white",
           "zerolinewidth": 2
          }
         }
        },
        "title": {
         "text": "Percentage of Passing Plays by Time Remaining in Second Half"
        },
        "xaxis": {
         "anchor": "y",
         "domain": [
          0,
          1
         ],
         "title": {
          "text": "mins_in_half"
         }
        },
        "yaxis": {
         "anchor": "x",
         "domain": [
          0,
          1
         ],
         "title": {
          "text": "pass_percent"
         }
        }
       }
      }
     },
     "metadata": {},
     "output_type": "display_data"
    }
   ],
   "source": [
    "df['mins_in_half'] = df.apply(lambda p: 60 - math.ceil(p.secs_remaining / 60), axis = 1)\n",
    "\n",
    "pass_by_min = df.loc[(df.quarter == 3) | (df.quarter == 4), ['mins_in_half', 'pass_percent'] ].groupby(['mins_in_half']).mean('pass_percent').reset_index()\n",
    "\n",
    "px.scatter(pass_by_min, x='mins_in_half', y='pass_percent', trendline='ols', title='Percentage of Passing Plays by Time Remaining in Second Half')"
   ]
  },
  {
   "cell_type": "markdown",
   "id": "ead1e774",
   "metadata": {},
   "source": [
    "### Expectation: Teams pass more based on how much they are winning or losing"
   ]
  },
  {
   "cell_type": "code",
   "execution_count": 1260,
   "id": "84be4bef",
   "metadata": {},
   "outputs": [
    {
     "data": {
      "application/vnd.plotly.v1+json": {
       "config": {
        "plotlyServerURL": "https://plot.ly"
       },
       "data": [
        {
         "hovertemplate": "score_offset=%{x}<br>pass_percent=%{y}<extra></extra>",
         "legendgroup": "",
         "marker": {
          "color": "#636efa",
          "symbol": "circle"
         },
         "mode": "markers",
         "name": "",
         "orientation": "v",
         "showlegend": false,
         "type": "scatter",
         "x": {
          "bdata": "7/Lz9PX29/j5+vv8/f7/AAECAwQFBgcKCwwO",
          "dtype": "i1"
         },
         "xaxis": "x",
         "y": {
          "bdata": "AAAAAAAA8D8zMzMzMzPjP5qZmZmZmdk/VVVVVVVV1T8AAAAAAADkP6J2JWpXouY/AAAAAAAA4D8AAAAAAADgPwOW9PKnLeQ/Hh4eHh4e3j9VVVVVVVXlP5Fp2G6WJ+E/5ewWfjUm4j+amZmZmZnpP6uqqqqqquo/GHjAdv/l4j/qTW9605vePzMzMzMzM+M/8RVf8RVf4T8/Wk1CFH/hP5qZmZmZmek/chzHcRzH4T8yBwG3PpvhPwAAAAAAAOg/AAAAAAAA6D8AAAAAAADwP5qZmZmZmek/",
          "dtype": "f8"
         },
         "yaxis": "y"
        },
        {
         "hovertemplate": "<b>OLS trendline</b><br>pass_percent = 0.00600917 * score_offset + 0.645063<br>R<sup>2</sup>=0.098768<br><br>score_offset=%{x}<br>pass_percent=%{y} <b>(trend)</b><extra></extra>",
         "legendgroup": "",
         "marker": {
          "color": "#636efa",
          "symbol": "circle"
         },
         "mode": "lines",
         "name": "",
         "showlegend": false,
         "type": "scatter",
         "x": {
          "bdata": "7/Lz9PX29/j5+vv8/f7/AAECAwQFBgcKCwwO",
          "dtype": "i1"
         },
         "xaxis": "x",
         "y": {
          "bdata": "/Woa435f4T/LCYZOLfPhPxCUVHJnJOI/VR4jlqFV4j+aqPG524biP98ywN0VuOI/JL2OAVDp4j9pR10lihrjP67RK0nES+M/81v6bP584z845siQOK7jP3xwl7Ry3+M/wfpl2KwQ5D8GhTT85kHkP0sPAyAhc+Q/kJnRQ1uk5D/VI6BnldXkPxqubovPBuU/Xzg9rwk45T+kwgvTQ2nlP+hM2vZ9muU/LdeoGrjL5T9yYXc+8vzlP0EA46mgkOY/hoqxzdrB5j/LFIDxFPPmP1UpHTmJVec/",
          "dtype": "f8"
         },
         "yaxis": "y"
        }
       ],
       "layout": {
        "legend": {
         "tracegroupgap": 0
        },
        "template": {
         "data": {
          "bar": [
           {
            "error_x": {
             "color": "#2a3f5f"
            },
            "error_y": {
             "color": "#2a3f5f"
            },
            "marker": {
             "line": {
              "color": "#E5ECF6",
              "width": 0.5
             },
             "pattern": {
              "fillmode": "overlay",
              "size": 10,
              "solidity": 0.2
             }
            },
            "type": "bar"
           }
          ],
          "barpolar": [
           {
            "marker": {
             "line": {
              "color": "#E5ECF6",
              "width": 0.5
             },
             "pattern": {
              "fillmode": "overlay",
              "size": 10,
              "solidity": 0.2
             }
            },
            "type": "barpolar"
           }
          ],
          "carpet": [
           {
            "aaxis": {
             "endlinecolor": "#2a3f5f",
             "gridcolor": "white",
             "linecolor": "white",
             "minorgridcolor": "white",
             "startlinecolor": "#2a3f5f"
            },
            "baxis": {
             "endlinecolor": "#2a3f5f",
             "gridcolor": "white",
             "linecolor": "white",
             "minorgridcolor": "white",
             "startlinecolor": "#2a3f5f"
            },
            "type": "carpet"
           }
          ],
          "choropleth": [
           {
            "colorbar": {
             "outlinewidth": 0,
             "ticks": ""
            },
            "type": "choropleth"
           }
          ],
          "contour": [
           {
            "colorbar": {
             "outlinewidth": 0,
             "ticks": ""
            },
            "colorscale": [
             [
              0,
              "#0d0887"
             ],
             [
              0.1111111111111111,
              "#46039f"
             ],
             [
              0.2222222222222222,
              "#7201a8"
             ],
             [
              0.3333333333333333,
              "#9c179e"
             ],
             [
              0.4444444444444444,
              "#bd3786"
             ],
             [
              0.5555555555555556,
              "#d8576b"
             ],
             [
              0.6666666666666666,
              "#ed7953"
             ],
             [
              0.7777777777777778,
              "#fb9f3a"
             ],
             [
              0.8888888888888888,
              "#fdca26"
             ],
             [
              1,
              "#f0f921"
             ]
            ],
            "type": "contour"
           }
          ],
          "contourcarpet": [
           {
            "colorbar": {
             "outlinewidth": 0,
             "ticks": ""
            },
            "type": "contourcarpet"
           }
          ],
          "heatmap": [
           {
            "colorbar": {
             "outlinewidth": 0,
             "ticks": ""
            },
            "colorscale": [
             [
              0,
              "#0d0887"
             ],
             [
              0.1111111111111111,
              "#46039f"
             ],
             [
              0.2222222222222222,
              "#7201a8"
             ],
             [
              0.3333333333333333,
              "#9c179e"
             ],
             [
              0.4444444444444444,
              "#bd3786"
             ],
             [
              0.5555555555555556,
              "#d8576b"
             ],
             [
              0.6666666666666666,
              "#ed7953"
             ],
             [
              0.7777777777777778,
              "#fb9f3a"
             ],
             [
              0.8888888888888888,
              "#fdca26"
             ],
             [
              1,
              "#f0f921"
             ]
            ],
            "type": "heatmap"
           }
          ],
          "histogram": [
           {
            "marker": {
             "pattern": {
              "fillmode": "overlay",
              "size": 10,
              "solidity": 0.2
             }
            },
            "type": "histogram"
           }
          ],
          "histogram2d": [
           {
            "colorbar": {
             "outlinewidth": 0,
             "ticks": ""
            },
            "colorscale": [
             [
              0,
              "#0d0887"
             ],
             [
              0.1111111111111111,
              "#46039f"
             ],
             [
              0.2222222222222222,
              "#7201a8"
             ],
             [
              0.3333333333333333,
              "#9c179e"
             ],
             [
              0.4444444444444444,
              "#bd3786"
             ],
             [
              0.5555555555555556,
              "#d8576b"
             ],
             [
              0.6666666666666666,
              "#ed7953"
             ],
             [
              0.7777777777777778,
              "#fb9f3a"
             ],
             [
              0.8888888888888888,
              "#fdca26"
             ],
             [
              1,
              "#f0f921"
             ]
            ],
            "type": "histogram2d"
           }
          ],
          "histogram2dcontour": [
           {
            "colorbar": {
             "outlinewidth": 0,
             "ticks": ""
            },
            "colorscale": [
             [
              0,
              "#0d0887"
             ],
             [
              0.1111111111111111,
              "#46039f"
             ],
             [
              0.2222222222222222,
              "#7201a8"
             ],
             [
              0.3333333333333333,
              "#9c179e"
             ],
             [
              0.4444444444444444,
              "#bd3786"
             ],
             [
              0.5555555555555556,
              "#d8576b"
             ],
             [
              0.6666666666666666,
              "#ed7953"
             ],
             [
              0.7777777777777778,
              "#fb9f3a"
             ],
             [
              0.8888888888888888,
              "#fdca26"
             ],
             [
              1,
              "#f0f921"
             ]
            ],
            "type": "histogram2dcontour"
           }
          ],
          "mesh3d": [
           {
            "colorbar": {
             "outlinewidth": 0,
             "ticks": ""
            },
            "type": "mesh3d"
           }
          ],
          "parcoords": [
           {
            "line": {
             "colorbar": {
              "outlinewidth": 0,
              "ticks": ""
             }
            },
            "type": "parcoords"
           }
          ],
          "pie": [
           {
            "automargin": true,
            "type": "pie"
           }
          ],
          "scatter": [
           {
            "fillpattern": {
             "fillmode": "overlay",
             "size": 10,
             "solidity": 0.2
            },
            "type": "scatter"
           }
          ],
          "scatter3d": [
           {
            "line": {
             "colorbar": {
              "outlinewidth": 0,
              "ticks": ""
             }
            },
            "marker": {
             "colorbar": {
              "outlinewidth": 0,
              "ticks": ""
             }
            },
            "type": "scatter3d"
           }
          ],
          "scattercarpet": [
           {
            "marker": {
             "colorbar": {
              "outlinewidth": 0,
              "ticks": ""
             }
            },
            "type": "scattercarpet"
           }
          ],
          "scattergeo": [
           {
            "marker": {
             "colorbar": {
              "outlinewidth": 0,
              "ticks": ""
             }
            },
            "type": "scattergeo"
           }
          ],
          "scattergl": [
           {
            "marker": {
             "colorbar": {
              "outlinewidth": 0,
              "ticks": ""
             }
            },
            "type": "scattergl"
           }
          ],
          "scattermap": [
           {
            "marker": {
             "colorbar": {
              "outlinewidth": 0,
              "ticks": ""
             }
            },
            "type": "scattermap"
           }
          ],
          "scattermapbox": [
           {
            "marker": {
             "colorbar": {
              "outlinewidth": 0,
              "ticks": ""
             }
            },
            "type": "scattermapbox"
           }
          ],
          "scatterpolar": [
           {
            "marker": {
             "colorbar": {
              "outlinewidth": 0,
              "ticks": ""
             }
            },
            "type": "scatterpolar"
           }
          ],
          "scatterpolargl": [
           {
            "marker": {
             "colorbar": {
              "outlinewidth": 0,
              "ticks": ""
             }
            },
            "type": "scatterpolargl"
           }
          ],
          "scatterternary": [
           {
            "marker": {
             "colorbar": {
              "outlinewidth": 0,
              "ticks": ""
             }
            },
            "type": "scatterternary"
           }
          ],
          "surface": [
           {
            "colorbar": {
             "outlinewidth": 0,
             "ticks": ""
            },
            "colorscale": [
             [
              0,
              "#0d0887"
             ],
             [
              0.1111111111111111,
              "#46039f"
             ],
             [
              0.2222222222222222,
              "#7201a8"
             ],
             [
              0.3333333333333333,
              "#9c179e"
             ],
             [
              0.4444444444444444,
              "#bd3786"
             ],
             [
              0.5555555555555556,
              "#d8576b"
             ],
             [
              0.6666666666666666,
              "#ed7953"
             ],
             [
              0.7777777777777778,
              "#fb9f3a"
             ],
             [
              0.8888888888888888,
              "#fdca26"
             ],
             [
              1,
              "#f0f921"
             ]
            ],
            "type": "surface"
           }
          ],
          "table": [
           {
            "cells": {
             "fill": {
              "color": "#EBF0F8"
             },
             "line": {
              "color": "white"
             }
            },
            "header": {
             "fill": {
              "color": "#C8D4E3"
             },
             "line": {
              "color": "white"
             }
            },
            "type": "table"
           }
          ]
         },
         "layout": {
          "annotationdefaults": {
           "arrowcolor": "#2a3f5f",
           "arrowhead": 0,
           "arrowwidth": 1
          },
          "autotypenumbers": "strict",
          "coloraxis": {
           "colorbar": {
            "outlinewidth": 0,
            "ticks": ""
           }
          },
          "colorscale": {
           "diverging": [
            [
             0,
             "#8e0152"
            ],
            [
             0.1,
             "#c51b7d"
            ],
            [
             0.2,
             "#de77ae"
            ],
            [
             0.3,
             "#f1b6da"
            ],
            [
             0.4,
             "#fde0ef"
            ],
            [
             0.5,
             "#f7f7f7"
            ],
            [
             0.6,
             "#e6f5d0"
            ],
            [
             0.7,
             "#b8e186"
            ],
            [
             0.8,
             "#7fbc41"
            ],
            [
             0.9,
             "#4d9221"
            ],
            [
             1,
             "#276419"
            ]
           ],
           "sequential": [
            [
             0,
             "#0d0887"
            ],
            [
             0.1111111111111111,
             "#46039f"
            ],
            [
             0.2222222222222222,
             "#7201a8"
            ],
            [
             0.3333333333333333,
             "#9c179e"
            ],
            [
             0.4444444444444444,
             "#bd3786"
            ],
            [
             0.5555555555555556,
             "#d8576b"
            ],
            [
             0.6666666666666666,
             "#ed7953"
            ],
            [
             0.7777777777777778,
             "#fb9f3a"
            ],
            [
             0.8888888888888888,
             "#fdca26"
            ],
            [
             1,
             "#f0f921"
            ]
           ],
           "sequentialminus": [
            [
             0,
             "#0d0887"
            ],
            [
             0.1111111111111111,
             "#46039f"
            ],
            [
             0.2222222222222222,
             "#7201a8"
            ],
            [
             0.3333333333333333,
             "#9c179e"
            ],
            [
             0.4444444444444444,
             "#bd3786"
            ],
            [
             0.5555555555555556,
             "#d8576b"
            ],
            [
             0.6666666666666666,
             "#ed7953"
            ],
            [
             0.7777777777777778,
             "#fb9f3a"
            ],
            [
             0.8888888888888888,
             "#fdca26"
            ],
            [
             1,
             "#f0f921"
            ]
           ]
          },
          "colorway": [
           "#636efa",
           "#EF553B",
           "#00cc96",
           "#ab63fa",
           "#FFA15A",
           "#19d3f3",
           "#FF6692",
           "#B6E880",
           "#FF97FF",
           "#FECB52"
          ],
          "font": {
           "color": "#2a3f5f"
          },
          "geo": {
           "bgcolor": "white",
           "lakecolor": "white",
           "landcolor": "#E5ECF6",
           "showlakes": true,
           "showland": true,
           "subunitcolor": "white"
          },
          "hoverlabel": {
           "align": "left"
          },
          "hovermode": "closest",
          "mapbox": {
           "style": "light"
          },
          "paper_bgcolor": "white",
          "plot_bgcolor": "#E5ECF6",
          "polar": {
           "angularaxis": {
            "gridcolor": "white",
            "linecolor": "white",
            "ticks": ""
           },
           "bgcolor": "#E5ECF6",
           "radialaxis": {
            "gridcolor": "white",
            "linecolor": "white",
            "ticks": ""
           }
          },
          "scene": {
           "xaxis": {
            "backgroundcolor": "#E5ECF6",
            "gridcolor": "white",
            "gridwidth": 2,
            "linecolor": "white",
            "showbackground": true,
            "ticks": "",
            "zerolinecolor": "white"
           },
           "yaxis": {
            "backgroundcolor": "#E5ECF6",
            "gridcolor": "white",
            "gridwidth": 2,
            "linecolor": "white",
            "showbackground": true,
            "ticks": "",
            "zerolinecolor": "white"
           },
           "zaxis": {
            "backgroundcolor": "#E5ECF6",
            "gridcolor": "white",
            "gridwidth": 2,
            "linecolor": "white",
            "showbackground": true,
            "ticks": "",
            "zerolinecolor": "white"
           }
          },
          "shapedefaults": {
           "line": {
            "color": "#2a3f5f"
           }
          },
          "ternary": {
           "aaxis": {
            "gridcolor": "white",
            "linecolor": "white",
            "ticks": ""
           },
           "baxis": {
            "gridcolor": "white",
            "linecolor": "white",
            "ticks": ""
           },
           "bgcolor": "#E5ECF6",
           "caxis": {
            "gridcolor": "white",
            "linecolor": "white",
            "ticks": ""
           }
          },
          "title": {
           "x": 0.05
          },
          "xaxis": {
           "automargin": true,
           "gridcolor": "white",
           "linecolor": "white",
           "ticks": "",
           "title": {
            "standoff": 15
           },
           "zerolinecolor": "white",
           "zerolinewidth": 2
          },
          "yaxis": {
           "automargin": true,
           "gridcolor": "white",
           "linecolor": "white",
           "ticks": "",
           "title": {
            "standoff": 15
           },
           "zerolinecolor": "white",
           "zerolinewidth": 2
          }
         }
        },
        "title": {
         "text": "Odds of pass versus the score in the First Quarter"
        },
        "xaxis": {
         "anchor": "y",
         "domain": [
          0,
          1
         ],
         "title": {
          "text": "score_offset"
         }
        },
        "yaxis": {
         "anchor": "x",
         "domain": [
          0,
          1
         ],
         "title": {
          "text": "pass_percent"
         }
        }
       }
      }
     },
     "metadata": {},
     "output_type": "display_data"
    }
   ],
   "source": [
    "score_and_result = df.loc[df.quarter_1 == True, ['quarter', 'score_offset', 'pass_percent'] ].groupby(['quarter', 'score_offset']).mean('pass_percent').reset_index()\n",
    "score_and_result\n",
    "\n",
    "px.scatter(score_and_result, x='score_offset', y='pass_percent', trendline='ols', title='Odds of pass versus the score in the First Quarter')"
   ]
  },
  {
   "cell_type": "code",
   "execution_count": 1261,
   "id": "1bc81420",
   "metadata": {},
   "outputs": [
    {
     "data": {
      "application/vnd.plotly.v1+json": {
       "config": {
        "plotlyServerURL": "https://plot.ly"
       },
       "data": [
        {
         "hovertemplate": "score_offset=%{x}<br>pass_percent=%{y}<extra></extra>",
         "legendgroup": "",
         "marker": {
          "color": "#636efa",
          "symbol": "circle"
         },
         "mode": "markers",
         "name": "",
         "orientation": "v",
         "showlegend": false,
         "type": "scatter",
         "x": {
          "bdata": "5Orr7O7v8fLz9PX29/j5+vv8/f7/AAECAwQFBgcICQoLDA0ODxESFRYc",
          "dtype": "i1"
         },
         "xaxis": "x",
         "y": {
          "bdata": "AAAAAAAA7D8XXXTRRRftP73pTW9609s/AAAAAAAA7D/XWmuttdbqP+ZbvuVbvuU/MzMzMzMz4z/Xo3A9CtfjP7qaq7maq+k/DeU1lNdQ3j+VNWVNWVPmP7lQcxKIC+U/F1100UUX3T/4KS4ZgnXkPyUyDdvN8uQ/s/uNsvuN4j+amZmZmZnpP1SPZ9eMvuI/J3ZiJ3Zi5D/NzMzMzMzkPxl4ujU/LOI/mOrnhDW84z8HaZAGaZDmP1VVVVVVVeU/UAd1UAd15D9dUvkw7tflP7dt27Zt29Y/VVVVVVVV5T83talNbWrjPxiGYRiGYeg/AAAAAAAAAABUL+ZTL+bjP7Hc0wjLPeU/VVVVVVVV1T+UPumTPunjP4qd2Imd2OU/chzHcRzH4T+uR+F6FK7nPzMzMzMzM+M/dmIndmIn5j+rqqqqqqrqP0YXXXTRRec/",
          "dtype": "f8"
         },
         "yaxis": "y"
        },
        {
         "hovertemplate": "<b>OLS trendline</b><br>pass_percent = -0.00233089 * score_offset + 0.637165<br>R<sup>2</sup>=0.037988<br><br>score_offset=%{x}<br>pass_percent=%{y} <b>(trend)</b><extra></extra>",
         "legendgroup": "",
         "marker": {
          "color": "#636efa",
          "symbol": "circle"
         },
         "mode": "lines",
         "name": "",
         "showlegend": false,
         "type": "scatter",
         "x": {
          "bdata": "5Orr7O7v8fLz9PX29/j5+vv8/f7/AAECAwQFBgcICQoLDA0ODxESFRYc",
          "dtype": "i1"
         },
         "xaxis": "x",
         "y": {
          "bdata": "BWFp3U565j9zVtFwvQfmP7BUDTSl9OU/7VJJ94zh5T9nT8F9XLvlP6NN/UBEqOU/HUp1xxOC5T9aSLGK+27lP5dG7U3jW+U/1EQpEctI5T8RQ2XUsjXlP05BoZeaIuU/iz/dWoIP5T/IPRkeavzkPwU8VeFR6eQ/QjqRpDnW5D9+OM1nIcPkP7s2CSsJsOQ/+DRF7vCc5D81M4Gx2InkP3IxvXTAduQ/ry/5N6hj5D/sLTX7j1DkPykscb53PeQ/ZiqtgV8q5D+jKOlERxfkP+AmJQgvBOQ/HCVhyxbx4z9ZI52O/t3jP5Yh2VHmyuM/0x8VFc634z8QHlHYtaTjP00cjZudkeM/ihrJXoV+4z/HGAUibWvjPwQXQeVUWOM/QRV9qDxF4z+7EfUuDB/jP/cPMfLzC+M/rgrlO6vS4j/rCCH/kr/iP1n+iJIBTeI/",
          "dtype": "f8"
         },
         "yaxis": "y"
        }
       ],
       "layout": {
        "legend": {
         "tracegroupgap": 0
        },
        "template": {
         "data": {
          "bar": [
           {
            "error_x": {
             "color": "#2a3f5f"
            },
            "error_y": {
             "color": "#2a3f5f"
            },
            "marker": {
             "line": {
              "color": "#E5ECF6",
              "width": 0.5
             },
             "pattern": {
              "fillmode": "overlay",
              "size": 10,
              "solidity": 0.2
             }
            },
            "type": "bar"
           }
          ],
          "barpolar": [
           {
            "marker": {
             "line": {
              "color": "#E5ECF6",
              "width": 0.5
             },
             "pattern": {
              "fillmode": "overlay",
              "size": 10,
              "solidity": 0.2
             }
            },
            "type": "barpolar"
           }
          ],
          "carpet": [
           {
            "aaxis": {
             "endlinecolor": "#2a3f5f",
             "gridcolor": "white",
             "linecolor": "white",
             "minorgridcolor": "white",
             "startlinecolor": "#2a3f5f"
            },
            "baxis": {
             "endlinecolor": "#2a3f5f",
             "gridcolor": "white",
             "linecolor": "white",
             "minorgridcolor": "white",
             "startlinecolor": "#2a3f5f"
            },
            "type": "carpet"
           }
          ],
          "choropleth": [
           {
            "colorbar": {
             "outlinewidth": 0,
             "ticks": ""
            },
            "type": "choropleth"
           }
          ],
          "contour": [
           {
            "colorbar": {
             "outlinewidth": 0,
             "ticks": ""
            },
            "colorscale": [
             [
              0,
              "#0d0887"
             ],
             [
              0.1111111111111111,
              "#46039f"
             ],
             [
              0.2222222222222222,
              "#7201a8"
             ],
             [
              0.3333333333333333,
              "#9c179e"
             ],
             [
              0.4444444444444444,
              "#bd3786"
             ],
             [
              0.5555555555555556,
              "#d8576b"
             ],
             [
              0.6666666666666666,
              "#ed7953"
             ],
             [
              0.7777777777777778,
              "#fb9f3a"
             ],
             [
              0.8888888888888888,
              "#fdca26"
             ],
             [
              1,
              "#f0f921"
             ]
            ],
            "type": "contour"
           }
          ],
          "contourcarpet": [
           {
            "colorbar": {
             "outlinewidth": 0,
             "ticks": ""
            },
            "type": "contourcarpet"
           }
          ],
          "heatmap": [
           {
            "colorbar": {
             "outlinewidth": 0,
             "ticks": ""
            },
            "colorscale": [
             [
              0,
              "#0d0887"
             ],
             [
              0.1111111111111111,
              "#46039f"
             ],
             [
              0.2222222222222222,
              "#7201a8"
             ],
             [
              0.3333333333333333,
              "#9c179e"
             ],
             [
              0.4444444444444444,
              "#bd3786"
             ],
             [
              0.5555555555555556,
              "#d8576b"
             ],
             [
              0.6666666666666666,
              "#ed7953"
             ],
             [
              0.7777777777777778,
              "#fb9f3a"
             ],
             [
              0.8888888888888888,
              "#fdca26"
             ],
             [
              1,
              "#f0f921"
             ]
            ],
            "type": "heatmap"
           }
          ],
          "histogram": [
           {
            "marker": {
             "pattern": {
              "fillmode": "overlay",
              "size": 10,
              "solidity": 0.2
             }
            },
            "type": "histogram"
           }
          ],
          "histogram2d": [
           {
            "colorbar": {
             "outlinewidth": 0,
             "ticks": ""
            },
            "colorscale": [
             [
              0,
              "#0d0887"
             ],
             [
              0.1111111111111111,
              "#46039f"
             ],
             [
              0.2222222222222222,
              "#7201a8"
             ],
             [
              0.3333333333333333,
              "#9c179e"
             ],
             [
              0.4444444444444444,
              "#bd3786"
             ],
             [
              0.5555555555555556,
              "#d8576b"
             ],
             [
              0.6666666666666666,
              "#ed7953"
             ],
             [
              0.7777777777777778,
              "#fb9f3a"
             ],
             [
              0.8888888888888888,
              "#fdca26"
             ],
             [
              1,
              "#f0f921"
             ]
            ],
            "type": "histogram2d"
           }
          ],
          "histogram2dcontour": [
           {
            "colorbar": {
             "outlinewidth": 0,
             "ticks": ""
            },
            "colorscale": [
             [
              0,
              "#0d0887"
             ],
             [
              0.1111111111111111,
              "#46039f"
             ],
             [
              0.2222222222222222,
              "#7201a8"
             ],
             [
              0.3333333333333333,
              "#9c179e"
             ],
             [
              0.4444444444444444,
              "#bd3786"
             ],
             [
              0.5555555555555556,
              "#d8576b"
             ],
             [
              0.6666666666666666,
              "#ed7953"
             ],
             [
              0.7777777777777778,
              "#fb9f3a"
             ],
             [
              0.8888888888888888,
              "#fdca26"
             ],
             [
              1,
              "#f0f921"
             ]
            ],
            "type": "histogram2dcontour"
           }
          ],
          "mesh3d": [
           {
            "colorbar": {
             "outlinewidth": 0,
             "ticks": ""
            },
            "type": "mesh3d"
           }
          ],
          "parcoords": [
           {
            "line": {
             "colorbar": {
              "outlinewidth": 0,
              "ticks": ""
             }
            },
            "type": "parcoords"
           }
          ],
          "pie": [
           {
            "automargin": true,
            "type": "pie"
           }
          ],
          "scatter": [
           {
            "fillpattern": {
             "fillmode": "overlay",
             "size": 10,
             "solidity": 0.2
            },
            "type": "scatter"
           }
          ],
          "scatter3d": [
           {
            "line": {
             "colorbar": {
              "outlinewidth": 0,
              "ticks": ""
             }
            },
            "marker": {
             "colorbar": {
              "outlinewidth": 0,
              "ticks": ""
             }
            },
            "type": "scatter3d"
           }
          ],
          "scattercarpet": [
           {
            "marker": {
             "colorbar": {
              "outlinewidth": 0,
              "ticks": ""
             }
            },
            "type": "scattercarpet"
           }
          ],
          "scattergeo": [
           {
            "marker": {
             "colorbar": {
              "outlinewidth": 0,
              "ticks": ""
             }
            },
            "type": "scattergeo"
           }
          ],
          "scattergl": [
           {
            "marker": {
             "colorbar": {
              "outlinewidth": 0,
              "ticks": ""
             }
            },
            "type": "scattergl"
           }
          ],
          "scattermap": [
           {
            "marker": {
             "colorbar": {
              "outlinewidth": 0,
              "ticks": ""
             }
            },
            "type": "scattermap"
           }
          ],
          "scattermapbox": [
           {
            "marker": {
             "colorbar": {
              "outlinewidth": 0,
              "ticks": ""
             }
            },
            "type": "scattermapbox"
           }
          ],
          "scatterpolar": [
           {
            "marker": {
             "colorbar": {
              "outlinewidth": 0,
              "ticks": ""
             }
            },
            "type": "scatterpolar"
           }
          ],
          "scatterpolargl": [
           {
            "marker": {
             "colorbar": {
              "outlinewidth": 0,
              "ticks": ""
             }
            },
            "type": "scatterpolargl"
           }
          ],
          "scatterternary": [
           {
            "marker": {
             "colorbar": {
              "outlinewidth": 0,
              "ticks": ""
             }
            },
            "type": "scatterternary"
           }
          ],
          "surface": [
           {
            "colorbar": {
             "outlinewidth": 0,
             "ticks": ""
            },
            "colorscale": [
             [
              0,
              "#0d0887"
             ],
             [
              0.1111111111111111,
              "#46039f"
             ],
             [
              0.2222222222222222,
              "#7201a8"
             ],
             [
              0.3333333333333333,
              "#9c179e"
             ],
             [
              0.4444444444444444,
              "#bd3786"
             ],
             [
              0.5555555555555556,
              "#d8576b"
             ],
             [
              0.6666666666666666,
              "#ed7953"
             ],
             [
              0.7777777777777778,
              "#fb9f3a"
             ],
             [
              0.8888888888888888,
              "#fdca26"
             ],
             [
              1,
              "#f0f921"
             ]
            ],
            "type": "surface"
           }
          ],
          "table": [
           {
            "cells": {
             "fill": {
              "color": "#EBF0F8"
             },
             "line": {
              "color": "white"
             }
            },
            "header": {
             "fill": {
              "color": "#C8D4E3"
             },
             "line": {
              "color": "white"
             }
            },
            "type": "table"
           }
          ]
         },
         "layout": {
          "annotationdefaults": {
           "arrowcolor": "#2a3f5f",
           "arrowhead": 0,
           "arrowwidth": 1
          },
          "autotypenumbers": "strict",
          "coloraxis": {
           "colorbar": {
            "outlinewidth": 0,
            "ticks": ""
           }
          },
          "colorscale": {
           "diverging": [
            [
             0,
             "#8e0152"
            ],
            [
             0.1,
             "#c51b7d"
            ],
            [
             0.2,
             "#de77ae"
            ],
            [
             0.3,
             "#f1b6da"
            ],
            [
             0.4,
             "#fde0ef"
            ],
            [
             0.5,
             "#f7f7f7"
            ],
            [
             0.6,
             "#e6f5d0"
            ],
            [
             0.7,
             "#b8e186"
            ],
            [
             0.8,
             "#7fbc41"
            ],
            [
             0.9,
             "#4d9221"
            ],
            [
             1,
             "#276419"
            ]
           ],
           "sequential": [
            [
             0,
             "#0d0887"
            ],
            [
             0.1111111111111111,
             "#46039f"
            ],
            [
             0.2222222222222222,
             "#7201a8"
            ],
            [
             0.3333333333333333,
             "#9c179e"
            ],
            [
             0.4444444444444444,
             "#bd3786"
            ],
            [
             0.5555555555555556,
             "#d8576b"
            ],
            [
             0.6666666666666666,
             "#ed7953"
            ],
            [
             0.7777777777777778,
             "#fb9f3a"
            ],
            [
             0.8888888888888888,
             "#fdca26"
            ],
            [
             1,
             "#f0f921"
            ]
           ],
           "sequentialminus": [
            [
             0,
             "#0d0887"
            ],
            [
             0.1111111111111111,
             "#46039f"
            ],
            [
             0.2222222222222222,
             "#7201a8"
            ],
            [
             0.3333333333333333,
             "#9c179e"
            ],
            [
             0.4444444444444444,
             "#bd3786"
            ],
            [
             0.5555555555555556,
             "#d8576b"
            ],
            [
             0.6666666666666666,
             "#ed7953"
            ],
            [
             0.7777777777777778,
             "#fb9f3a"
            ],
            [
             0.8888888888888888,
             "#fdca26"
            ],
            [
             1,
             "#f0f921"
            ]
           ]
          },
          "colorway": [
           "#636efa",
           "#EF553B",
           "#00cc96",
           "#ab63fa",
           "#FFA15A",
           "#19d3f3",
           "#FF6692",
           "#B6E880",
           "#FF97FF",
           "#FECB52"
          ],
          "font": {
           "color": "#2a3f5f"
          },
          "geo": {
           "bgcolor": "white",
           "lakecolor": "white",
           "landcolor": "#E5ECF6",
           "showlakes": true,
           "showland": true,
           "subunitcolor": "white"
          },
          "hoverlabel": {
           "align": "left"
          },
          "hovermode": "closest",
          "mapbox": {
           "style": "light"
          },
          "paper_bgcolor": "white",
          "plot_bgcolor": "#E5ECF6",
          "polar": {
           "angularaxis": {
            "gridcolor": "white",
            "linecolor": "white",
            "ticks": ""
           },
           "bgcolor": "#E5ECF6",
           "radialaxis": {
            "gridcolor": "white",
            "linecolor": "white",
            "ticks": ""
           }
          },
          "scene": {
           "xaxis": {
            "backgroundcolor": "#E5ECF6",
            "gridcolor": "white",
            "gridwidth": 2,
            "linecolor": "white",
            "showbackground": true,
            "ticks": "",
            "zerolinecolor": "white"
           },
           "yaxis": {
            "backgroundcolor": "#E5ECF6",
            "gridcolor": "white",
            "gridwidth": 2,
            "linecolor": "white",
            "showbackground": true,
            "ticks": "",
            "zerolinecolor": "white"
           },
           "zaxis": {
            "backgroundcolor": "#E5ECF6",
            "gridcolor": "white",
            "gridwidth": 2,
            "linecolor": "white",
            "showbackground": true,
            "ticks": "",
            "zerolinecolor": "white"
           }
          },
          "shapedefaults": {
           "line": {
            "color": "#2a3f5f"
           }
          },
          "ternary": {
           "aaxis": {
            "gridcolor": "white",
            "linecolor": "white",
            "ticks": ""
           },
           "baxis": {
            "gridcolor": "white",
            "linecolor": "white",
            "ticks": ""
           },
           "bgcolor": "#E5ECF6",
           "caxis": {
            "gridcolor": "white",
            "linecolor": "white",
            "ticks": ""
           }
          },
          "title": {
           "x": 0.05
          },
          "xaxis": {
           "automargin": true,
           "gridcolor": "white",
           "linecolor": "white",
           "ticks": "",
           "title": {
            "standoff": 15
           },
           "zerolinecolor": "white",
           "zerolinewidth": 2
          },
          "yaxis": {
           "automargin": true,
           "gridcolor": "white",
           "linecolor": "white",
           "ticks": "",
           "title": {
            "standoff": 15
           },
           "zerolinecolor": "white",
           "zerolinewidth": 2
          }
         }
        },
        "title": {
         "text": "Odds of pass versus the score in the Second Quarter"
        },
        "xaxis": {
         "anchor": "y",
         "domain": [
          0,
          1
         ],
         "title": {
          "text": "score_offset"
         }
        },
        "yaxis": {
         "anchor": "x",
         "domain": [
          0,
          1
         ],
         "title": {
          "text": "pass_percent"
         }
        }
       }
      }
     },
     "metadata": {},
     "output_type": "display_data"
    }
   ],
   "source": [
    "df['pass_percent'] = df.apply(lambda p: 1 if p.play_result == \"pass\" else 0, axis = 1)\n",
    "score_and_result = df.loc[df.quarter_2 == True, ['quarter', 'score_offset', 'pass_percent'] ].groupby(['quarter', 'score_offset']).mean('pass_percent').reset_index()\n",
    "score_and_result\n",
    "\n",
    "px.scatter(score_and_result, x='score_offset', y='pass_percent', trendline='ols', title='Odds of pass versus the score in the Second Quarter')"
   ]
  },
  {
   "cell_type": "code",
   "execution_count": 1262,
   "id": "39bd82b6",
   "metadata": {},
   "outputs": [
    {
     "data": {
      "application/vnd.plotly.v1+json": {
       "config": {
        "plotlyServerURL": "https://plot.ly"
       },
       "data": [
        {
         "hovertemplate": "score_offset=%{x}<br>pass_percent=%{y}<extra></extra>",
         "legendgroup": "",
         "marker": {
          "color": "#636efa",
          "symbol": "circle"
         },
         "mode": "markers",
         "name": "",
         "orientation": "v",
         "showlegend": false,
         "type": "scatter",
         "x": {
          "bdata": "3d7i5OXm5+jp6uvs7e7v8PHy8/T19vf4+fr7/P3+/wABAgMEBQYHCAkKCwwNDg8QERITFBUXGBkcIiM=",
          "dtype": "i1"
         },
         "xaxis": "x",
         "y": {
          "bdata": "RhdddNFF5z+amZmZmZnZPwAAAAAAAOg/27Zt27Zt6z8AAAAAAADwPwAAAAAAAPA/t23btm3b5j/GGGOMMcboPwAAAAAAAOA/mpmZmZmZ6T9VVVVVVVXlP+Q4juM4juM/AAAAAAAA3D9eTsHLKXjpP0EYaccKhOE/XXTRRRdd5D9eQ3kN5TXkP5jQXkJ7CeU/KV4gk+IF4j8vuuiiiy7qP5TINGw3y+M/ntiJndiJ4T/4KS4ZgnXkPyAqHdkzEOU/e8fUwN4x5T+MGDFixIjhPxEREREREeE/AjeWQakw4T+rJYv3tlriPx4eHh4eHt4/Uyu1Uiu14j8SHuERHuHhPxCLlIGnW+M/AAAAAAAA3j9aWlpaWlriP9PS0tLS0uI/+N5777333j9VVVVVVVXfPywVsVTEUuE/IQtZyEIW4j/43nvvvffeP4PzMTgfg+M/IxVzqzNS4T8AAAAAAADkP8dxHMdxHN8/6aKLLrro4j8RERERERHhPwAAAAAAAOI/S0tLS0tL4z+D8zE4H4PjPwAAAAAAAOQ/nud5nud53j9VVVVVVVXlP7dt27Zt2+Y/AAAAAAAA4D8AAAAAAADgP5IkSZIkSeI/AAAAAAAAAABVVVVVVVXVPw==",
          "dtype": "f8"
         },
         "yaxis": "y"
        },
        {
         "hovertemplate": "<b>OLS trendline</b><br>pass_percent = -0.00446817 * score_offset + 0.588126<br>R<sup>2</sup>=0.292719<br><br>score_offset=%{x}<br>pass_percent=%{y} <b>(trend)</b><extra></extra>",
         "legendgroup": "",
         "marker": {
          "color": "#636efa",
          "symbol": "circle"
         },
         "mode": "lines",
         "name": "",
         "showlegend": false,
         "type": "scatter",
         "x": {
          "bdata": "3d7i5OXm5+jp6uvs7e7v8PHy8/T19vf4+fr7/P3+/wABAgMEBQYHCAkKCwwNDg8QERITFBUXGBkcIiM=",
          "dtype": "i1"
         },
         "xaxis": "x",
         "y": {
          "bdata": "JTFe4QnT5z+MdYF0b67nPyiHDsEFHOc/9g9V59DS5j9eVHh6Nq7mP8WYmw2cieY/LN2+oAFl5j+TIeIzZ0DmP/plBcfMG+Y/YaooWjL35T/I7kvtl9LlPy8zb4D9reU/lneSE2OJ5T/9u7WmyGTlP2QA2TkuQOU/y0T8zJMb5T8yiR9g+fbkP5nNQvNe0uQ/ABJmhsSt5D9nVokZKonkP86arKyPZOQ/Nd/PP/U/5D+dI/PSWhvkPwRoFmbA9uM/a6w5+SXS4z/S8FyMi63jPzk1gB/xiOM/oHmjslZk4z8HvsZFvD/jP24C6tghG+M/1UYNbIf24j88izD/7NHiP6PPU5JSreI/ChR3JbiI4j9xWJq4HWTiP9icvUuDP+I/P+Hg3uga4j+mJQRyTvbhPw1qJwW00eE/dK5KmBmt4T/b8m0rf4jhP0M3kb7kY+E/qnu0UUo/4T8RwNfkrxrhP3gE+3cV9uA/30geC3vR4D9GjUGe4KzgP63RZDFGiOA/FBaIxKtj4D97WqtXET/gP+Kezup2GuA/ksbj+7jr3z9gTyoihKLfP/1gt24aEN8/y+n9lOXG3j+ZckS7sH3ePwMNGC4Sot0/2EG/E9Xq2z+mygU6oKHbPw==",
          "dtype": "f8"
         },
         "yaxis": "y"
        }
       ],
       "layout": {
        "legend": {
         "tracegroupgap": 0
        },
        "template": {
         "data": {
          "bar": [
           {
            "error_x": {
             "color": "#2a3f5f"
            },
            "error_y": {
             "color": "#2a3f5f"
            },
            "marker": {
             "line": {
              "color": "#E5ECF6",
              "width": 0.5
             },
             "pattern": {
              "fillmode": "overlay",
              "size": 10,
              "solidity": 0.2
             }
            },
            "type": "bar"
           }
          ],
          "barpolar": [
           {
            "marker": {
             "line": {
              "color": "#E5ECF6",
              "width": 0.5
             },
             "pattern": {
              "fillmode": "overlay",
              "size": 10,
              "solidity": 0.2
             }
            },
            "type": "barpolar"
           }
          ],
          "carpet": [
           {
            "aaxis": {
             "endlinecolor": "#2a3f5f",
             "gridcolor": "white",
             "linecolor": "white",
             "minorgridcolor": "white",
             "startlinecolor": "#2a3f5f"
            },
            "baxis": {
             "endlinecolor": "#2a3f5f",
             "gridcolor": "white",
             "linecolor": "white",
             "minorgridcolor": "white",
             "startlinecolor": "#2a3f5f"
            },
            "type": "carpet"
           }
          ],
          "choropleth": [
           {
            "colorbar": {
             "outlinewidth": 0,
             "ticks": ""
            },
            "type": "choropleth"
           }
          ],
          "contour": [
           {
            "colorbar": {
             "outlinewidth": 0,
             "ticks": ""
            },
            "colorscale": [
             [
              0,
              "#0d0887"
             ],
             [
              0.1111111111111111,
              "#46039f"
             ],
             [
              0.2222222222222222,
              "#7201a8"
             ],
             [
              0.3333333333333333,
              "#9c179e"
             ],
             [
              0.4444444444444444,
              "#bd3786"
             ],
             [
              0.5555555555555556,
              "#d8576b"
             ],
             [
              0.6666666666666666,
              "#ed7953"
             ],
             [
              0.7777777777777778,
              "#fb9f3a"
             ],
             [
              0.8888888888888888,
              "#fdca26"
             ],
             [
              1,
              "#f0f921"
             ]
            ],
            "type": "contour"
           }
          ],
          "contourcarpet": [
           {
            "colorbar": {
             "outlinewidth": 0,
             "ticks": ""
            },
            "type": "contourcarpet"
           }
          ],
          "heatmap": [
           {
            "colorbar": {
             "outlinewidth": 0,
             "ticks": ""
            },
            "colorscale": [
             [
              0,
              "#0d0887"
             ],
             [
              0.1111111111111111,
              "#46039f"
             ],
             [
              0.2222222222222222,
              "#7201a8"
             ],
             [
              0.3333333333333333,
              "#9c179e"
             ],
             [
              0.4444444444444444,
              "#bd3786"
             ],
             [
              0.5555555555555556,
              "#d8576b"
             ],
             [
              0.6666666666666666,
              "#ed7953"
             ],
             [
              0.7777777777777778,
              "#fb9f3a"
             ],
             [
              0.8888888888888888,
              "#fdca26"
             ],
             [
              1,
              "#f0f921"
             ]
            ],
            "type": "heatmap"
           }
          ],
          "histogram": [
           {
            "marker": {
             "pattern": {
              "fillmode": "overlay",
              "size": 10,
              "solidity": 0.2
             }
            },
            "type": "histogram"
           }
          ],
          "histogram2d": [
           {
            "colorbar": {
             "outlinewidth": 0,
             "ticks": ""
            },
            "colorscale": [
             [
              0,
              "#0d0887"
             ],
             [
              0.1111111111111111,
              "#46039f"
             ],
             [
              0.2222222222222222,
              "#7201a8"
             ],
             [
              0.3333333333333333,
              "#9c179e"
             ],
             [
              0.4444444444444444,
              "#bd3786"
             ],
             [
              0.5555555555555556,
              "#d8576b"
             ],
             [
              0.6666666666666666,
              "#ed7953"
             ],
             [
              0.7777777777777778,
              "#fb9f3a"
             ],
             [
              0.8888888888888888,
              "#fdca26"
             ],
             [
              1,
              "#f0f921"
             ]
            ],
            "type": "histogram2d"
           }
          ],
          "histogram2dcontour": [
           {
            "colorbar": {
             "outlinewidth": 0,
             "ticks": ""
            },
            "colorscale": [
             [
              0,
              "#0d0887"
             ],
             [
              0.1111111111111111,
              "#46039f"
             ],
             [
              0.2222222222222222,
              "#7201a8"
             ],
             [
              0.3333333333333333,
              "#9c179e"
             ],
             [
              0.4444444444444444,
              "#bd3786"
             ],
             [
              0.5555555555555556,
              "#d8576b"
             ],
             [
              0.6666666666666666,
              "#ed7953"
             ],
             [
              0.7777777777777778,
              "#fb9f3a"
             ],
             [
              0.8888888888888888,
              "#fdca26"
             ],
             [
              1,
              "#f0f921"
             ]
            ],
            "type": "histogram2dcontour"
           }
          ],
          "mesh3d": [
           {
            "colorbar": {
             "outlinewidth": 0,
             "ticks": ""
            },
            "type": "mesh3d"
           }
          ],
          "parcoords": [
           {
            "line": {
             "colorbar": {
              "outlinewidth": 0,
              "ticks": ""
             }
            },
            "type": "parcoords"
           }
          ],
          "pie": [
           {
            "automargin": true,
            "type": "pie"
           }
          ],
          "scatter": [
           {
            "fillpattern": {
             "fillmode": "overlay",
             "size": 10,
             "solidity": 0.2
            },
            "type": "scatter"
           }
          ],
          "scatter3d": [
           {
            "line": {
             "colorbar": {
              "outlinewidth": 0,
              "ticks": ""
             }
            },
            "marker": {
             "colorbar": {
              "outlinewidth": 0,
              "ticks": ""
             }
            },
            "type": "scatter3d"
           }
          ],
          "scattercarpet": [
           {
            "marker": {
             "colorbar": {
              "outlinewidth": 0,
              "ticks": ""
             }
            },
            "type": "scattercarpet"
           }
          ],
          "scattergeo": [
           {
            "marker": {
             "colorbar": {
              "outlinewidth": 0,
              "ticks": ""
             }
            },
            "type": "scattergeo"
           }
          ],
          "scattergl": [
           {
            "marker": {
             "colorbar": {
              "outlinewidth": 0,
              "ticks": ""
             }
            },
            "type": "scattergl"
           }
          ],
          "scattermap": [
           {
            "marker": {
             "colorbar": {
              "outlinewidth": 0,
              "ticks": ""
             }
            },
            "type": "scattermap"
           }
          ],
          "scattermapbox": [
           {
            "marker": {
             "colorbar": {
              "outlinewidth": 0,
              "ticks": ""
             }
            },
            "type": "scattermapbox"
           }
          ],
          "scatterpolar": [
           {
            "marker": {
             "colorbar": {
              "outlinewidth": 0,
              "ticks": ""
             }
            },
            "type": "scatterpolar"
           }
          ],
          "scatterpolargl": [
           {
            "marker": {
             "colorbar": {
              "outlinewidth": 0,
              "ticks": ""
             }
            },
            "type": "scatterpolargl"
           }
          ],
          "scatterternary": [
           {
            "marker": {
             "colorbar": {
              "outlinewidth": 0,
              "ticks": ""
             }
            },
            "type": "scatterternary"
           }
          ],
          "surface": [
           {
            "colorbar": {
             "outlinewidth": 0,
             "ticks": ""
            },
            "colorscale": [
             [
              0,
              "#0d0887"
             ],
             [
              0.1111111111111111,
              "#46039f"
             ],
             [
              0.2222222222222222,
              "#7201a8"
             ],
             [
              0.3333333333333333,
              "#9c179e"
             ],
             [
              0.4444444444444444,
              "#bd3786"
             ],
             [
              0.5555555555555556,
              "#d8576b"
             ],
             [
              0.6666666666666666,
              "#ed7953"
             ],
             [
              0.7777777777777778,
              "#fb9f3a"
             ],
             [
              0.8888888888888888,
              "#fdca26"
             ],
             [
              1,
              "#f0f921"
             ]
            ],
            "type": "surface"
           }
          ],
          "table": [
           {
            "cells": {
             "fill": {
              "color": "#EBF0F8"
             },
             "line": {
              "color": "white"
             }
            },
            "header": {
             "fill": {
              "color": "#C8D4E3"
             },
             "line": {
              "color": "white"
             }
            },
            "type": "table"
           }
          ]
         },
         "layout": {
          "annotationdefaults": {
           "arrowcolor": "#2a3f5f",
           "arrowhead": 0,
           "arrowwidth": 1
          },
          "autotypenumbers": "strict",
          "coloraxis": {
           "colorbar": {
            "outlinewidth": 0,
            "ticks": ""
           }
          },
          "colorscale": {
           "diverging": [
            [
             0,
             "#8e0152"
            ],
            [
             0.1,
             "#c51b7d"
            ],
            [
             0.2,
             "#de77ae"
            ],
            [
             0.3,
             "#f1b6da"
            ],
            [
             0.4,
             "#fde0ef"
            ],
            [
             0.5,
             "#f7f7f7"
            ],
            [
             0.6,
             "#e6f5d0"
            ],
            [
             0.7,
             "#b8e186"
            ],
            [
             0.8,
             "#7fbc41"
            ],
            [
             0.9,
             "#4d9221"
            ],
            [
             1,
             "#276419"
            ]
           ],
           "sequential": [
            [
             0,
             "#0d0887"
            ],
            [
             0.1111111111111111,
             "#46039f"
            ],
            [
             0.2222222222222222,
             "#7201a8"
            ],
            [
             0.3333333333333333,
             "#9c179e"
            ],
            [
             0.4444444444444444,
             "#bd3786"
            ],
            [
             0.5555555555555556,
             "#d8576b"
            ],
            [
             0.6666666666666666,
             "#ed7953"
            ],
            [
             0.7777777777777778,
             "#fb9f3a"
            ],
            [
             0.8888888888888888,
             "#fdca26"
            ],
            [
             1,
             "#f0f921"
            ]
           ],
           "sequentialminus": [
            [
             0,
             "#0d0887"
            ],
            [
             0.1111111111111111,
             "#46039f"
            ],
            [
             0.2222222222222222,
             "#7201a8"
            ],
            [
             0.3333333333333333,
             "#9c179e"
            ],
            [
             0.4444444444444444,
             "#bd3786"
            ],
            [
             0.5555555555555556,
             "#d8576b"
            ],
            [
             0.6666666666666666,
             "#ed7953"
            ],
            [
             0.7777777777777778,
             "#fb9f3a"
            ],
            [
             0.8888888888888888,
             "#fdca26"
            ],
            [
             1,
             "#f0f921"
            ]
           ]
          },
          "colorway": [
           "#636efa",
           "#EF553B",
           "#00cc96",
           "#ab63fa",
           "#FFA15A",
           "#19d3f3",
           "#FF6692",
           "#B6E880",
           "#FF97FF",
           "#FECB52"
          ],
          "font": {
           "color": "#2a3f5f"
          },
          "geo": {
           "bgcolor": "white",
           "lakecolor": "white",
           "landcolor": "#E5ECF6",
           "showlakes": true,
           "showland": true,
           "subunitcolor": "white"
          },
          "hoverlabel": {
           "align": "left"
          },
          "hovermode": "closest",
          "mapbox": {
           "style": "light"
          },
          "paper_bgcolor": "white",
          "plot_bgcolor": "#E5ECF6",
          "polar": {
           "angularaxis": {
            "gridcolor": "white",
            "linecolor": "white",
            "ticks": ""
           },
           "bgcolor": "#E5ECF6",
           "radialaxis": {
            "gridcolor": "white",
            "linecolor": "white",
            "ticks": ""
           }
          },
          "scene": {
           "xaxis": {
            "backgroundcolor": "#E5ECF6",
            "gridcolor": "white",
            "gridwidth": 2,
            "linecolor": "white",
            "showbackground": true,
            "ticks": "",
            "zerolinecolor": "white"
           },
           "yaxis": {
            "backgroundcolor": "#E5ECF6",
            "gridcolor": "white",
            "gridwidth": 2,
            "linecolor": "white",
            "showbackground": true,
            "ticks": "",
            "zerolinecolor": "white"
           },
           "zaxis": {
            "backgroundcolor": "#E5ECF6",
            "gridcolor": "white",
            "gridwidth": 2,
            "linecolor": "white",
            "showbackground": true,
            "ticks": "",
            "zerolinecolor": "white"
           }
          },
          "shapedefaults": {
           "line": {
            "color": "#2a3f5f"
           }
          },
          "ternary": {
           "aaxis": {
            "gridcolor": "white",
            "linecolor": "white",
            "ticks": ""
           },
           "baxis": {
            "gridcolor": "white",
            "linecolor": "white",
            "ticks": ""
           },
           "bgcolor": "#E5ECF6",
           "caxis": {
            "gridcolor": "white",
            "linecolor": "white",
            "ticks": ""
           }
          },
          "title": {
           "x": 0.05
          },
          "xaxis": {
           "automargin": true,
           "gridcolor": "white",
           "linecolor": "white",
           "ticks": "",
           "title": {
            "standoff": 15
           },
           "zerolinecolor": "white",
           "zerolinewidth": 2
          },
          "yaxis": {
           "automargin": true,
           "gridcolor": "white",
           "linecolor": "white",
           "ticks": "",
           "title": {
            "standoff": 15
           },
           "zerolinecolor": "white",
           "zerolinewidth": 2
          }
         }
        },
        "title": {
         "text": "Odds of pass versus the score in the Third Quarter"
        },
        "xaxis": {
         "anchor": "y",
         "domain": [
          0,
          1
         ],
         "title": {
          "text": "score_offset"
         }
        },
        "yaxis": {
         "anchor": "x",
         "domain": [
          0,
          1
         ],
         "title": {
          "text": "pass_percent"
         }
        }
       }
      }
     },
     "metadata": {},
     "output_type": "display_data"
    }
   ],
   "source": [
    "score_and_result = df.loc[df.quarter_3 == True, ['quarter', 'score_offset', 'pass_percent'] ].groupby(['quarter', 'score_offset']).mean('pass_percent').reset_index()\n",
    "score_and_result\n",
    "\n",
    "px.scatter(score_and_result, x='score_offset', y='pass_percent', trendline='ols', title='Odds of pass versus the score in the Third Quarter')"
   ]
  },
  {
   "cell_type": "code",
   "execution_count": 1263,
   "id": "44288acd",
   "metadata": {},
   "outputs": [
    {
     "data": {
      "application/vnd.plotly.v1+json": {
       "config": {
        "plotlyServerURL": "https://plot.ly"
       },
       "data": [
        {
         "hovertemplate": "score_offset=%{x}<br>pass_percent=%{y}<extra></extra>",
         "legendgroup": "",
         "marker": {
          "color": "#636efa",
          "symbol": "circle"
         },
         "mode": "markers",
         "name": "",
         "orientation": "v",
         "showlegend": false,
         "type": "scatter",
         "x": {
          "bdata": "3d7i4+Tm5+jp6uvs7e7v8PHy8/T19vf4+fr7/P3+/wABAgMEBQYHCAkKCwwNDg8QERITFBUWFxgaHB0iIw==",
          "dtype": "i1"
         },
         "xaxis": "x",
         "y": {
          "bdata": "zjnnnHPO6T8zMzMzMzPTP1VVVVVVVeU/2Ymd2Imd6D9GF1100UXnPzw8PDw8POw/AAAAAAAA4D9cvuVbvuXrP97d3d3d3e0/idqVqF2J6j/p1DzIXT/rPxdddNFFF90/etOb3vSm5z9Y+4a1b1jrP+SzbjBFPus/5MePHz9+7D/lNZTXUF7rPwAAAAAAAOg/hixkIQtZ6D81JtIDlbPrP+nUPMhdP+s/Ntlkk0026T8T6J26loPrP5gin3WDKeo/WH/1V3/15z8AAAAAAEDqP4/C9Shcj+I/bnVGKuZW5z9S+TDu1yXlP8P1KFyPwuU/ZGRkZGRk5D9vIruJ7CbiP6c3velNb9o/q42h6Q722z90bL4bflTXP8u3fMu3fNs/BA0ndV8e2z/Bpv1kCWzaP0oppZRSStk/QnsJ7SW01z+amZmZmZnJPyZDsI4279M/INEKmwOJ1j8AAAAAAADUPx3UQR3UQd0/ip3YiZ3Y0T9xR9wRd8TNPxj0BX1BX9A/q6qqqqqq2j8apEEapEHaP3sUrkfheqQ/AAAAAAAA0D8AAAAAAADeP+xRuB6F69E/AAAAAAAAAACxEzuxEzvRPxzHcRzHccw/VVVVVVVVxT8AAAAAAAAAAFVVVVVVVcU/dNFFF1104T8=",
          "dtype": "f8"
         },
         "yaxis": "y"
        },
        {
         "hovertemplate": "<b>OLS trendline</b><br>pass_percent = -0.0109276 * score_offset + 0.527567<br>R<sup>2</sup>=0.596546<br><br>score_offset=%{x}<br>pass_percent=%{y} <b>(trend)</b><extra></extra>",
         "legendgroup": "",
         "marker": {
          "color": "#636efa",
          "symbol": "circle"
         },
         "mode": "lines",
         "name": "",
         "showlegend": false,
         "type": "scatter",
         "x": {
          "bdata": "3d7i4+Tm5+jp6uvs7e7v8PHy8/T19vf4+fr7/P3+/wABAgMEBQYHCAkKCwwNDg8QERITFBUWFxgaHB0iIw==",
          "dtype": "i1"
         },
         "xaxis": "x",
         "y": {
          "bdata": "BRm6IPse7T+/0NdUdsXsP6SvTiVjX+s/XmdsWd4F6z8XH4qNWazqP4qOxfVP+ek/REbjKcuf6T/9/QBeRkbpP7e1HpLB7Og/cG08xjyT6D8pJVr6tznoP+Pcdy4z4Oc/nJSVYq6G5z9WTLOWKS3nPw8E0cqk0+Y/ybvu/h965j+CcwwzmyDmPzwrKmcWx+U/9eJHm5Ft5T+vmmXPDBTlP2hSgwOIuuQ/IQqhNwNh5D/bwb5rfgfkP5R53J/5reM/TjH603RU4z8H6RcI8PriP8GgNTxroeI/elhTcOZH4j80EHGkYe7hP+3HjtjclOE/p3+sDFg74T9gN8pA0+HgPxnv53ROiOA/06YFqcku4D8ZvUa6iarfP4wsgiKA994//5u9inZE3j9xC/nybJHdP+R6NFtj3tw/V+pvw1kr3D/KWasrUHjbPz3J5pNGxdo/sDgi/DwS2j8jqF1kM1/ZP5YXmcwprNg/CYfUNCD51z989g+dFkbXP+5lSwUNk9Y/YdWGbQPg1T/URMLV+SzVP0e0/T3wedQ/uiM5pubG0z8tk3QO3RPTP6ACsHbTYNI/E3Lr3smt0T+G4SZHwPrQP9eAOy9aKc8/oz4p0DNdzD+JHaCgIPfKPwZ48rLA+MM/61Zpg62Swj8=",
          "dtype": "f8"
         },
         "yaxis": "y"
        }
       ],
       "layout": {
        "legend": {
         "tracegroupgap": 0
        },
        "template": {
         "data": {
          "bar": [
           {
            "error_x": {
             "color": "#2a3f5f"
            },
            "error_y": {
             "color": "#2a3f5f"
            },
            "marker": {
             "line": {
              "color": "#E5ECF6",
              "width": 0.5
             },
             "pattern": {
              "fillmode": "overlay",
              "size": 10,
              "solidity": 0.2
             }
            },
            "type": "bar"
           }
          ],
          "barpolar": [
           {
            "marker": {
             "line": {
              "color": "#E5ECF6",
              "width": 0.5
             },
             "pattern": {
              "fillmode": "overlay",
              "size": 10,
              "solidity": 0.2
             }
            },
            "type": "barpolar"
           }
          ],
          "carpet": [
           {
            "aaxis": {
             "endlinecolor": "#2a3f5f",
             "gridcolor": "white",
             "linecolor": "white",
             "minorgridcolor": "white",
             "startlinecolor": "#2a3f5f"
            },
            "baxis": {
             "endlinecolor": "#2a3f5f",
             "gridcolor": "white",
             "linecolor": "white",
             "minorgridcolor": "white",
             "startlinecolor": "#2a3f5f"
            },
            "type": "carpet"
           }
          ],
          "choropleth": [
           {
            "colorbar": {
             "outlinewidth": 0,
             "ticks": ""
            },
            "type": "choropleth"
           }
          ],
          "contour": [
           {
            "colorbar": {
             "outlinewidth": 0,
             "ticks": ""
            },
            "colorscale": [
             [
              0,
              "#0d0887"
             ],
             [
              0.1111111111111111,
              "#46039f"
             ],
             [
              0.2222222222222222,
              "#7201a8"
             ],
             [
              0.3333333333333333,
              "#9c179e"
             ],
             [
              0.4444444444444444,
              "#bd3786"
             ],
             [
              0.5555555555555556,
              "#d8576b"
             ],
             [
              0.6666666666666666,
              "#ed7953"
             ],
             [
              0.7777777777777778,
              "#fb9f3a"
             ],
             [
              0.8888888888888888,
              "#fdca26"
             ],
             [
              1,
              "#f0f921"
             ]
            ],
            "type": "contour"
           }
          ],
          "contourcarpet": [
           {
            "colorbar": {
             "outlinewidth": 0,
             "ticks": ""
            },
            "type": "contourcarpet"
           }
          ],
          "heatmap": [
           {
            "colorbar": {
             "outlinewidth": 0,
             "ticks": ""
            },
            "colorscale": [
             [
              0,
              "#0d0887"
             ],
             [
              0.1111111111111111,
              "#46039f"
             ],
             [
              0.2222222222222222,
              "#7201a8"
             ],
             [
              0.3333333333333333,
              "#9c179e"
             ],
             [
              0.4444444444444444,
              "#bd3786"
             ],
             [
              0.5555555555555556,
              "#d8576b"
             ],
             [
              0.6666666666666666,
              "#ed7953"
             ],
             [
              0.7777777777777778,
              "#fb9f3a"
             ],
             [
              0.8888888888888888,
              "#fdca26"
             ],
             [
              1,
              "#f0f921"
             ]
            ],
            "type": "heatmap"
           }
          ],
          "histogram": [
           {
            "marker": {
             "pattern": {
              "fillmode": "overlay",
              "size": 10,
              "solidity": 0.2
             }
            },
            "type": "histogram"
           }
          ],
          "histogram2d": [
           {
            "colorbar": {
             "outlinewidth": 0,
             "ticks": ""
            },
            "colorscale": [
             [
              0,
              "#0d0887"
             ],
             [
              0.1111111111111111,
              "#46039f"
             ],
             [
              0.2222222222222222,
              "#7201a8"
             ],
             [
              0.3333333333333333,
              "#9c179e"
             ],
             [
              0.4444444444444444,
              "#bd3786"
             ],
             [
              0.5555555555555556,
              "#d8576b"
             ],
             [
              0.6666666666666666,
              "#ed7953"
             ],
             [
              0.7777777777777778,
              "#fb9f3a"
             ],
             [
              0.8888888888888888,
              "#fdca26"
             ],
             [
              1,
              "#f0f921"
             ]
            ],
            "type": "histogram2d"
           }
          ],
          "histogram2dcontour": [
           {
            "colorbar": {
             "outlinewidth": 0,
             "ticks": ""
            },
            "colorscale": [
             [
              0,
              "#0d0887"
             ],
             [
              0.1111111111111111,
              "#46039f"
             ],
             [
              0.2222222222222222,
              "#7201a8"
             ],
             [
              0.3333333333333333,
              "#9c179e"
             ],
             [
              0.4444444444444444,
              "#bd3786"
             ],
             [
              0.5555555555555556,
              "#d8576b"
             ],
             [
              0.6666666666666666,
              "#ed7953"
             ],
             [
              0.7777777777777778,
              "#fb9f3a"
             ],
             [
              0.8888888888888888,
              "#fdca26"
             ],
             [
              1,
              "#f0f921"
             ]
            ],
            "type": "histogram2dcontour"
           }
          ],
          "mesh3d": [
           {
            "colorbar": {
             "outlinewidth": 0,
             "ticks": ""
            },
            "type": "mesh3d"
           }
          ],
          "parcoords": [
           {
            "line": {
             "colorbar": {
              "outlinewidth": 0,
              "ticks": ""
             }
            },
            "type": "parcoords"
           }
          ],
          "pie": [
           {
            "automargin": true,
            "type": "pie"
           }
          ],
          "scatter": [
           {
            "fillpattern": {
             "fillmode": "overlay",
             "size": 10,
             "solidity": 0.2
            },
            "type": "scatter"
           }
          ],
          "scatter3d": [
           {
            "line": {
             "colorbar": {
              "outlinewidth": 0,
              "ticks": ""
             }
            },
            "marker": {
             "colorbar": {
              "outlinewidth": 0,
              "ticks": ""
             }
            },
            "type": "scatter3d"
           }
          ],
          "scattercarpet": [
           {
            "marker": {
             "colorbar": {
              "outlinewidth": 0,
              "ticks": ""
             }
            },
            "type": "scattercarpet"
           }
          ],
          "scattergeo": [
           {
            "marker": {
             "colorbar": {
              "outlinewidth": 0,
              "ticks": ""
             }
            },
            "type": "scattergeo"
           }
          ],
          "scattergl": [
           {
            "marker": {
             "colorbar": {
              "outlinewidth": 0,
              "ticks": ""
             }
            },
            "type": "scattergl"
           }
          ],
          "scattermap": [
           {
            "marker": {
             "colorbar": {
              "outlinewidth": 0,
              "ticks": ""
             }
            },
            "type": "scattermap"
           }
          ],
          "scattermapbox": [
           {
            "marker": {
             "colorbar": {
              "outlinewidth": 0,
              "ticks": ""
             }
            },
            "type": "scattermapbox"
           }
          ],
          "scatterpolar": [
           {
            "marker": {
             "colorbar": {
              "outlinewidth": 0,
              "ticks": ""
             }
            },
            "type": "scatterpolar"
           }
          ],
          "scatterpolargl": [
           {
            "marker": {
             "colorbar": {
              "outlinewidth": 0,
              "ticks": ""
             }
            },
            "type": "scatterpolargl"
           }
          ],
          "scatterternary": [
           {
            "marker": {
             "colorbar": {
              "outlinewidth": 0,
              "ticks": ""
             }
            },
            "type": "scatterternary"
           }
          ],
          "surface": [
           {
            "colorbar": {
             "outlinewidth": 0,
             "ticks": ""
            },
            "colorscale": [
             [
              0,
              "#0d0887"
             ],
             [
              0.1111111111111111,
              "#46039f"
             ],
             [
              0.2222222222222222,
              "#7201a8"
             ],
             [
              0.3333333333333333,
              "#9c179e"
             ],
             [
              0.4444444444444444,
              "#bd3786"
             ],
             [
              0.5555555555555556,
              "#d8576b"
             ],
             [
              0.6666666666666666,
              "#ed7953"
             ],
             [
              0.7777777777777778,
              "#fb9f3a"
             ],
             [
              0.8888888888888888,
              "#fdca26"
             ],
             [
              1,
              "#f0f921"
             ]
            ],
            "type": "surface"
           }
          ],
          "table": [
           {
            "cells": {
             "fill": {
              "color": "#EBF0F8"
             },
             "line": {
              "color": "white"
             }
            },
            "header": {
             "fill": {
              "color": "#C8D4E3"
             },
             "line": {
              "color": "white"
             }
            },
            "type": "table"
           }
          ]
         },
         "layout": {
          "annotationdefaults": {
           "arrowcolor": "#2a3f5f",
           "arrowhead": 0,
           "arrowwidth": 1
          },
          "autotypenumbers": "strict",
          "coloraxis": {
           "colorbar": {
            "outlinewidth": 0,
            "ticks": ""
           }
          },
          "colorscale": {
           "diverging": [
            [
             0,
             "#8e0152"
            ],
            [
             0.1,
             "#c51b7d"
            ],
            [
             0.2,
             "#de77ae"
            ],
            [
             0.3,
             "#f1b6da"
            ],
            [
             0.4,
             "#fde0ef"
            ],
            [
             0.5,
             "#f7f7f7"
            ],
            [
             0.6,
             "#e6f5d0"
            ],
            [
             0.7,
             "#b8e186"
            ],
            [
             0.8,
             "#7fbc41"
            ],
            [
             0.9,
             "#4d9221"
            ],
            [
             1,
             "#276419"
            ]
           ],
           "sequential": [
            [
             0,
             "#0d0887"
            ],
            [
             0.1111111111111111,
             "#46039f"
            ],
            [
             0.2222222222222222,
             "#7201a8"
            ],
            [
             0.3333333333333333,
             "#9c179e"
            ],
            [
             0.4444444444444444,
             "#bd3786"
            ],
            [
             0.5555555555555556,
             "#d8576b"
            ],
            [
             0.6666666666666666,
             "#ed7953"
            ],
            [
             0.7777777777777778,
             "#fb9f3a"
            ],
            [
             0.8888888888888888,
             "#fdca26"
            ],
            [
             1,
             "#f0f921"
            ]
           ],
           "sequentialminus": [
            [
             0,
             "#0d0887"
            ],
            [
             0.1111111111111111,
             "#46039f"
            ],
            [
             0.2222222222222222,
             "#7201a8"
            ],
            [
             0.3333333333333333,
             "#9c179e"
            ],
            [
             0.4444444444444444,
             "#bd3786"
            ],
            [
             0.5555555555555556,
             "#d8576b"
            ],
            [
             0.6666666666666666,
             "#ed7953"
            ],
            [
             0.7777777777777778,
             "#fb9f3a"
            ],
            [
             0.8888888888888888,
             "#fdca26"
            ],
            [
             1,
             "#f0f921"
            ]
           ]
          },
          "colorway": [
           "#636efa",
           "#EF553B",
           "#00cc96",
           "#ab63fa",
           "#FFA15A",
           "#19d3f3",
           "#FF6692",
           "#B6E880",
           "#FF97FF",
           "#FECB52"
          ],
          "font": {
           "color": "#2a3f5f"
          },
          "geo": {
           "bgcolor": "white",
           "lakecolor": "white",
           "landcolor": "#E5ECF6",
           "showlakes": true,
           "showland": true,
           "subunitcolor": "white"
          },
          "hoverlabel": {
           "align": "left"
          },
          "hovermode": "closest",
          "mapbox": {
           "style": "light"
          },
          "paper_bgcolor": "white",
          "plot_bgcolor": "#E5ECF6",
          "polar": {
           "angularaxis": {
            "gridcolor": "white",
            "linecolor": "white",
            "ticks": ""
           },
           "bgcolor": "#E5ECF6",
           "radialaxis": {
            "gridcolor": "white",
            "linecolor": "white",
            "ticks": ""
           }
          },
          "scene": {
           "xaxis": {
            "backgroundcolor": "#E5ECF6",
            "gridcolor": "white",
            "gridwidth": 2,
            "linecolor": "white",
            "showbackground": true,
            "ticks": "",
            "zerolinecolor": "white"
           },
           "yaxis": {
            "backgroundcolor": "#E5ECF6",
            "gridcolor": "white",
            "gridwidth": 2,
            "linecolor": "white",
            "showbackground": true,
            "ticks": "",
            "zerolinecolor": "white"
           },
           "zaxis": {
            "backgroundcolor": "#E5ECF6",
            "gridcolor": "white",
            "gridwidth": 2,
            "linecolor": "white",
            "showbackground": true,
            "ticks": "",
            "zerolinecolor": "white"
           }
          },
          "shapedefaults": {
           "line": {
            "color": "#2a3f5f"
           }
          },
          "ternary": {
           "aaxis": {
            "gridcolor": "white",
            "linecolor": "white",
            "ticks": ""
           },
           "baxis": {
            "gridcolor": "white",
            "linecolor": "white",
            "ticks": ""
           },
           "bgcolor": "#E5ECF6",
           "caxis": {
            "gridcolor": "white",
            "linecolor": "white",
            "ticks": ""
           }
          },
          "title": {
           "x": 0.05
          },
          "xaxis": {
           "automargin": true,
           "gridcolor": "white",
           "linecolor": "white",
           "ticks": "",
           "title": {
            "standoff": 15
           },
           "zerolinecolor": "white",
           "zerolinewidth": 2
          },
          "yaxis": {
           "automargin": true,
           "gridcolor": "white",
           "linecolor": "white",
           "ticks": "",
           "title": {
            "standoff": 15
           },
           "zerolinecolor": "white",
           "zerolinewidth": 2
          }
         }
        },
        "title": {
         "text": "Odds of pass versus the score in the Fourth Quarter"
        },
        "xaxis": {
         "anchor": "y",
         "domain": [
          0,
          1
         ],
         "title": {
          "text": "score_offset"
         }
        },
        "yaxis": {
         "anchor": "x",
         "domain": [
          0,
          1
         ],
         "title": {
          "text": "pass_percent"
         }
        }
       }
      }
     },
     "metadata": {},
     "output_type": "display_data"
    }
   ],
   "source": [
    "score_and_result = df.loc[df.quarter_4 == True, ['quarter', 'score_offset', 'pass_percent'] ].groupby(['quarter', 'score_offset']).mean('pass_percent').reset_index()\n",
    "score_and_result\n",
    "\n",
    "px.scatter(score_and_result, x='score_offset', y='pass_percent', trendline='ols', title='Odds of pass versus the score in the Fourth Quarter')"
   ]
  },
  {
   "cell_type": "markdown",
   "id": "662b4f46",
   "metadata": {},
   "source": [
    "# Determine Hyperparameters"
   ]
  },
  {
   "cell_type": "markdown",
   "id": "9b95d976",
   "metadata": {},
   "source": [
    "### Logistic Regression"
   ]
  },
  {
   "cell_type": "code",
   "execution_count": 1264,
   "id": "86b60003",
   "metadata": {},
   "outputs": [
    {
     "name": "stdout",
     "output_type": "stream",
     "text": [
      "Not optimizing hyper parameters - IS_TRAINING_MODE=True\n"
     ]
    }
   ],
   "source": [
    "pipeline = Pipeline([\n",
    "    ('logistic_regression', LogisticRegression(max_iter=10000))\n",
    "])\n",
    "parameters_to_try = {\n",
    "    'logistic_regression__fit_intercept': [True, False],\n",
    "    'logistic_regression__penalty': [None, 'l1', 'l2', 'elasticnet'],\n",
    "    'logistic_regression__C': [1.0, 100.0, 10000.0],\n",
    "    'logistic_regression__class_weight': [None, 'balanced'],\n",
    "    'logistic_regression__solver': ['lbfgs', 'liblinear', 'newton-cg', 'newton-cholesky', 'sag', 'saga'],\n",
    "}\n",
    "\n",
    "optimize_model_params(pipeline, parameters_to_try)"
   ]
  },
  {
   "cell_type": "code",
   "execution_count": 1265,
   "id": "f2c26c95",
   "metadata": {},
   "outputs": [
    {
     "name": "stdout",
     "output_type": "stream",
     "text": [
      "Not optimizing hyper parameters - IS_TRAINING_MODE=True\n"
     ]
    }
   ],
   "source": [
    "model = LogisticRegression(fit_intercept = logistic_regression__fit_intercept,\n",
    "                           penalty = logistic_regression__penalty,\n",
    "                           C = logistic_regression__C,\n",
    "                           class_weight = logistic_regression__class_weight,\n",
    "                           solver = logistic_regression__solver)\n",
    "features = find_best_features(model, \"logistic_regression\")"
   ]
  },
  {
   "cell_type": "markdown",
   "id": "b368b08e",
   "metadata": {},
   "source": [
    "### K-Nearest Neighbors"
   ]
  },
  {
   "cell_type": "code",
   "execution_count": 1266,
   "id": "7887622b",
   "metadata": {},
   "outputs": [
    {
     "name": "stdout",
     "output_type": "stream",
     "text": [
      "Not optimizing hyper parameters - IS_TRAINING_MODE=True\n"
     ]
    }
   ],
   "source": [
    "pipeline = Pipeline([\n",
    "    ('kneighbors', KNeighborsClassifier())\n",
    "])\n",
    "parameters_to_try = {\n",
    "    'kneighbors__n_neighbors': np.array(range(1, 20)),\n",
    "    'kneighbors__weights': [None, 'uniform', 'distance'],\n",
    "    'kneighbors__algorithm': ['auto', 'ball_tree', 'kd_tree', 'brute'],\n",
    "    # 'kneighbors__leaf_sizeint': ['algorithm', 'leaf_size', 'metric', 'metric_params', 'n_jobs', 'n_neighbors', 'p', 'weights']\n",
    "}\n",
    "\n",
    "optimize_model_params(pipeline, parameters_to_try)"
   ]
  },
  {
   "cell_type": "code",
   "execution_count": 1267,
   "id": "4a64010b",
   "metadata": {},
   "outputs": [
    {
     "name": "stdout",
     "output_type": "stream",
     "text": [
      "Not optimizing hyper parameters - IS_TRAINING_MODE=True\n"
     ]
    }
   ],
   "source": [
    "model = KNeighborsClassifier(algorithm = kneighbors__algorithm,\n",
    "                             n_neighbors = kneighbors__n_neighbors,\n",
    "                             weights = kneighbors__weights)\n",
    "features = find_best_features(model, \"kneighbors\")"
   ]
  },
  {
   "cell_type": "markdown",
   "id": "c0368569",
   "metadata": {},
   "source": [
    "### Decision Tree"
   ]
  },
  {
   "cell_type": "code",
   "execution_count": 1268,
   "id": "963338b6",
   "metadata": {},
   "outputs": [
    {
     "name": "stdout",
     "output_type": "stream",
     "text": [
      "Not optimizing hyper parameters - IS_TRAINING_MODE=True\n"
     ]
    }
   ],
   "source": [
    "pipeline = Pipeline([\n",
    "    ('decision_tree', DecisionTreeClassifier(criterion='entropy'))\n",
    "])\n",
    "parameters_to_try = {\n",
    "    'decision_tree__criterion': ['gini', 'entropy', 'log_loss'],\n",
    "    'decision_tree__max_depth': np.array(range(1, 20)),\n",
    "    'decision_tree__max_features': [None, 'sqrt', 'log2'],\n",
    "}\n",
    "\n",
    "optimize_model_params(pipeline, parameters_to_try)"
   ]
  },
  {
   "cell_type": "code",
   "execution_count": 1269,
   "id": "86d5e23f",
   "metadata": {},
   "outputs": [
    {
     "name": "stdout",
     "output_type": "stream",
     "text": [
      "Not optimizing hyper parameters - IS_TRAINING_MODE=True\n"
     ]
    }
   ],
   "source": [
    "model = DecisionTreeClassifier(criterion=decision_tree__criterion, \n",
    "                                    max_depth=decision_tree__max_depth, \n",
    "                                    max_features=decision_tree__max_features)\n",
    "features = find_best_features(model, \"decision_tree\")"
   ]
  },
  {
   "cell_type": "markdown",
   "id": "f4b4dd68",
   "metadata": {},
   "source": [
    "### Support Vector Machines"
   ]
  },
  {
   "cell_type": "code",
   "execution_count": 1270,
   "id": "567ad50e",
   "metadata": {},
   "outputs": [],
   "source": [
    "# pipeline = Pipeline([\n",
    "#     ('support_vector', SVC(probability=False))        # avoid applying expensive Platt's calibration internally\n",
    "# ])\n",
    "# parameters_to_try = {\n",
    "#     'support_vector__C': [0.1, 10, 1000], \n",
    "# \t'support_vector__gamma': [0.1, 10, 100], # 1, 0.1, 0.01, 0.001, 0.0001\n",
    "# \t'support_vector__kernel': ['poly']\n",
    "# }\n",
    "\n",
    "# optimize_model_params(pipeline, parameters_to_try)"
   ]
  },
  {
   "cell_type": "code",
   "execution_count": 1271,
   "id": "a8cf68ec",
   "metadata": {},
   "outputs": [
    {
     "name": "stdout",
     "output_type": "stream",
     "text": [
      "Not optimizing hyper parameters - IS_TRAINING_MODE=True\n"
     ]
    }
   ],
   "source": [
    "model = SVC()\n",
    "features = find_best_features(model, \"support_vector\")\n",
    "\n",
    "# Overall Best: 0.742667 features: ['rb_count' 'on_schedule' 'form_SHOTGUN' 'form_SINGLEBACK' 'form_VICTORY']"
   ]
  },
  {
   "cell_type": "markdown",
   "id": "d3f70f1c",
   "metadata": {},
   "source": [
    "### Random Forest"
   ]
  },
  {
   "cell_type": "code",
   "execution_count": 1272,
   "id": "d19651dd",
   "metadata": {},
   "outputs": [
    {
     "name": "stdout",
     "output_type": "stream",
     "text": [
      "Not optimizing hyper parameters - IS_TRAINING_MODE=True\n"
     ]
    }
   ],
   "source": [
    "pipeline = Pipeline([\n",
    "    ('random_forest', RandomForestClassifier(n_estimators=5, max_features=10, oob_score=True))\n",
    "])\n",
    "parameters_to_try = {\n",
    "    'random_forest__n_estimators': np.array(range(1, 5)),\n",
    "    'random_forest__max_features': np.array(range(1, 10)),\n",
    "}\n",
    "\n",
    "optimize_model_params(pipeline, parameters_to_try)"
   ]
  },
  {
   "cell_type": "code",
   "execution_count": 1273,
   "id": "84ea34c9",
   "metadata": {},
   "outputs": [],
   "source": [
    "if not IS_TRAINING_MODE:\n",
    "    n_trees = [1, 5, 10, 25, 50, 75, 100, 150, 200, 250, 500, 750, 1000]\n",
    "\n",
    "    ### GRADED\n",
    "    oob_scores = []\n",
    "    accuracy = []\n",
    "    for i in n_trees:\n",
    "        f = RandomForestClassifier(random_state=42, n_estimators=i, oob_score=True).fit(X_train, y_train)\n",
    "        oob_scores.append(f.oob_score_)\n",
    "        accuracy.append(accuracy_score(f.predict(X_test), y_test))\n",
    "\n",
    "    ### ANSWER CHECK\n",
    "    print(oob_scores)\n",
    "\n",
    "    plt.plot(n_trees, oob_scores, '--o')\n",
    "    plt.grid()\n",
    "    plt.title('Number of trees and oob score')\n",
    "    plt.xlabel('Number of Trees')\n",
    "    plt.ylabel(\"oob score\");"
   ]
  },
  {
   "cell_type": "code",
   "execution_count": 1274,
   "id": "9821e8f5",
   "metadata": {},
   "outputs": [],
   "source": [
    "if not IS_TRAINING_MODE:\n",
    "    print(accuracy)\n",
    "\n",
    "    plt.plot(n_trees, accuracy, '--o')\n",
    "    plt.grid()\n",
    "    plt.title('Number of trees and oob score')\n",
    "    plt.xlabel('Number of Trees')\n",
    "    plt.ylabel(\"oob score\");"
   ]
  },
  {
   "cell_type": "markdown",
   "id": "7daeba24",
   "metadata": {},
   "source": [
    "### Gradient Boosting Ensemble"
   ]
  },
  {
   "cell_type": "code",
   "execution_count": 1275,
   "id": "3e42c842",
   "metadata": {},
   "outputs": [],
   "source": [
    "if not IS_TRAINING_MODE:\n",
    "    gbc_estimators = np.array(range(20, 60))\n",
    "    gbc_scores = []\n",
    "    gbc_accuracy = []\n",
    "    for i in gbc_estimators:\n",
    "        gbc = GradientBoostingClassifier(n_estimators=i)\n",
    "        gbc.fit(X_train, y_train)\n",
    "        gbc_score = gbc.score(X_test, y_test)\n",
    "        gbc_scores.append(gbc_score)\n",
    "        gbc_accuracy.append(accuracy_score(gbc.predict(X_test), y_test))\n",
    "\n",
    "    ### ANSWER CHECK\n",
    "    print(gbc_scores)\n",
    "    print(gbc_accuracy)\n",
    "\n",
    "    plt.plot(gbc_estimators, gbc_scores, '--o')\n",
    "    plt.grid()\n",
    "    plt.title('Number of estimators and score')\n",
    "    plt.xlabel('Number of Estimators')\n",
    "    plt.ylabel(\"score\");"
   ]
  },
  {
   "cell_type": "markdown",
   "id": "bf946186",
   "metadata": {},
   "source": [
    "### Extreme Gradient Boosting"
   ]
  },
  {
   "cell_type": "code",
   "execution_count": 1276,
   "id": "5a108cb5",
   "metadata": {},
   "outputs": [
    {
     "name": "stdout",
     "output_type": "stream",
     "text": [
      "Not optimizing hyper parameters - IS_TRAINING_MODE=True\n"
     ]
    }
   ],
   "source": [
    "model = XGBClassifier()\n",
    "pipeline = Pipeline([\n",
    "    ('extremegradientboost', XGBClassifier())\n",
    "])\n",
    "parameters_to_try = {\n",
    "    'extremegradientboost__n_estimators': np.array(range(1, 20)),\n",
    "    'extremegradientboost__max_depth': np.array(range(1, 20)),\n",
    "    'extremegradientboost__learning_rate': np.array(range(1, 20)),\n",
    "}\n",
    "\n",
    "optimize_model_params(pipeline, parameters_to_try, use_label_encoder=True)"
   ]
  },
  {
   "cell_type": "code",
   "execution_count": 1277,
   "id": "1695e7d5",
   "metadata": {},
   "outputs": [
    {
     "name": "stdout",
     "output_type": "stream",
     "text": [
      "Not optimizing hyper parameters - IS_TRAINING_MODE=True\n"
     ]
    }
   ],
   "source": [
    "model = XGBClassifier(n_estimators=extremegradientboost__n_estimators, \n",
    "                      max_depth=extremegradientboost__max_depth, \n",
    "                      learning_rate=extremegradientboost__learning_rate)\n",
    "\n",
    "features = find_best_features(model, \"extremegradientboost\", use_label_encoder=True)"
   ]
  },
  {
   "cell_type": "markdown",
   "id": "2af6c883",
   "metadata": {},
   "source": [
    "# Runtime Models"
   ]
  },
  {
   "cell_type": "markdown",
   "id": "6a91285a",
   "metadata": {},
   "source": [
    "### Baseline"
   ]
  },
  {
   "cell_type": "code",
   "execution_count": 1278,
   "id": "d2648312",
   "metadata": {},
   "outputs": [
    {
     "data": {
      "image/png": "[encoded data removed]",
      "text/plain": [
       "<Figure size 1500x500 with 3 Axes>"
      ]
     },
     "metadata": {},
     "output_type": "display_data"
    }
   ],
   "source": [
    "modeller = ModelTrainer(\n",
    "    \"Dummy\", \n",
    "    DummyClassifier(),\n",
    "    None\n",
    ")\n",
    "modeller.run()"
   ]
  },
  {
   "cell_type": "markdown",
   "id": "c0fdc43e",
   "metadata": {},
   "source": [
    "### Logistic Regression"
   ]
  },
  {
   "cell_type": "code",
   "execution_count": 1279,
   "id": "e6f5804d",
   "metadata": {},
   "outputs": [
    {
     "data": {
      "image/png": "[encoded data removed]",
      "text/plain": [
       "<Figure size 1500x500 with 3 Axes>"
      ]
     },
     "metadata": {},
     "output_type": "display_data"
    }
   ],
   "source": [
    "model_name = f\"LogisticRegression (fit_intercept = {logistic_regression__fit_intercept}, penalty = {logistic_regression__penalty}, C = {logistic_regression__C}, class_weight = {logistic_regression__class_weight}, solver = {logistic_regression__solver})\"\n",
    "model = LogisticRegression(fit_intercept = logistic_regression__fit_intercept,\n",
    "                           penalty = logistic_regression__penalty,\n",
    "                           C = logistic_regression__C,\n",
    "                           class_weight = logistic_regression__class_weight,\n",
    "                           solver = logistic_regression__solver)\n",
    "\n",
    "ModelTrainer(model_name, \n",
    "             Pipeline([\n",
    "                 ('scaler', StandardScaler()), \n",
    "                 ('regression', model)\n",
    "            ]),\n",
    "            \"lr\",\n",
    "            selected_features=logistic_regression__features).run()"
   ]
  },
  {
   "cell_type": "markdown",
   "id": "080c2bca",
   "metadata": {},
   "source": [
    "### K-Nearest Neighbors"
   ]
  },
  {
   "cell_type": "code",
   "execution_count": 1280,
   "id": "8109dd24",
   "metadata": {},
   "outputs": [
    {
     "data": {
      "image/png": "[encoded data removed]",
      "text/plain": [
       "<Figure size 1500x500 with 3 Axes>"
      ]
     },
     "metadata": {},
     "output_type": "display_data"
    }
   ],
   "source": [
    "model_name = f\"K-Nearest Neighbors (algorithm = {kneighbors__algorithm}, n_neighbors = {kneighbors__n_neighbors}, weights = {kneighbors__weights})\"\n",
    "model = KNeighborsClassifier(algorithm = kneighbors__algorithm,\n",
    "                             n_neighbors = kneighbors__n_neighbors,\n",
    "                             weights = kneighbors__weights)\n",
    "ModelTrainer(model_name, \n",
    "             Pipeline([\n",
    "                 ('scaler', StandardScaler()), \n",
    "                 ('regression', model)\n",
    "            ]),\n",
    "            \"kn\",\n",
    "            selected_features=kneighbors__features).run()"
   ]
  },
  {
   "cell_type": "markdown",
   "id": "79e3d07e",
   "metadata": {},
   "source": [
    "### Decision Tree"
   ]
  },
  {
   "cell_type": "code",
   "execution_count": 1281,
   "id": "c35498d5",
   "metadata": {},
   "outputs": [
    {
     "data": {
      "image/png": "[encoded data removed]",
      "text/plain": [
       "<Figure size 1500x500 with 3 Axes>"
      ]
     },
     "metadata": {},
     "output_type": "display_data"
    }
   ],
   "source": [
    "# for max_depth in range(1, 30):\n",
    "model_name = f\"DecisionTreeClassifier with (criterion={decision_tree__criterion}, max_depth={decision_tree__max_depth}, max_features={decision_tree__max_features})\"\n",
    "model = DecisionTreeClassifier(criterion=decision_tree__criterion, \n",
    "                                    max_depth=decision_tree__max_depth, \n",
    "                                    max_features=decision_tree__max_features)\n",
    "ModelTrainer(model_name, \n",
    "            Pipeline([\n",
    "                ('regression', model)\n",
    "            ]),\n",
    "            \"dt\",\n",
    "            selected_features=decision_tree__features).run()"
   ]
  },
  {
   "cell_type": "markdown",
   "id": "4bfbec80",
   "metadata": {},
   "source": [
    "### Support Vector Machines"
   ]
  },
  {
   "cell_type": "code",
   "execution_count": 1282,
   "id": "f7ec5986",
   "metadata": {},
   "outputs": [
    {
     "data": {
      "image/png": "[encoded data removed]",
      "text/plain": [
       "<Figure size 1500x500 with 3 Axes>"
      ]
     },
     "metadata": {},
     "output_type": "display_data"
    }
   ],
   "source": [
    "svc = SVC() #kernel=PARAM_SVM_KERNEL, gamma=PARAM_SVM_GAMMA, C=PARAM_SVM_C)\n",
    "model_name = f\"SVM (default params)\"\n",
    "\n",
    "ModelTrainer(model_name, \n",
    "            Pipeline([\n",
    "                ('regression', model)\n",
    "            ]),\n",
    "            \"sv\").run()"
   ]
  },
  {
   "cell_type": "markdown",
   "id": "ddc02793",
   "metadata": {},
   "source": [
    "### Random Forest"
   ]
  },
  {
   "cell_type": "code",
   "execution_count": 1283,
   "id": "5fa64e01",
   "metadata": {},
   "outputs": [
    {
     "data": {
      "image/png": "[encoded data removed]",
      "text/plain": [
       "<Figure size 1500x500 with 3 Axes>"
      ]
     },
     "metadata": {},
     "output_type": "display_data"
    }
   ],
   "source": [
    "model_name = f\"RandomForestClassifier with (n_estimators={random_forest__n_estimators}, max_features={random_forest__max_features})\"\n",
    "model = RandomForestClassifier(n_estimators=random_forest__n_estimators, \n",
    "                               max_features=random_forest__max_features,\n",
    "                               oob_score=True)\n",
    "ModelTrainer(model_name, \n",
    "            Pipeline([\n",
    "                ('regression', model)\n",
    "            ]),\n",
    "            \"rf\").run()"
   ]
  },
  {
   "cell_type": "markdown",
   "id": "2d2051a3",
   "metadata": {},
   "source": [
    "### Gradient Boosting Ensemble"
   ]
  },
  {
   "cell_type": "code",
   "execution_count": 1284,
   "id": "8522bac1",
   "metadata": {},
   "outputs": [
    {
     "data": {
      "image/png": "[encoded data removed]",
      "text/plain": [
       "<Figure size 1500x500 with 3 Axes>"
      ]
     },
     "metadata": {},
     "output_type": "display_data"
    }
   ],
   "source": [
    "model_name = f\"GradientBoostingClassifier with (n_estimators={gradient_boost__n_estimators})\"\n",
    "model = GradientBoostingClassifier(n_estimators=gradient_boost__n_estimators)\n",
    "ModelTrainer(model_name, \n",
    "            Pipeline([\n",
    "                ('regression', model)\n",
    "            ]),\n",
    "            \"gb\").run()"
   ]
  },
  {
   "cell_type": "markdown",
   "id": "b96a1d90",
   "metadata": {},
   "source": [
    "### Extreme Gradient Boost"
   ]
  },
  {
   "cell_type": "code",
   "execution_count": 1285,
   "id": "a0658ea0",
   "metadata": {},
   "outputs": [
    {
     "data": {
      "image/png": "[encoded data removed]",
      "text/plain": [
       "<Figure size 1500x500 with 3 Axes>"
      ]
     },
     "metadata": {},
     "output_type": "display_data"
    }
   ],
   "source": [
    "model_name = f\"XGBClassifier (n_estimators={extremegradientboost__n_estimators}, max_depth={extremegradientboost__max_depth}, learning_rate={extremegradientboost__learning_rate})\"\n",
    "model = XGBClassifier(n_estimators=extremegradientboost__n_estimators, \n",
    "                      max_depth=extremegradientboost__max_depth, \n",
    "                      learning_rate=extremegradientboost__learning_rate)\n",
    "\n",
    "ModelTrainer(model_name, \n",
    "             Pipeline([\n",
    "                 ('scaler', StandardScaler()), \n",
    "                 ('regression', model)\n",
    "            ]),\n",
    "            \"xg\",\n",
    "            use_label_encoder=True,\n",
    "            selected_features=extremegradientboost__features).run()"
   ]
  },
  {
   "cell_type": "markdown",
   "id": "76a68b5f",
   "metadata": {},
   "source": [
    "# Post Training"
   ]
  },
  {
   "cell_type": "markdown",
   "id": "76ae5376",
   "metadata": {},
   "source": [
    "## Summary of hyperparameters and model output"
   ]
  },
  {
   "cell_type": "code",
   "execution_count": 1286,
   "id": "d53a5106",
   "metadata": {},
   "outputs": [
    {
     "name": "stdout",
     "output_type": "stream",
     "text": [
      "*Best Run is 0.744564 from GradientBoostingClassifier with (n_estimators=32)*\n",
      "\n",
      "| Model | Features | Train Time | Train Accuracy | Test Accuracy |\n",
      "| ----- | -------- | ---------- | -------------  | -----------   |\n",
      "| Dummy | 0 | 0.01 secs | 0.6038 | 0.6038 |\n",
      "| LogisticRegression (fit_intercept = True, penalty = l1, C = 1.0, class_weight = balanced, solver = liblinear) | 61 | 0.01 secs | 0.7428 | 0.7420 |\n",
      "| K-Nearest Neighbors (algorithm = auto, n_neighbors = 10, weights = None) | 61 | 0.10 secs | 0.7395 | 0.7415 |\n",
      "| DecisionTreeClassifier with (criterion=entropy, max_depth=6, max_features=None) | 61 | 0.01 secs | 0.7403 | 0.7422 |\n",
      "| SVM (default params) | 61 | 0.02 secs | 0.7709 | 0.7275 |\n",
      "| RandomForestClassifier with (n_estimators=3, max_features=8) | 61 | 0.02 secs | 0.9347 | 0.6871 |\n",
      "| GradientBoostingClassifier with (n_estimators=32) | 61 | 0.08 secs | 0.7589 | 0.7446 |\n",
      "| XGBClassifier (n_estimators=18, max_depth=1, learning_rate=1) | 61 | 0.01 secs | 0.7395 | 0.7415 |\n"
     ]
    }
   ],
   "source": [
    "print_best_params(\"All Hyperparameters\", all_best_params)\n",
    "print_best_features()\n",
    "show_run_output()"
   ]
  },
  {
   "cell_type": "markdown",
   "id": "ac9ae9f1",
   "metadata": {},
   "source": [
    "## Evaluating Models"
   ]
  },
  {
   "cell_type": "code",
   "execution_count": 1287,
   "id": "3dd4e485",
   "metadata": {},
   "outputs": [],
   "source": [
    "model_prefixes = {'lr':\"Logistic Regression\", 'kn': \"KNN\", 'dt': \"Decision Tree\", 'sv': \"SVM\", 'rf': \"Random Forest\", 'gb': \"Gradient Boost\"}\n",
    "\n",
    "def calculate_model_accuracy():\n",
    "    if not IS_TRAINING_MODE:\n",
    "        print(\"This function only available during training mode\")\n",
    "        return\n",
    "    X_test[\"actual\"] = y_test\n",
    "    for model in model_prefixes:\n",
    "        X_test[f'{model}_acc'] = X_test.apply(lambda p: p[f'{model}_pred'] == p.actual, axis = 1) \n",
    "\n",
    "scenarios = {'lr':[], 'kn': [], 'dt': [], 'sv': [], 'rf': [], 'gb': []}\n",
    "def calculate_combined_accuracy(df, type_prefix, actual=None):\n",
    "    if not IS_TRAINING_MODE:\n",
    "        print(\"This function only available during training mode\")\n",
    "        return\n",
    "    \n",
    "    show_table = False\n",
    "    if show_table:\n",
    "        print(\"| Model | lr | kn | dt | sv | rf | gb |\")\n",
    "        print(\"| ----- | -- | -- | -- | -- | -- | -- |\")\n",
    "    else:\n",
    "        print(\"Model\\t\\tlr\\tkn\\tdt\\tsv\\trf\\tgb\")\n",
    "\n",
    "    # when no features, we're just checking\n",
    "    features = [item for item in df.columns if item.startswith(type_prefix)]\n",
    "    if len(features) == 0:\n",
    "        best_name = \"\"\n",
    "        best_acc = 0\n",
    "        row = f\"| {type_prefix} | \" if show_table else f\"{type_prefix}\\t\"\n",
    "        for m in model_prefixes:\n",
    "            model_accuracy = f\"{m}_acc\"\n",
    "            mean_acc = df[model_accuracy].mean()\n",
    "            row += f\" {mean_acc:.2f} |\" if show_table else f\"{mean_acc:.2f}\\t\"\n",
    "            if mean_acc > best_acc:\n",
    "                best_acc = mean_acc\n",
    "                best_name = m\n",
    "            if actual is not None:\n",
    "                diff = f\"outperformed by {(mean_acc - actual)*100:.1f}\" if mean_acc > actual else f\"underperformed by {(actual - mean_acc)*100:.1f}\"\n",
    "                scenarios[m].append(f\"- {type_prefix}: predicted {mean_acc:.2f} (actual {actual:.2f}), {diff}\")\n",
    "        print(row)\n",
    "        print(f\"The best model is {model_prefixes[best_name]} with an accuracy of {best_acc:.2f}\")\n",
    "    else:\n",
    "        for feature in features:\n",
    "            pretty_feature = feature.replace(f\"{type_prefix}_\", \"\")\n",
    "            row = f\"| {pretty_feature} | \" if show_table else f\"{feature}\\t\"\n",
    "            for m in model_prefixes:\n",
    "                model_accuracy = f\"{m}_acc\"\n",
    "                mean_acc = df[df[feature] == 1][model_accuracy].mean()\n",
    "                row += f\" {mean_acc:.2f} |\" if show_table else f\"{mean_acc:.2f}\\t\"\n",
    "            print(row)\n",
    "    print(\"\")\n",
    "\n",
    "def print_scenarios():\n",
    "    for prefix in scenarios:\n",
    "        print(f\"{prefix} - {model_prefixes[prefix]}\")\n",
    "        for scenario in scenarios[prefix]:\n",
    "            print(scenario)\n",
    "\n",
    "calculate_model_accuracy()"
   ]
  },
  {
   "cell_type": "markdown",
   "id": "82eb4326",
   "metadata": {},
   "source": [
    "## Evaluating the models"
   ]
  },
  {
   "cell_type": "markdown",
   "id": "1ceb3b72",
   "metadata": {},
   "source": [
    "### Scenario: Which models perform the best based on the formation"
   ]
  },
  {
   "cell_type": "code",
   "execution_count": 1288,
   "id": "f9ede356",
   "metadata": {},
   "outputs": [
    {
     "name": "stdout",
     "output_type": "stream",
     "text": [
      "Model\t\tlr\tkn\tdt\tsv\trf\tgb\n",
      "form_EMPTY\t0.97\t0.97\t0.97\t0.95\t0.94\t0.97\t\n",
      "form_I_FORM\t0.71\t0.71\t0.71\t0.70\t0.61\t0.72\t\n",
      "form_JUMBO\t0.84\t0.84\t0.84\t0.81\t0.71\t0.81\t\n",
      "form_MUDDLE\t0.00\t0.00\t1.00\t0.48\t0.19\t0.00\t\n",
      "form_PISTOL\t0.65\t0.65\t0.65\t0.68\t0.60\t0.70\t\n",
      "form_SHOTGUN\t0.75\t0.75\t0.75\t0.73\t0.70\t0.75\t\n",
      "form_SINGLEBACK\t0.67\t0.67\t0.67\t0.66\t0.60\t0.66\t\n",
      "form_VICTORY\t1.00\t1.00\t1.00\t0.97\t0.93\t1.00\t\n",
      "form_WILDCAT\t0.85\t0.85\t0.69\t0.86\t0.64\t0.73\t\n",
      "\n"
     ]
    }
   ],
   "source": [
    "\n",
    "calculate_combined_accuracy(X_test, 'form')"
   ]
  },
  {
   "cell_type": "markdown",
   "id": "48e713c1",
   "metadata": {},
   "source": [
    "### Evalutating: Which teams were the most and least predictable"
   ]
  },
  {
   "cell_type": "code",
   "execution_count": 1289,
   "id": "22cbe038",
   "metadata": {},
   "outputs": [
    {
     "name": "stdout",
     "output_type": "stream",
     "text": [
      "Model\t\tlr\tkn\tdt\tsv\trf\tgb\n",
      "team_ARI\t0.74\t0.74\t0.74\t0.73\t0.74\t0.75\t\n",
      "team_ATL\t0.78\t0.78\t0.78\t0.78\t0.71\t0.79\t\n",
      "team_BAL\t0.72\t0.71\t0.71\t0.72\t0.67\t0.72\t\n",
      "team_BUF\t0.70\t0.73\t0.73\t0.71\t0.64\t0.74\t\n",
      "team_CAR\t0.70\t0.70\t0.70\t0.69\t0.65\t0.70\t\n",
      "team_CHI\t0.69\t0.68\t0.68\t0.62\t0.58\t0.66\t\n",
      "team_CIN\t0.82\t0.82\t0.82\t0.78\t0.71\t0.81\t\n",
      "team_CLE\t0.75\t0.75\t0.75\t0.74\t0.73\t0.74\t\n",
      "team_DAL\t0.74\t0.74\t0.75\t0.75\t0.68\t0.73\t\n",
      "team_DEN\t0.74\t0.75\t0.75\t0.71\t0.69\t0.76\t\n",
      "team_DET\t0.76\t0.76\t0.76\t0.75\t0.69\t0.75\t\n",
      "team_GB\t0.67\t0.67\t0.67\t0.67\t0.67\t0.68\t\n",
      "team_HOU\t0.70\t0.71\t0.71\t0.67\t0.69\t0.72\t\n",
      "team_IND\t0.75\t0.75\t0.75\t0.74\t0.70\t0.74\t\n",
      "team_JAX\t0.70\t0.68\t0.68\t0.70\t0.69\t0.68\t\n",
      "team_KC\t0.76\t0.76\t0.76\t0.75\t0.72\t0.76\t\n",
      "team_LA\t0.73\t0.74\t0.74\t0.73\t0.71\t0.74\t\n",
      "team_LAC\t0.77\t0.77\t0.77\t0.73\t0.66\t0.78\t\n",
      "team_LV\t0.77\t0.77\t0.77\t0.76\t0.75\t0.78\t\n",
      "team_MIA\t0.72\t0.73\t0.73\t0.71\t0.67\t0.74\t\n",
      "team_MIN\t0.73\t0.73\t0.73\t0.72\t0.67\t0.73\t\n",
      "team_NE\t0.76\t0.76\t0.76\t0.71\t0.65\t0.76\t\n",
      "team_NO\t0.82\t0.81\t0.81\t0.80\t0.71\t0.81\t\n",
      "team_NYG\t0.70\t0.70\t0.69\t0.68\t0.65\t0.69\t\n",
      "team_NYJ\t0.74\t0.74\t0.74\t0.73\t0.70\t0.74\t\n",
      "team_PHI\t0.69\t0.68\t0.68\t0.69\t0.64\t0.70\t\n",
      "team_PIT\t0.74\t0.74\t0.74\t0.71\t0.69\t0.73\t\n",
      "team_SEA\t0.70\t0.70\t0.70\t0.70\t0.69\t0.73\t\n",
      "team_SF\t0.79\t0.80\t0.80\t0.79\t0.73\t0.81\t\n",
      "team_TB\t0.82\t0.82\t0.82\t0.81\t0.73\t0.83\t\n",
      "team_TEN\t0.76\t0.76\t0.76\t0.74\t0.67\t0.74\t\n",
      "team_WAS\t0.76\t0.74\t0.74\t0.74\t0.69\t0.75\t\n",
      "\n"
     ]
    }
   ],
   "source": [
    "calculate_combined_accuracy(X_test, 'team')"
   ]
  },
  {
   "cell_type": "markdown",
   "id": "ce9683f6",
   "metadata": {},
   "source": [
    "## Real World Scenarios"
   ]
  },
  {
   "cell_type": "markdown",
   "id": "709f4d1c",
   "metadata": {},
   "source": [
    "### Scenario: QB Spike"
   ]
  },
  {
   "cell_type": "code",
   "execution_count": 1290,
   "id": "dfa728fa",
   "metadata": {},
   "outputs": [
    {
     "name": "stdout",
     "output_type": "stream",
     "text": [
      "Model\t\tlr\tkn\tdt\tsv\trf\tgb\n",
      "Scenario 1) QB spike\t0.74\t0.74\t0.74\t0.73\t0.69\t0.74\t\n",
      "The best model is Gradient Boost with an accuracy of 0.74\n",
      "\n"
     ]
    }
   ],
   "source": [
    "x = X_test\n",
    "calculate_combined_accuracy(x[abs(x.form_MUDDLE) <= 8], 'Scenario 1) QB spike', 1.0)"
   ]
  },
  {
   "cell_type": "markdown",
   "id": "a059969c",
   "metadata": {},
   "source": [
    "### Scenario: Wildcat"
   ]
  },
  {
   "cell_type": "code",
   "execution_count": 1291,
   "id": "8711c8eb",
   "metadata": {},
   "outputs": [
    {
     "name": "stdout",
     "output_type": "stream",
     "text": [
      "Model\t\tlr\tkn\tdt\tsv\trf\tgb\n",
      "Scenario 2) wildcat formation\t0.74\t0.74\t0.74\t0.73\t0.69\t0.74\t\n",
      "The best model is Gradient Boost with an accuracy of 0.74\n",
      "\n"
     ]
    }
   ],
   "source": [
    "x = X_test\n",
    "calculate_combined_accuracy(x[abs(x.form_WILDCAT) <= 8], 'Scenario 2) wildcat formation', 0.8506)"
   ]
  },
  {
   "cell_type": "markdown",
   "id": "96468668",
   "metadata": {},
   "source": [
    "### Scenario: Shotgun"
   ]
  },
  {
   "cell_type": "code",
   "execution_count": 1292,
   "id": "0d94e51f",
   "metadata": {},
   "outputs": [
    {
     "name": "stdout",
     "output_type": "stream",
     "text": [
      "Model\t\tlr\tkn\tdt\tsv\trf\tgb\n",
      "Scenario 3) shotgun formation\t0.74\t0.74\t0.74\t0.73\t0.69\t0.74\t\n",
      "The best model is Gradient Boost with an accuracy of 0.74\n",
      "\n"
     ]
    }
   ],
   "source": [
    "x = X_test\n",
    "calculate_combined_accuracy(x[abs(x.form_SHOTGUN) <= 8], 'Scenario 3) shotgun formation', 0.7454)"
   ]
  },
  {
   "cell_type": "markdown",
   "id": "06181e25",
   "metadata": {},
   "source": []
  },
  {
   "cell_type": "markdown",
   "id": "6c4bcd06",
   "metadata": {},
   "source": [
    "### Scenario: Which models perform the best when the score is close"
   ]
  },
  {
   "cell_type": "code",
   "execution_count": 1293,
   "id": "5a8164c0",
   "metadata": {},
   "outputs": [
    {
     "name": "stdout",
     "output_type": "stream",
     "text": [
      "Model\t\tlr\tkn\tdt\tsv\trf\tgb\n",
      "Scenario 4) one score game\t0.73\t0.73\t0.73\t0.71\t0.68\t0.73\t\n",
      "The best model is Logistic Regression with an accuracy of 0.73\n",
      "\n"
     ]
    }
   ],
   "source": [
    "x = X_test\n",
    "calculate_combined_accuracy(x[abs(x.score_offset) <= 8], 'Scenario 4) one score game', 0.5921)"
   ]
  },
  {
   "cell_type": "markdown",
   "id": "7692ae2f",
   "metadata": {},
   "source": [
    "### Scenario: Which models perform the best on 1st and 10\n",
    "The best model is Decision Tree with an accuracy of 0.68"
   ]
  },
  {
   "cell_type": "code",
   "execution_count": 1294,
   "id": "ab8a3a36",
   "metadata": {},
   "outputs": [
    {
     "name": "stdout",
     "output_type": "stream",
     "text": [
      "Model\t\tlr\tkn\tdt\tsv\trf\tgb\n",
      "Scenario 5) 1st and 10\t0.68\t0.68\t0.68\t0.68\t0.61\t0.68\t\n",
      "The best model is Decision Tree with an accuracy of 0.68\n",
      "\n"
     ]
    }
   ],
   "source": [
    "x = X_test\n",
    "calculate_combined_accuracy(x[(x.down_1 == True) & (X_test.yardsToGo == 10)], \"Scenario 5) 1st and 10\", 0.5042)"
   ]
  },
  {
   "cell_type": "markdown",
   "id": "1b6f40b1",
   "metadata": {},
   "source": [
    "### Scenario: Which models perform the best on 3rd and long\n",
    "The best model is Gradient Boost with an accuracy of 0.95"
   ]
  },
  {
   "cell_type": "code",
   "execution_count": 1295,
   "id": "81225917",
   "metadata": {},
   "outputs": [
    {
     "name": "stdout",
     "output_type": "stream",
     "text": [
      "Model\t\tlr\tkn\tdt\tsv\trf\tgb\n",
      "Scenario 6) 3rd and long\t0.94\t0.94\t0.94\t0.92\t0.92\t0.95\t\n",
      "The best model is Gradient Boost with an accuracy of 0.95\n",
      "\n"
     ]
    }
   ],
   "source": [
    "x = X_test\n",
    "calculate_combined_accuracy(x[(x.down_3 == True) & (X_test.yardsToGo >= 8)], \"Scenario 6) 3rd and long\", 0.9217)"
   ]
  },
  {
   "cell_type": "markdown",
   "id": "d0806878",
   "metadata": {},
   "source": [
    "### Scenario: Which models perform the best when teams are losing by 2 scores\n",
    "The best model is Gradient Boost with an accuracy of 0.74"
   ]
  },
  {
   "cell_type": "code",
   "execution_count": 1296,
   "id": "513ecdae",
   "metadata": {},
   "outputs": [
    {
     "name": "stdout",
     "output_type": "stream",
     "text": [
      "Model\t\tlr\tkn\tdt\tsv\trf\tgb\n",
      "Scenario 7) losing by 2 scores\t0.74\t0.74\t0.74\t0.73\t0.69\t0.74\t\n",
      "The best model is Gradient Boost with an accuracy of 0.74\n",
      "\n"
     ]
    }
   ],
   "source": [
    "x = X_test\n",
    "calculate_combined_accuracy(x[(x.score_offset <= 14)], \"Scenario 7) losing by 2 scores\", 0.6104)"
   ]
  },
  {
   "cell_type": "markdown",
   "id": "03e19c6f",
   "metadata": {},
   "source": [
    "### Scenario: Which models perform the best when teams are winning by 2 scores\n",
    "The best model is SVM with an accuracy of 0.79"
   ]
  },
  {
   "cell_type": "code",
   "execution_count": 1297,
   "id": "fac2de09",
   "metadata": {},
   "outputs": [
    {
     "name": "stdout",
     "output_type": "stream",
     "text": [
      "Model\t\tlr\tkn\tdt\tsv\trf\tgb\n",
      "Scenario 8) winning by 2 scores\t0.76\t0.76\t0.76\t0.78\t0.70\t0.78\t\n",
      "The best model is Gradient Boost with an accuracy of 0.78\n",
      "\n"
     ]
    }
   ],
   "source": [
    "x = X_test\n",
    "calculate_combined_accuracy(x[(x.score_offset >= 14)], \"Scenario 8) winning by 2 scores\", 0.5354)"
   ]
  },
  {
   "cell_type": "markdown",
   "id": "6c73994a",
   "metadata": {},
   "source": [
    "### Scenario: 3rd and Medium (3-8)"
   ]
  },
  {
   "cell_type": "code",
   "execution_count": 1298,
   "id": "73dba5f6",
   "metadata": {},
   "outputs": [
    {
     "name": "stdout",
     "output_type": "stream",
     "text": [
      "Model\t\tlr\tkn\tdt\tsv\trf\tgb\n",
      "Scenario 9) 3rd and medium (3-8)\t0.77\t0.77\t0.77\t0.75\t0.73\t0.77\t\n",
      "The best model is Gradient Boost with an accuracy of 0.77\n",
      "\n"
     ]
    }
   ],
   "source": [
    "x = X_test\n",
    "calculate_combined_accuracy(x[(x.yardsToGo >= 3) & (x.yardsToGo <= 8)], \"Scenario 9) 3rd and medium (3-8)\", 0.6792)"
   ]
  },
  {
   "cell_type": "markdown",
   "id": "7b9a9e4c",
   "metadata": {},
   "source": [
    "### Scenario: Which models perform when it's 4th and 2 or less, less than 2 mins, trailing by 4-7 points, between the 40s\n",
    "The best model is SVM with an accuracy of 0.93"
   ]
  },
  {
   "cell_type": "code",
   "execution_count": 1299,
   "id": "0ae0bafd",
   "metadata": {},
   "outputs": [
    {
     "name": "stdout",
     "output_type": "stream",
     "text": [
      "Model\t\tlr\tkn\tdt\tsv\trf\tgb\n",
      "Scenario 10) trailing in the 4Q, 4th and 5 or less\t0.86\t0.79\t0.86\t0.93\t0.93\t0.86\t\n",
      "The best model is SVM with an accuracy of 0.93\n",
      "\n"
     ]
    }
   ],
   "source": [
    "x = X_test\n",
    "calculate_combined_accuracy(x[(x.score_offset > 0) & (x.quarter_4) & (x.down_4) & (x.yardsToGo <= 5)], \n",
    "                             \"Scenario 10) trailing in the 4Q, 4th and 5 or less\", 0.6)"
   ]
  },
  {
   "cell_type": "markdown",
   "id": "66621c6b",
   "metadata": {},
   "source": [
    "## Grading the Evaluations"
   ]
  },
  {
   "cell_type": "code",
   "execution_count": 1300,
   "id": "51f64064",
   "metadata": {},
   "outputs": [
    {
     "name": "stdout",
     "output_type": "stream",
     "text": [
      "Situation                      times\tpass\trun\n",
      "For QB Spike                   23\t1.0000\t0.0000\n",
      "For Wildcat                    87\t0.1494\t0.8506\n",
      "For Shotgun                    8791\t0.7454\t0.2546\n",
      "For one score game             11237\t0.5921\t0.4079\n",
      "For When it's 1st and 10       6408\t0.4958\t0.5042\n",
      "For When it's 3rd and long     1264\t0.9217\t0.0783\n",
      "For When losing by 2 scores    15482\t0.6104\t0.3896\n",
      "For When winning by 2 scores   904\t0.4646\t0.5354\n",
      "For 3rd and Medium (3-8)       4401\t0.6792\t0.3208\n",
      "For 4Q, 4th and 5 or less, trailing  20\t0.4000\t0.6000\n",
      "\n",
      "lr - Logistic Regression\n",
      "- Scenario 1) QB spike: predicted 0.74 (actual 1.00), underperformed by 25.8\n",
      "- Scenario 2) wildcat formation: predicted 0.74 (actual 0.85), underperformed by 10.9\n",
      "- Scenario 3) shotgun formation: predicted 0.74 (actual 0.75), underperformed by 0.3\n",
      "- Scenario 4) one score game: predicted 0.73 (actual 0.59), outperformed by 14.0\n",
      "- Scenario 5) 1st and 10: predicted 0.68 (actual 0.50), outperformed by 17.8\n",
      "- Scenario 6) 3rd and long: predicted 0.94 (actual 0.92), outperformed by 2.0\n",
      "- Scenario 7) losing by 2 scores: predicted 0.74 (actual 0.61), outperformed by 13.1\n",
      "- Scenario 8) winning by 2 scores: predicted 0.76 (actual 0.54), outperformed by 22.2\n",
      "- Scenario 9) 3rd and medium (3-8): predicted 0.77 (actual 0.68), outperformed by 9.0\n",
      "- Scenario 10) trailing in the 4Q, 4th and 5 or less: predicted 0.86 (actual 0.60), outperformed by 25.7\n",
      "kn - KNN\n",
      "- Scenario 1) QB spike: predicted 0.74 (actual 1.00), underperformed by 25.8\n",
      "- Scenario 2) wildcat formation: predicted 0.74 (actual 0.85), underperformed by 10.9\n",
      "- Scenario 3) shotgun formation: predicted 0.74 (actual 0.75), underperformed by 0.4\n",
      "- Scenario 4) one score game: predicted 0.73 (actual 0.59), outperformed by 13.8\n",
      "- Scenario 5) 1st and 10: predicted 0.68 (actual 0.50), outperformed by 17.9\n",
      "- Scenario 6) 3rd and long: predicted 0.94 (actual 0.92), outperformed by 2.0\n",
      "- Scenario 7) losing by 2 scores: predicted 0.74 (actual 0.61), outperformed by 13.0\n",
      "- Scenario 8) winning by 2 scores: predicted 0.76 (actual 0.54), outperformed by 23.0\n",
      "- Scenario 9) 3rd and medium (3-8): predicted 0.77 (actual 0.68), outperformed by 9.0\n",
      "- Scenario 10) trailing in the 4Q, 4th and 5 or less: predicted 0.79 (actual 0.60), outperformed by 18.6\n",
      "dt - Decision Tree\n",
      "- Scenario 1) QB spike: predicted 0.74 (actual 1.00), underperformed by 25.8\n",
      "- Scenario 2) wildcat formation: predicted 0.74 (actual 0.85), underperformed by 10.8\n",
      "- Scenario 3) shotgun formation: predicted 0.74 (actual 0.75), underperformed by 0.3\n",
      "- Scenario 4) one score game: predicted 0.73 (actual 0.59), outperformed by 13.9\n",
      "- Scenario 5) 1st and 10: predicted 0.68 (actual 0.50), outperformed by 18.1\n",
      "- Scenario 6) 3rd and long: predicted 0.94 (actual 0.92), outperformed by 2.0\n",
      "- Scenario 7) losing by 2 scores: predicted 0.74 (actual 0.61), outperformed by 13.1\n",
      "- Scenario 8) winning by 2 scores: predicted 0.76 (actual 0.54), outperformed by 22.7\n",
      "- Scenario 9) 3rd and medium (3-8): predicted 0.77 (actual 0.68), outperformed by 9.0\n",
      "- Scenario 10) trailing in the 4Q, 4th and 5 or less: predicted 0.86 (actual 0.60), outperformed by 25.7\n",
      "sv - SVM\n",
      "- Scenario 1) QB spike: predicted 0.73 (actual 1.00), underperformed by 27.3\n",
      "- Scenario 2) wildcat formation: predicted 0.73 (actual 0.85), underperformed by 12.3\n",
      "- Scenario 3) shotgun formation: predicted 0.73 (actual 0.75), underperformed by 1.8\n",
      "- Scenario 4) one score game: predicted 0.71 (actual 0.59), outperformed by 12.0\n",
      "- Scenario 5) 1st and 10: predicted 0.68 (actual 0.50), outperformed by 17.1\n",
      "- Scenario 6) 3rd and long: predicted 0.92 (actual 0.92), outperformed by 0.2\n",
      "- Scenario 7) losing by 2 scores: predicted 0.73 (actual 0.61), outperformed by 11.5\n",
      "- Scenario 8) winning by 2 scores: predicted 0.78 (actual 0.54), outperformed by 24.1\n",
      "- Scenario 9) 3rd and medium (3-8): predicted 0.75 (actual 0.68), outperformed by 7.0\n",
      "- Scenario 10) trailing in the 4Q, 4th and 5 or less: predicted 0.93 (actual 0.60), outperformed by 32.9\n",
      "rf - Random Forest\n",
      "- Scenario 1) QB spike: predicted 0.69 (actual 1.00), underperformed by 31.3\n",
      "- Scenario 2) wildcat formation: predicted 0.69 (actual 0.85), underperformed by 16.3\n",
      "- Scenario 3) shotgun formation: predicted 0.69 (actual 0.75), underperformed by 5.8\n",
      "- Scenario 4) one score game: predicted 0.68 (actual 0.59), outperformed by 8.4\n",
      "- Scenario 5) 1st and 10: predicted 0.61 (actual 0.50), outperformed by 10.7\n",
      "- Scenario 6) 3rd and long: predicted 0.92 (actual 0.92), outperformed by 0.2\n",
      "- Scenario 7) losing by 2 scores: predicted 0.69 (actual 0.61), outperformed by 7.6\n",
      "- Scenario 8) winning by 2 scores: predicted 0.70 (actual 0.54), outperformed by 16.0\n",
      "- Scenario 9) 3rd and medium (3-8): predicted 0.73 (actual 0.68), outperformed by 4.9\n",
      "- Scenario 10) trailing in the 4Q, 4th and 5 or less: predicted 0.93 (actual 0.60), outperformed by 32.9\n",
      "gb - Gradient Boost\n",
      "- Scenario 1) QB spike: predicted 0.74 (actual 1.00), underperformed by 25.5\n",
      "- Scenario 2) wildcat formation: predicted 0.74 (actual 0.85), underperformed by 10.6\n",
      "- Scenario 3) shotgun formation: predicted 0.74 (actual 0.75), underperformed by 0.1\n",
      "- Scenario 4) one score game: predicted 0.73 (actual 0.59), outperformed by 13.8\n",
      "- Scenario 5) 1st and 10: predicted 0.68 (actual 0.50), outperformed by 18.0\n",
      "- Scenario 6) 3rd and long: predicted 0.95 (actual 0.92), outperformed by 2.5\n",
      "- Scenario 7) losing by 2 scores: predicted 0.74 (actual 0.61), outperformed by 13.3\n",
      "- Scenario 8) winning by 2 scores: predicted 0.78 (actual 0.54), outperformed by 24.4\n",
      "- Scenario 9) 3rd and medium (3-8): predicted 0.77 (actual 0.68), outperformed by 9.2\n",
      "- Scenario 10) trailing in the 4Q, 4th and 5 or less: predicted 0.86 (actual 0.60), outperformed by 25.7\n"
     ]
    }
   ],
   "source": [
    "def how_many(df2, desc):\n",
    "    times = df2.shape[0]\n",
    "    pass_rate = df2[TARGET_FEATURE].transform(lambda x: x == \"pass\").mean()\n",
    "    run_rate = 1 - pass_rate\n",
    "    print(f\"For {desc.ljust(25)}  {times}\\t{pass_rate:.4f}\\t{run_rate:.4f}\")\n",
    "\n",
    "# how_many(\"Empty Formation\", df[df.form_EMPTY])\n",
    "# how_many(\"I Formation\", df[df.form_I_FORM])\n",
    "# how_many(\"Jumbo Formation\", df[df.form_JUMBO])\n",
    "# how_many(\"QB Spike\", df[df.form_MUDDLE])\n",
    "# how_many(\"Pistol Formation\", df[df.form_PISTOL])\n",
    "# how_many(\"Shotgun Formation\", df[df.form_SHOTGUN])\n",
    "# how_many(\"Singleback Formation\", df[df.form_SINGLEBACK])\n",
    "# how_many(\"Victory Formation\", df[df.form_VICTORY])\n",
    "# how_many(\"Wildcat Formation\", df[df.form_WILDCAT])\n",
    "\n",
    "x = df\n",
    "print(f\"{'Situation'.ljust(30)} times\\tpass\\trun\")\n",
    "how_many(x[(x.form_MUDDLE)], \"QB Spike\")\n",
    "how_many(x[(x.form_WILDCAT)], \"Wildcat\")\n",
    "how_many(x[(x.form_SHOTGUN)], \"Shotgun\")\n",
    "how_many(x[abs(x.score_offset) <= 8], \"one score game\")\n",
    "how_many(x[(x.down_1 == True) & (x.yardsToGo == 10)], \"When it's 1st and 10\")\n",
    "how_many(x[(x.down_3 == True) & (x.yardsToGo >= 8)], \"When it's 3rd and long\")\n",
    "how_many(x[(x.score_offset <= 14)], \"When losing by 2 scores\")\n",
    "how_many(x[(x.score_offset >= 14)], \"When winning by 2 scores\")\n",
    "how_many(x[(x.yardsToGo >= 3) & (x.yardsToGo <= 8)], \"3rd and Medium (3-8)\")\n",
    "how_many(x[(x.score_offset > 0) & (x.quarter_4) & (x.down_4) & (x.yardsToGo <= 5)], \n",
    "                             \"4Q, 4th and 5 or less, trailing\")\n",
    "print(\"\")\n",
    "\n",
    "print_scenarios()\n"
   ]
  },
  {
   "cell_type": "code",
   "execution_count": null,
   "id": "ee990a73",
   "metadata": {},
   "outputs": [],
   "source": []
  }
 ],
 "metadata": {
  "kernelspec": {
   "display_name": "Python (predict_plays)",
   "language": "python",
   "name": "predict_plays"
  },
  "language_info": {
   "codemirror_mode": {
    "name": "ipython",
    "version": 3
   },
   "file_extension": ".py",
   "mimetype": "text/x-python",
   "name": "python",
   "nbconvert_exporter": "python",
   "pygments_lexer": "ipython3",
   "version": "3.13.5"
  }
 },
 "nbformat": 4,
 "nbformat_minor": 5
}
