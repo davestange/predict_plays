{
 "cells": [
  {
   "cell_type": "markdown",
   "id": "16e83ea1",
   "metadata": {},
   "source": [
    "# Hyperparameters"
   ]
  },
  {
   "cell_type": "code",
   "execution_count": 1,
   "id": "0a431f97",
   "metadata": {},
   "outputs": [],
   "source": [
    "IS_TRAINING_MODE = True\n",
    "\n",
    "# training data paramters\n",
    "TRAINING_PERCENT_PARAMETER = 0.15 #if IS_TRAINING_MODE else 0.015\n",
    "DATA_PATH = '../data/big_data_bowl_2025'\n",
    "\n",
    "# Development Parameters\n",
    "DEBUG_PARAMETER = True\n",
    "PARAM_FINAL_IMAGES = False\n",
    "PARAM_GENERATE_CONFIDENCE_MATRIX = True\n",
    "\n",
    "# Hyper parameters - these are from the last 15% run\n",
    "sfs_features_to_select = 3\n",
    "gradient_boost__n_estimators = 32\n",
    "\n",
    "# Best Params for All Hyperparameters\n",
    "logistic_regression__C = 1.0\n",
    "logistic_regression__class_weight = None\n",
    "logistic_regression__fit_intercept = True\n",
    "logistic_regression__penalty = 'l2'\n",
    "logistic_regression__solver = 'newton-cholesky'\n",
    "kneighbors__algorithm = 'auto'\n",
    "kneighbors__n_neighbors = 10\n",
    "kneighbors__weights = None\n",
    "decision_tree__criterion = 'entropy'\n",
    "decision_tree__max_depth = 6\n",
    "decision_tree__max_features = None\n",
    "random_forest__max_features = 6\n",
    "random_forest__n_estimators = 3\n",
    "logistic_regression__features = ['yardsToGo', 'rb_count', 'extra_ol', 'form_I_FORM', 'form_JUMBO', 'form_PISTOL', 'form_SINGLEBACK', 'form_VICTORY', 'form_WILDCAT', ]\n",
    "kneighbors__features = ['extra_ol', 'form_EMPTY', 'form_JUMBO', 'form_MUDDLE', 'form_SHOTGUN', 'quarter_5', ]\n",
    "decision_tree__features = ['rb_count', 'on_schedule', 'form_SHOTGUN', 'form_SINGLEBACK', 'form_VICTORY', 'down_1', 'down_2', ]\n",
    "support_vector__features = ['rb_count', 'on_schedule', 'form_SHOTGUN', 'form_SINGLEBACK', 'form_VICTORY', ]"
   ]
  },
  {
   "cell_type": "markdown",
   "id": "35191b0d",
   "metadata": {},
   "source": [
    "# Initializing Data"
   ]
  },
  {
   "cell_type": "markdown",
   "id": "6bea1a3c",
   "metadata": {},
   "source": [
    "## Preparing Data"
   ]
  },
  {
   "cell_type": "code",
   "execution_count": 2,
   "id": "6f063a7c",
   "metadata": {},
   "outputs": [],
   "source": [
    "import pandas as pd\n",
    "import numpy as np\n",
    "import math\n",
    "\n",
    "from sklearn.metrics import root_mean_squared_error\n",
    "from sklearn.model_selection import train_test_split, GridSearchCV\n",
    "from sklearn import set_config\n",
    "from sklearn.utils import shuffle\n",
    "\n",
    "from sklearn import tree\n",
    "\n",
    "import pandas as pd\n",
    "import numpy as np\n",
    "import seaborn as sns\n",
    "import time\n",
    "from matplotlib import pyplot as plt\n",
    "from sklearn.compose import make_column_transformer\n",
    "from sklearn.dummy import DummyClassifier\n",
    "from sklearn.linear_model import LogisticRegression\n",
    "from sklearn.metrics import precision_score, recall_score, accuracy_score , confusion_matrix, roc_curve, ConfusionMatrixDisplay, RocCurveDisplay\n",
    "from sklearn.model_selection import train_test_split\n",
    "from sklearn.neighbors import KNeighborsClassifier\n",
    "from sklearn.pipeline import Pipeline\n",
    "from sklearn.preprocessing import OneHotEncoder, OrdinalEncoder\n",
    "from sklearn.svm import SVC\n",
    "from sklearn import tree\n",
    "from sklearn.tree import DecisionTreeClassifier\n",
    "from sklearn.utils import shuffle\n",
    "from sklearn.linear_model import Ridge\n",
    "from sklearn.feature_selection import SequentialFeatureSelector\n",
    "\n",
    "# HalvingGridSearchCV is experimental and the API might change without any deprecation cycle\n",
    "from sklearn.experimental import enable_halving_search_cv\n",
    "from sklearn.model_selection import HalvingGridSearchCV\n",
    "\n",
    "from sklearn.metrics import auc as skl_auc\n",
    "from sklearn.model_selection import GridSearchCV\n",
    "from sklearn.preprocessing import StandardScaler\n",
    "from sklearn.ensemble import RandomForestClassifier\n",
    "from sklearn.ensemble import GradientBoostingRegressor, GradientBoostingClassifier\n",
    "import plotly.express as px\n",
    "\n",
    "import warnings\n",
    "warnings.filterwarnings('ignore')"
   ]
  },
  {
   "cell_type": "markdown",
   "id": "3ab5f1fc",
   "metadata": {},
   "source": [
    "### Load the Data"
   ]
  },
  {
   "cell_type": "code",
   "execution_count": 3,
   "id": "94cf96ed",
   "metadata": {},
   "outputs": [
    {
     "data": {
      "text/html": [
       "<div>\n",
       "<style scoped>\n",
       "    .dataframe tbody tr th:only-of-type {\n",
       "        vertical-align: middle;\n",
       "    }\n",
       "\n",
       "    .dataframe tbody tr th {\n",
       "        vertical-align: top;\n",
       "    }\n",
       "\n",
       "    .dataframe thead th {\n",
       "        text-align: right;\n",
       "    }\n",
       "</style>\n",
       "<table border=\"1\" class=\"dataframe\">\n",
       "  <thead>\n",
       "    <tr style=\"text-align: right;\">\n",
       "      <th></th>\n",
       "      <th>gameId</th>\n",
       "      <th>playId</th>\n",
       "      <th>playDescription</th>\n",
       "      <th>quarter</th>\n",
       "      <th>down</th>\n",
       "      <th>yardsToGo</th>\n",
       "      <th>possessionTeam</th>\n",
       "      <th>defensiveTeam</th>\n",
       "      <th>yardlineSide</th>\n",
       "      <th>yardlineNumber</th>\n",
       "      <th>...</th>\n",
       "      <th>yardsGained</th>\n",
       "      <th>homeTeamWinProbabilityAdded</th>\n",
       "      <th>visitorTeamWinProbilityAdded</th>\n",
       "      <th>expectedPointsAdded</th>\n",
       "      <th>isDropback</th>\n",
       "      <th>pff_runConceptPrimary</th>\n",
       "      <th>pff_runConceptSecondary</th>\n",
       "      <th>pff_runPassOption</th>\n",
       "      <th>pff_passCoverage</th>\n",
       "      <th>pff_manZone</th>\n",
       "    </tr>\n",
       "  </thead>\n",
       "  <tbody>\n",
       "    <tr>\n",
       "      <th>0</th>\n",
       "      <td>2022102302</td>\n",
       "      <td>2655</td>\n",
       "      <td>(1:54) (Shotgun) J.Burrow pass short middle to...</td>\n",
       "      <td>3</td>\n",
       "      <td>1</td>\n",
       "      <td>10</td>\n",
       "      <td>CIN</td>\n",
       "      <td>ATL</td>\n",
       "      <td>CIN</td>\n",
       "      <td>21</td>\n",
       "      <td>...</td>\n",
       "      <td>9</td>\n",
       "      <td>0.004634</td>\n",
       "      <td>-0.004634</td>\n",
       "      <td>0.702717</td>\n",
       "      <td>True</td>\n",
       "      <td>NaN</td>\n",
       "      <td>NaN</td>\n",
       "      <td>0</td>\n",
       "      <td>Cover-3</td>\n",
       "      <td>Zone</td>\n",
       "    </tr>\n",
       "    <tr>\n",
       "      <th>1</th>\n",
       "      <td>2022091809</td>\n",
       "      <td>3698</td>\n",
       "      <td>(2:13) (Shotgun) J.Burrow pass short right to ...</td>\n",
       "      <td>4</td>\n",
       "      <td>1</td>\n",
       "      <td>10</td>\n",
       "      <td>CIN</td>\n",
       "      <td>DAL</td>\n",
       "      <td>CIN</td>\n",
       "      <td>8</td>\n",
       "      <td>...</td>\n",
       "      <td>4</td>\n",
       "      <td>0.002847</td>\n",
       "      <td>-0.002847</td>\n",
       "      <td>-0.240509</td>\n",
       "      <td>True</td>\n",
       "      <td>NaN</td>\n",
       "      <td>NaN</td>\n",
       "      <td>0</td>\n",
       "      <td>Quarters</td>\n",
       "      <td>Zone</td>\n",
       "    </tr>\n",
       "    <tr>\n",
       "      <th>2</th>\n",
       "      <td>2022103004</td>\n",
       "      <td>3146</td>\n",
       "      <td>(2:00) (Shotgun) D.Mills pass short right to D...</td>\n",
       "      <td>4</td>\n",
       "      <td>3</td>\n",
       "      <td>12</td>\n",
       "      <td>HOU</td>\n",
       "      <td>TEN</td>\n",
       "      <td>HOU</td>\n",
       "      <td>20</td>\n",
       "      <td>...</td>\n",
       "      <td>6</td>\n",
       "      <td>0.000205</td>\n",
       "      <td>-0.000205</td>\n",
       "      <td>-0.218480</td>\n",
       "      <td>True</td>\n",
       "      <td>NaN</td>\n",
       "      <td>NaN</td>\n",
       "      <td>0</td>\n",
       "      <td>Quarters</td>\n",
       "      <td>Zone</td>\n",
       "    </tr>\n",
       "    <tr>\n",
       "      <th>3</th>\n",
       "      <td>2022110610</td>\n",
       "      <td>348</td>\n",
       "      <td>(9:28) (Shotgun) P.Mahomes pass short left to ...</td>\n",
       "      <td>1</td>\n",
       "      <td>2</td>\n",
       "      <td>10</td>\n",
       "      <td>KC</td>\n",
       "      <td>TEN</td>\n",
       "      <td>TEN</td>\n",
       "      <td>23</td>\n",
       "      <td>...</td>\n",
       "      <td>4</td>\n",
       "      <td>-0.001308</td>\n",
       "      <td>0.001308</td>\n",
       "      <td>-0.427749</td>\n",
       "      <td>True</td>\n",
       "      <td>NaN</td>\n",
       "      <td>NaN</td>\n",
       "      <td>0</td>\n",
       "      <td>Quarters</td>\n",
       "      <td>Zone</td>\n",
       "    </tr>\n",
       "    <tr>\n",
       "      <th>4</th>\n",
       "      <td>2022102700</td>\n",
       "      <td>2799</td>\n",
       "      <td>(2:16) (Shotgun) L.Jackson up the middle to TB...</td>\n",
       "      <td>3</td>\n",
       "      <td>2</td>\n",
       "      <td>8</td>\n",
       "      <td>BAL</td>\n",
       "      <td>TB</td>\n",
       "      <td>TB</td>\n",
       "      <td>27</td>\n",
       "      <td>...</td>\n",
       "      <td>-1</td>\n",
       "      <td>0.027141</td>\n",
       "      <td>-0.027141</td>\n",
       "      <td>-0.638912</td>\n",
       "      <td>False</td>\n",
       "      <td>MAN</td>\n",
       "      <td>READ OPTION</td>\n",
       "      <td>0</td>\n",
       "      <td>Cover-1</td>\n",
       "      <td>Man</td>\n",
       "    </tr>\n",
       "  </tbody>\n",
       "</table>\n",
       "<p>5 rows × 50 columns</p>\n",
       "</div>"
      ],
      "text/plain": [
       "       gameId  playId                                    playDescription  \\\n",
       "0  2022102302    2655  (1:54) (Shotgun) J.Burrow pass short middle to...   \n",
       "1  2022091809    3698  (2:13) (Shotgun) J.Burrow pass short right to ...   \n",
       "2  2022103004    3146  (2:00) (Shotgun) D.Mills pass short right to D...   \n",
       "3  2022110610     348  (9:28) (Shotgun) P.Mahomes pass short left to ...   \n",
       "4  2022102700    2799  (2:16) (Shotgun) L.Jackson up the middle to TB...   \n",
       "\n",
       "   quarter  down  yardsToGo possessionTeam defensiveTeam yardlineSide  \\\n",
       "0        3     1         10            CIN           ATL          CIN   \n",
       "1        4     1         10            CIN           DAL          CIN   \n",
       "2        4     3         12            HOU           TEN          HOU   \n",
       "3        1     2         10             KC           TEN          TEN   \n",
       "4        3     2          8            BAL            TB           TB   \n",
       "\n",
       "   yardlineNumber  ... yardsGained  homeTeamWinProbabilityAdded  \\\n",
       "0              21  ...           9                     0.004634   \n",
       "1               8  ...           4                     0.002847   \n",
       "2              20  ...           6                     0.000205   \n",
       "3              23  ...           4                    -0.001308   \n",
       "4              27  ...          -1                     0.027141   \n",
       "\n",
       "   visitorTeamWinProbilityAdded expectedPointsAdded  isDropback  \\\n",
       "0                     -0.004634            0.702717        True   \n",
       "1                     -0.002847           -0.240509        True   \n",
       "2                     -0.000205           -0.218480        True   \n",
       "3                      0.001308           -0.427749        True   \n",
       "4                     -0.027141           -0.638912       False   \n",
       "\n",
       "   pff_runConceptPrimary  pff_runConceptSecondary  pff_runPassOption  \\\n",
       "0                    NaN                      NaN                  0   \n",
       "1                    NaN                      NaN                  0   \n",
       "2                    NaN                      NaN                  0   \n",
       "3                    NaN                      NaN                  0   \n",
       "4                    MAN              READ OPTION                  0   \n",
       "\n",
       "  pff_passCoverage pff_manZone  \n",
       "0          Cover-3        Zone  \n",
       "1         Quarters        Zone  \n",
       "2         Quarters        Zone  \n",
       "3         Quarters        Zone  \n",
       "4          Cover-1         Man  \n",
       "\n",
       "[5 rows x 50 columns]"
      ]
     },
     "execution_count": 3,
     "metadata": {},
     "output_type": "execute_result"
    }
   ],
   "source": [
    "plays_path = f'{DATA_PATH}/plays.csv'\n",
    "plays = pd.read_csv(plays_path)\n",
    "\n",
    "plays.head()"
   ]
  },
  {
   "cell_type": "code",
   "execution_count": 4,
   "id": "ec4f00f9",
   "metadata": {},
   "outputs": [
    {
     "data": {
      "text/html": [
       "<div>\n",
       "<style scoped>\n",
       "    .dataframe tbody tr th:only-of-type {\n",
       "        vertical-align: middle;\n",
       "    }\n",
       "\n",
       "    .dataframe tbody tr th {\n",
       "        vertical-align: top;\n",
       "    }\n",
       "\n",
       "    .dataframe thead th {\n",
       "        text-align: right;\n",
       "    }\n",
       "</style>\n",
       "<table border=\"1\" class=\"dataframe\">\n",
       "  <thead>\n",
       "    <tr style=\"text-align: right;\">\n",
       "      <th></th>\n",
       "      <th>gameId</th>\n",
       "      <th>playId</th>\n",
       "      <th>playDescription</th>\n",
       "      <th>quarter</th>\n",
       "      <th>down</th>\n",
       "      <th>yardsToGo</th>\n",
       "      <th>possessionTeam</th>\n",
       "      <th>defensiveTeam</th>\n",
       "      <th>yardlineSide</th>\n",
       "      <th>yardlineNumber</th>\n",
       "      <th>...</th>\n",
       "      <th>visitorTeamWinProbilityAdded</th>\n",
       "      <th>expectedPointsAdded</th>\n",
       "      <th>isDropback</th>\n",
       "      <th>pff_runConceptPrimary</th>\n",
       "      <th>pff_runConceptSecondary</th>\n",
       "      <th>pff_runPassOption</th>\n",
       "      <th>pff_passCoverage</th>\n",
       "      <th>pff_manZone</th>\n",
       "      <th>homeTeamAbbr</th>\n",
       "      <th>visitorTeamAbbr</th>\n",
       "    </tr>\n",
       "  </thead>\n",
       "  <tbody>\n",
       "    <tr>\n",
       "      <th>0</th>\n",
       "      <td>2022102302</td>\n",
       "      <td>2655</td>\n",
       "      <td>(1:54) (Shotgun) J.Burrow pass short middle to...</td>\n",
       "      <td>3</td>\n",
       "      <td>1</td>\n",
       "      <td>10</td>\n",
       "      <td>CIN</td>\n",
       "      <td>ATL</td>\n",
       "      <td>CIN</td>\n",
       "      <td>21</td>\n",
       "      <td>...</td>\n",
       "      <td>-0.004634</td>\n",
       "      <td>0.702717</td>\n",
       "      <td>True</td>\n",
       "      <td>NaN</td>\n",
       "      <td>NaN</td>\n",
       "      <td>0</td>\n",
       "      <td>Cover-3</td>\n",
       "      <td>Zone</td>\n",
       "      <td>CIN</td>\n",
       "      <td>ATL</td>\n",
       "    </tr>\n",
       "    <tr>\n",
       "      <th>1</th>\n",
       "      <td>2022091809</td>\n",
       "      <td>3698</td>\n",
       "      <td>(2:13) (Shotgun) J.Burrow pass short right to ...</td>\n",
       "      <td>4</td>\n",
       "      <td>1</td>\n",
       "      <td>10</td>\n",
       "      <td>CIN</td>\n",
       "      <td>DAL</td>\n",
       "      <td>CIN</td>\n",
       "      <td>8</td>\n",
       "      <td>...</td>\n",
       "      <td>-0.002847</td>\n",
       "      <td>-0.240509</td>\n",
       "      <td>True</td>\n",
       "      <td>NaN</td>\n",
       "      <td>NaN</td>\n",
       "      <td>0</td>\n",
       "      <td>Quarters</td>\n",
       "      <td>Zone</td>\n",
       "      <td>DAL</td>\n",
       "      <td>CIN</td>\n",
       "    </tr>\n",
       "    <tr>\n",
       "      <th>2</th>\n",
       "      <td>2022103004</td>\n",
       "      <td>3146</td>\n",
       "      <td>(2:00) (Shotgun) D.Mills pass short right to D...</td>\n",
       "      <td>4</td>\n",
       "      <td>3</td>\n",
       "      <td>12</td>\n",
       "      <td>HOU</td>\n",
       "      <td>TEN</td>\n",
       "      <td>HOU</td>\n",
       "      <td>20</td>\n",
       "      <td>...</td>\n",
       "      <td>-0.000205</td>\n",
       "      <td>-0.218480</td>\n",
       "      <td>True</td>\n",
       "      <td>NaN</td>\n",
       "      <td>NaN</td>\n",
       "      <td>0</td>\n",
       "      <td>Quarters</td>\n",
       "      <td>Zone</td>\n",
       "      <td>HOU</td>\n",
       "      <td>TEN</td>\n",
       "    </tr>\n",
       "    <tr>\n",
       "      <th>3</th>\n",
       "      <td>2022110610</td>\n",
       "      <td>348</td>\n",
       "      <td>(9:28) (Shotgun) P.Mahomes pass short left to ...</td>\n",
       "      <td>1</td>\n",
       "      <td>2</td>\n",
       "      <td>10</td>\n",
       "      <td>KC</td>\n",
       "      <td>TEN</td>\n",
       "      <td>TEN</td>\n",
       "      <td>23</td>\n",
       "      <td>...</td>\n",
       "      <td>0.001308</td>\n",
       "      <td>-0.427749</td>\n",
       "      <td>True</td>\n",
       "      <td>NaN</td>\n",
       "      <td>NaN</td>\n",
       "      <td>0</td>\n",
       "      <td>Quarters</td>\n",
       "      <td>Zone</td>\n",
       "      <td>KC</td>\n",
       "      <td>TEN</td>\n",
       "    </tr>\n",
       "    <tr>\n",
       "      <th>4</th>\n",
       "      <td>2022102700</td>\n",
       "      <td>2799</td>\n",
       "      <td>(2:16) (Shotgun) L.Jackson up the middle to TB...</td>\n",
       "      <td>3</td>\n",
       "      <td>2</td>\n",
       "      <td>8</td>\n",
       "      <td>BAL</td>\n",
       "      <td>TB</td>\n",
       "      <td>TB</td>\n",
       "      <td>27</td>\n",
       "      <td>...</td>\n",
       "      <td>-0.027141</td>\n",
       "      <td>-0.638912</td>\n",
       "      <td>False</td>\n",
       "      <td>MAN</td>\n",
       "      <td>READ OPTION</td>\n",
       "      <td>0</td>\n",
       "      <td>Cover-1</td>\n",
       "      <td>Man</td>\n",
       "      <td>TB</td>\n",
       "      <td>BAL</td>\n",
       "    </tr>\n",
       "  </tbody>\n",
       "</table>\n",
       "<p>5 rows × 52 columns</p>\n",
       "</div>"
      ],
      "text/plain": [
       "       gameId  playId                                    playDescription  \\\n",
       "0  2022102302    2655  (1:54) (Shotgun) J.Burrow pass short middle to...   \n",
       "1  2022091809    3698  (2:13) (Shotgun) J.Burrow pass short right to ...   \n",
       "2  2022103004    3146  (2:00) (Shotgun) D.Mills pass short right to D...   \n",
       "3  2022110610     348  (9:28) (Shotgun) P.Mahomes pass short left to ...   \n",
       "4  2022102700    2799  (2:16) (Shotgun) L.Jackson up the middle to TB...   \n",
       "\n",
       "   quarter  down  yardsToGo possessionTeam defensiveTeam yardlineSide  \\\n",
       "0        3     1         10            CIN           ATL          CIN   \n",
       "1        4     1         10            CIN           DAL          CIN   \n",
       "2        4     3         12            HOU           TEN          HOU   \n",
       "3        1     2         10             KC           TEN          TEN   \n",
       "4        3     2          8            BAL            TB           TB   \n",
       "\n",
       "   yardlineNumber  ... visitorTeamWinProbilityAdded  expectedPointsAdded  \\\n",
       "0              21  ...                    -0.004634             0.702717   \n",
       "1               8  ...                    -0.002847            -0.240509   \n",
       "2              20  ...                    -0.000205            -0.218480   \n",
       "3              23  ...                     0.001308            -0.427749   \n",
       "4              27  ...                    -0.027141            -0.638912   \n",
       "\n",
       "   isDropback pff_runConceptPrimary  pff_runConceptSecondary  \\\n",
       "0        True                   NaN                      NaN   \n",
       "1        True                   NaN                      NaN   \n",
       "2        True                   NaN                      NaN   \n",
       "3        True                   NaN                      NaN   \n",
       "4       False                   MAN              READ OPTION   \n",
       "\n",
       "   pff_runPassOption  pff_passCoverage  pff_manZone homeTeamAbbr  \\\n",
       "0                  0           Cover-3         Zone          CIN   \n",
       "1                  0          Quarters         Zone          DAL   \n",
       "2                  0          Quarters         Zone          HOU   \n",
       "3                  0          Quarters         Zone           KC   \n",
       "4                  0           Cover-1          Man           TB   \n",
       "\n",
       "  visitorTeamAbbr  \n",
       "0             ATL  \n",
       "1             CIN  \n",
       "2             TEN  \n",
       "3             TEN  \n",
       "4             BAL  \n",
       "\n",
       "[5 rows x 52 columns]"
      ]
     },
     "execution_count": 4,
     "metadata": {},
     "output_type": "execute_result"
    }
   ],
   "source": [
    "games_path = f'{DATA_PATH}/games.csv'\n",
    "games = pd.read_csv(games_path)\n",
    "\n",
    "plays = plays.merge(games[['gameId', 'homeTeamAbbr', 'visitorTeamAbbr']], left_on='gameId', right_on='gameId')\n",
    "plays.head()"
   ]
  },
  {
   "cell_type": "markdown",
   "id": "b8a3fb49",
   "metadata": {},
   "source": [
    "## Readying the dataset"
   ]
  },
  {
   "cell_type": "code",
   "execution_count": 5,
   "id": "19bdf05d",
   "metadata": {},
   "outputs": [],
   "source": [
    "def get_position_features(s: pd.Series) -> pd.Series:\n",
    "    ### determine wr, te, rb based on alignment; WRxTE\n",
    "    wr_count = te_count = rb_count = 0\n",
    "    extra_ol = s.offenseFormation == \"JUMBO\"\n",
    "    if not isinstance(s.receiverAlignment, float):\n",
    "        alignment = s.receiverAlignment.split('x')\n",
    "        if len(alignment):\n",
    "            wr_count = int(alignment[0])\n",
    "            te_count = int(alignment[1])\n",
    "            rb_count = 5 - wr_count - te_count\n",
    "            if extra_ol and rb_count > 1:\n",
    "                rb_count -= 1 \n",
    "\n",
    "    return pd.Series([wr_count, te_count, rb_count, extra_ol], ['wr_count', 'te_count', 'rb_count', 'extra_ol'])\n",
    "def get_time_features(s: pd.Series) -> pd.Series:\n",
    "    ### determine total time remaining, is overtime, or within two mins \n",
    "    two_min_1st_half = 32 * 60\n",
    "    two_min_2st_half = 2 * 60\n",
    "    two_min_overtime = 68 * 60\n",
    "    \n",
    "    quarter = int(s.quarter)\n",
    "    secs_remaining = math.nan\n",
    "    is_inside_two_mins = is_overtime = False\n",
    "    quarter_clock = s.gameClock.split(':')\n",
    "    if len(quarter_clock) == 2:\n",
    "        secs_in_quarter = int(quarter_clock[0]) * 60 + int(quarter_clock[1])\n",
    "        if quarter <= 4:\n",
    "            secs_remaining = (4 - quarter) * 15 * 60 + secs_in_quarter\n",
    "        else:\n",
    "            secs_remaining = secs_in_quarter\n",
    "            is_overtime = True\n",
    "        is_inside_two_mins = secs_in_quarter <= 120 and (quarter == 2 or quarter >= 4)\n",
    "\n",
    "    return pd.Series([secs_remaining, is_inside_two_mins, is_overtime], ['secs_remaining', 'is_inside_two_mins', 'is_overtime'])\n",
    "\n",
    "# v1 result - just sneak, kneel, spikie, pass, or run\n",
    "plays['play_result'] = plays.apply(lambda p: \n",
    "                                   'run' if p.qbSneak == True else \n",
    "                                   'run' if p.qbKneel == True else \n",
    "                                   'pass' if p.qbSpike == True else \n",
    "                                   'pass' if p.isDropback == True else \n",
    "                                   'run', axis = 1)\n",
    "\n",
    "# offenseFormation is NaN for qb kneels or spikes\n",
    "plays['offense_formation'] = plays.apply(lambda p: \n",
    "                                   'VICTORY' if p.qbKneel == True else\n",
    "                                   'MUDDLE' if p.qbSpike == True else\n",
    "                                   p.offenseFormation, axis = 1)\n",
    "\n",
    "# offense is considered on schedule if they gain at least 50% on first down, 70% on second down, or 100% on 3rd/4th. \n",
    "# this means on schedule is 1st (yards <= 10), 2nd (yards <= 5), 3rd (yards <= 3), 4th (yards <= 1)\n",
    "plays['on_schedule'] = plays.apply(lambda p: \n",
    "                                   p.yardsToGo <= 10 if p.down == 1 else\n",
    "                                   p.yardsToGo <= 5  if p.down == 2 else\n",
    "                                   p.yardsToGo <= 3  if p.down == 3 else\n",
    "                                   p.yardsToGo <= 1  if p.down == 4 else\n",
    "                                   False, axis = 1)\n",
    "# anything two yards or less is considered short yardage\n",
    "plays['and_short'] = plays.apply(lambda p: p.yardsToGo <= 2, axis = 1)\n",
    "\n",
    "\n",
    "# get score and win probability\n",
    "plays['score_offset'] = plays.apply(lambda p: \n",
    "                                    p.preSnapHomeScore - p.preSnapVisitorScore if p.possessionTeam == p.homeTeamAbbr else\n",
    "                                    p.preSnapVisitorScore - p.preSnapHomeScore, axis = 1)\n",
    "plays['win_probability'] = plays.apply(lambda p: \n",
    "                                       p.preSnapHomeTeamWinProbability if p.possessionTeam == p.homeTeamAbbr else\n",
    "                                       p.preSnapVisitorTeamWinProbability, axis = 1)\n",
    "\n",
    "# come back to this - the logic is a bit recursive here\n",
    "# plays['high_liklihood_pass'] = plays.apply(lambda p: \n",
    "#                                             True if p.qbSpike == True else\n",
    "#                                             False if p.qbKneel == True else\n",
    "#                                             True if \n",
    "#                                             'UNKNOWN' if p.qbKneel == True else\n",
    "#                                             p.offenseFormation, axis = 1)\n",
    "\n",
    "# get position counts (TE, WR, etc)\n",
    "tmp = plays.apply(get_position_features, axis=1)\n",
    "plays['wr_count'] = tmp['wr_count']\n",
    "plays['te_count'] = tmp['te_count']\n",
    "plays['rb_count'] = tmp['rb_count']\n",
    "plays['extra_ol'] = tmp['extra_ol']\n",
    "\n",
    "tmp = plays.apply(get_time_features, axis=1)\n",
    "plays['secs_remaining'] = tmp['secs_remaining']\n",
    "plays['is_inside_two_mins'] = tmp['is_inside_two_mins']\n",
    "plays['is_overtime'] = tmp['is_overtime']\n",
    "\n",
    "plays['off_yards_to_goal'] = plays.apply(lambda p: 100 - int(p.yardlineNumber) if p.yardlineSide == p.possessionTeam else int(p.yardlineNumber), axis = 1)\n",
    "df = plays"
   ]
  },
  {
   "cell_type": "markdown",
   "id": "e6b285ea",
   "metadata": {},
   "source": [
    "## Prepare the training set"
   ]
  },
  {
   "cell_type": "code",
   "execution_count": 6,
   "id": "7b1d350e",
   "metadata": {},
   "outputs": [
    {
     "data": {
      "text/html": [
       "<div>\n",
       "<style scoped>\n",
       "    .dataframe tbody tr th:only-of-type {\n",
       "        vertical-align: middle;\n",
       "    }\n",
       "\n",
       "    .dataframe tbody tr th {\n",
       "        vertical-align: top;\n",
       "    }\n",
       "\n",
       "    .dataframe thead th {\n",
       "        text-align: right;\n",
       "    }\n",
       "</style>\n",
       "<table border=\"1\" class=\"dataframe\">\n",
       "  <thead>\n",
       "    <tr style=\"text-align: right;\">\n",
       "      <th></th>\n",
       "      <th>yardsToGo</th>\n",
       "      <th>secs_remaining</th>\n",
       "      <th>is_inside_two_mins</th>\n",
       "      <th>wr_count</th>\n",
       "      <th>te_count</th>\n",
       "      <th>rb_count</th>\n",
       "      <th>extra_ol</th>\n",
       "      <th>on_schedule</th>\n",
       "      <th>and_short</th>\n",
       "      <th>score_offset</th>\n",
       "      <th>...</th>\n",
       "      <th>form_WILDCAT</th>\n",
       "      <th>quarter_1</th>\n",
       "      <th>quarter_2</th>\n",
       "      <th>quarter_3</th>\n",
       "      <th>quarter_4</th>\n",
       "      <th>quarter_5</th>\n",
       "      <th>down_1</th>\n",
       "      <th>down_2</th>\n",
       "      <th>down_3</th>\n",
       "      <th>down_4</th>\n",
       "    </tr>\n",
       "  </thead>\n",
       "  <tbody>\n",
       "    <tr>\n",
       "      <th>0</th>\n",
       "      <td>10</td>\n",
       "      <td>1014</td>\n",
       "      <td>False</td>\n",
       "      <td>3</td>\n",
       "      <td>2</td>\n",
       "      <td>0</td>\n",
       "      <td>False</td>\n",
       "      <td>True</td>\n",
       "      <td>False</td>\n",
       "      <td>18</td>\n",
       "      <td>...</td>\n",
       "      <td>False</td>\n",
       "      <td>False</td>\n",
       "      <td>False</td>\n",
       "      <td>True</td>\n",
       "      <td>False</td>\n",
       "      <td>False</td>\n",
       "      <td>True</td>\n",
       "      <td>False</td>\n",
       "      <td>False</td>\n",
       "      <td>False</td>\n",
       "    </tr>\n",
       "    <tr>\n",
       "      <th>1</th>\n",
       "      <td>10</td>\n",
       "      <td>133</td>\n",
       "      <td>False</td>\n",
       "      <td>3</td>\n",
       "      <td>2</td>\n",
       "      <td>0</td>\n",
       "      <td>False</td>\n",
       "      <td>True</td>\n",
       "      <td>False</td>\n",
       "      <td>0</td>\n",
       "      <td>...</td>\n",
       "      <td>False</td>\n",
       "      <td>False</td>\n",
       "      <td>False</td>\n",
       "      <td>False</td>\n",
       "      <td>True</td>\n",
       "      <td>False</td>\n",
       "      <td>True</td>\n",
       "      <td>False</td>\n",
       "      <td>False</td>\n",
       "      <td>False</td>\n",
       "    </tr>\n",
       "    <tr>\n",
       "      <th>2</th>\n",
       "      <td>12</td>\n",
       "      <td>120</td>\n",
       "      <td>True</td>\n",
       "      <td>2</td>\n",
       "      <td>2</td>\n",
       "      <td>1</td>\n",
       "      <td>False</td>\n",
       "      <td>False</td>\n",
       "      <td>False</td>\n",
       "      <td>-14</td>\n",
       "      <td>...</td>\n",
       "      <td>False</td>\n",
       "      <td>False</td>\n",
       "      <td>False</td>\n",
       "      <td>False</td>\n",
       "      <td>True</td>\n",
       "      <td>False</td>\n",
       "      <td>False</td>\n",
       "      <td>False</td>\n",
       "      <td>True</td>\n",
       "      <td>False</td>\n",
       "    </tr>\n",
       "    <tr>\n",
       "      <th>3</th>\n",
       "      <td>10</td>\n",
       "      <td>3268</td>\n",
       "      <td>False</td>\n",
       "      <td>2</td>\n",
       "      <td>2</td>\n",
       "      <td>1</td>\n",
       "      <td>False</td>\n",
       "      <td>False</td>\n",
       "      <td>False</td>\n",
       "      <td>0</td>\n",
       "      <td>...</td>\n",
       "      <td>False</td>\n",
       "      <td>True</td>\n",
       "      <td>False</td>\n",
       "      <td>False</td>\n",
       "      <td>False</td>\n",
       "      <td>False</td>\n",
       "      <td>False</td>\n",
       "      <td>True</td>\n",
       "      <td>False</td>\n",
       "      <td>False</td>\n",
       "    </tr>\n",
       "    <tr>\n",
       "      <th>4</th>\n",
       "      <td>8</td>\n",
       "      <td>1036</td>\n",
       "      <td>False</td>\n",
       "      <td>3</td>\n",
       "      <td>1</td>\n",
       "      <td>1</td>\n",
       "      <td>False</td>\n",
       "      <td>False</td>\n",
       "      <td>False</td>\n",
       "      <td>0</td>\n",
       "      <td>...</td>\n",
       "      <td>False</td>\n",
       "      <td>False</td>\n",
       "      <td>False</td>\n",
       "      <td>True</td>\n",
       "      <td>False</td>\n",
       "      <td>False</td>\n",
       "      <td>False</td>\n",
       "      <td>True</td>\n",
       "      <td>False</td>\n",
       "      <td>False</td>\n",
       "    </tr>\n",
       "    <tr>\n",
       "      <th>...</th>\n",
       "      <td>...</td>\n",
       "      <td>...</td>\n",
       "      <td>...</td>\n",
       "      <td>...</td>\n",
       "      <td>...</td>\n",
       "      <td>...</td>\n",
       "      <td>...</td>\n",
       "      <td>...</td>\n",
       "      <td>...</td>\n",
       "      <td>...</td>\n",
       "      <td>...</td>\n",
       "      <td>...</td>\n",
       "      <td>...</td>\n",
       "      <td>...</td>\n",
       "      <td>...</td>\n",
       "      <td>...</td>\n",
       "      <td>...</td>\n",
       "      <td>...</td>\n",
       "      <td>...</td>\n",
       "      <td>...</td>\n",
       "      <td>...</td>\n",
       "    </tr>\n",
       "    <tr>\n",
       "      <th>16119</th>\n",
       "      <td>4</td>\n",
       "      <td>2569</td>\n",
       "      <td>False</td>\n",
       "      <td>2</td>\n",
       "      <td>2</td>\n",
       "      <td>1</td>\n",
       "      <td>False</td>\n",
       "      <td>False</td>\n",
       "      <td>False</td>\n",
       "      <td>-10</td>\n",
       "      <td>...</td>\n",
       "      <td>False</td>\n",
       "      <td>False</td>\n",
       "      <td>True</td>\n",
       "      <td>False</td>\n",
       "      <td>False</td>\n",
       "      <td>False</td>\n",
       "      <td>False</td>\n",
       "      <td>False</td>\n",
       "      <td>True</td>\n",
       "      <td>False</td>\n",
       "    </tr>\n",
       "    <tr>\n",
       "      <th>16120</th>\n",
       "      <td>10</td>\n",
       "      <td>752</td>\n",
       "      <td>False</td>\n",
       "      <td>2</td>\n",
       "      <td>2</td>\n",
       "      <td>1</td>\n",
       "      <td>False</td>\n",
       "      <td>True</td>\n",
       "      <td>False</td>\n",
       "      <td>2</td>\n",
       "      <td>...</td>\n",
       "      <td>False</td>\n",
       "      <td>False</td>\n",
       "      <td>False</td>\n",
       "      <td>False</td>\n",
       "      <td>True</td>\n",
       "      <td>False</td>\n",
       "      <td>True</td>\n",
       "      <td>False</td>\n",
       "      <td>False</td>\n",
       "      <td>False</td>\n",
       "    </tr>\n",
       "    <tr>\n",
       "      <th>16121</th>\n",
       "      <td>10</td>\n",
       "      <td>1499</td>\n",
       "      <td>False</td>\n",
       "      <td>2</td>\n",
       "      <td>2</td>\n",
       "      <td>1</td>\n",
       "      <td>False</td>\n",
       "      <td>True</td>\n",
       "      <td>False</td>\n",
       "      <td>4</td>\n",
       "      <td>...</td>\n",
       "      <td>False</td>\n",
       "      <td>False</td>\n",
       "      <td>False</td>\n",
       "      <td>True</td>\n",
       "      <td>False</td>\n",
       "      <td>False</td>\n",
       "      <td>True</td>\n",
       "      <td>False</td>\n",
       "      <td>False</td>\n",
       "      <td>False</td>\n",
       "    </tr>\n",
       "    <tr>\n",
       "      <th>16122</th>\n",
       "      <td>10</td>\n",
       "      <td>2745</td>\n",
       "      <td>False</td>\n",
       "      <td>2</td>\n",
       "      <td>2</td>\n",
       "      <td>1</td>\n",
       "      <td>False</td>\n",
       "      <td>True</td>\n",
       "      <td>False</td>\n",
       "      <td>4</td>\n",
       "      <td>...</td>\n",
       "      <td>False</td>\n",
       "      <td>True</td>\n",
       "      <td>False</td>\n",
       "      <td>False</td>\n",
       "      <td>False</td>\n",
       "      <td>False</td>\n",
       "      <td>True</td>\n",
       "      <td>False</td>\n",
       "      <td>False</td>\n",
       "      <td>False</td>\n",
       "    </tr>\n",
       "    <tr>\n",
       "      <th>16123</th>\n",
       "      <td>10</td>\n",
       "      <td>900</td>\n",
       "      <td>False</td>\n",
       "      <td>3</td>\n",
       "      <td>1</td>\n",
       "      <td>1</td>\n",
       "      <td>False</td>\n",
       "      <td>True</td>\n",
       "      <td>False</td>\n",
       "      <td>7</td>\n",
       "      <td>...</td>\n",
       "      <td>False</td>\n",
       "      <td>False</td>\n",
       "      <td>False</td>\n",
       "      <td>False</td>\n",
       "      <td>True</td>\n",
       "      <td>False</td>\n",
       "      <td>True</td>\n",
       "      <td>False</td>\n",
       "      <td>False</td>\n",
       "      <td>False</td>\n",
       "    </tr>\n",
       "  </tbody>\n",
       "</table>\n",
       "<p>16124 rows × 30 columns</p>\n",
       "</div>"
      ],
      "text/plain": [
       "       yardsToGo  secs_remaining  is_inside_two_mins  wr_count  te_count  \\\n",
       "0             10            1014               False         3         2   \n",
       "1             10             133               False         3         2   \n",
       "2             12             120                True         2         2   \n",
       "3             10            3268               False         2         2   \n",
       "4              8            1036               False         3         1   \n",
       "...          ...             ...                 ...       ...       ...   \n",
       "16119          4            2569               False         2         2   \n",
       "16120         10             752               False         2         2   \n",
       "16121         10            1499               False         2         2   \n",
       "16122         10            2745               False         2         2   \n",
       "16123         10             900               False         3         1   \n",
       "\n",
       "       rb_count  extra_ol  on_schedule  and_short  score_offset  ...  \\\n",
       "0             0     False         True      False            18  ...   \n",
       "1             0     False         True      False             0  ...   \n",
       "2             1     False        False      False           -14  ...   \n",
       "3             1     False        False      False             0  ...   \n",
       "4             1     False        False      False             0  ...   \n",
       "...         ...       ...          ...        ...           ...  ...   \n",
       "16119         1     False        False      False           -10  ...   \n",
       "16120         1     False         True      False             2  ...   \n",
       "16121         1     False         True      False             4  ...   \n",
       "16122         1     False         True      False             4  ...   \n",
       "16123         1     False         True      False             7  ...   \n",
       "\n",
       "       form_WILDCAT quarter_1  quarter_2  quarter_3  quarter_4  quarter_5  \\\n",
       "0             False     False      False       True      False      False   \n",
       "1             False     False      False      False       True      False   \n",
       "2             False     False      False      False       True      False   \n",
       "3             False      True      False      False      False      False   \n",
       "4             False     False      False       True      False      False   \n",
       "...             ...       ...        ...        ...        ...        ...   \n",
       "16119         False     False       True      False      False      False   \n",
       "16120         False     False      False      False       True      False   \n",
       "16121         False     False      False       True      False      False   \n",
       "16122         False      True      False      False      False      False   \n",
       "16123         False     False      False      False       True      False   \n",
       "\n",
       "       down_1  down_2  down_3  down_4  \n",
       "0        True   False   False   False  \n",
       "1        True   False   False   False  \n",
       "2       False   False    True   False  \n",
       "3       False    True   False   False  \n",
       "4       False    True   False   False  \n",
       "...       ...     ...     ...     ...  \n",
       "16119   False   False    True   False  \n",
       "16120    True   False   False   False  \n",
       "16121    True   False   False   False  \n",
       "16122    True   False   False   False  \n",
       "16123    True   False   False   False  \n",
       "\n",
       "[16124 rows x 30 columns]"
      ]
     },
     "execution_count": 6,
     "metadata": {},
     "output_type": "execute_result"
    }
   ],
   "source": [
    "formation_dummies = pd.get_dummies(df.offense_formation, prefix='form')\n",
    "df = pd.concat([df, formation_dummies], axis=1)\n",
    "quarter_dummies = pd.get_dummies(df.quarter, prefix='quarter')\n",
    "df = pd.concat([df, quarter_dummies], axis=1)\n",
    "down_dummies = pd.get_dummies(df.down, prefix='down')\n",
    "df = pd.concat([df, down_dummies], axis=1)\n",
    "# teams_dummies = pd.get_dummies(df.possessionTeam, prefix='team')                              # not using team dummies at the moment\n",
    "# df = pd.concat([df, teams_dummies], axis=1)\n",
    "\n",
    "TARGET_FEATURE = 'play_result'\n",
    "TRAINING_FEATURES = ['yardsToGo',                                                               # down and distance\n",
    "                     #'quarter', 'is_overtime', 'down',                                         # covered by dummies\n",
    "                     'secs_remaining', 'is_inside_two_mins',                                    # game time\n",
    "                     'wr_count', 'te_count', 'rb_count', 'extra_ol',                            # formations\n",
    "                     #'possessionTeam',                                                         # including team\n",
    "                     'on_schedule', 'and_short',                                                # situational\n",
    "                     'score_offset', 'win_probability',                                         # score and win probability\n",
    "                     TARGET_FEATURE]\n",
    "for c in formation_dummies.columns:\n",
    "    TRAINING_FEATURES.append(c)\n",
    "for c in quarter_dummies.columns:\n",
    "    TRAINING_FEATURES.append(c)\n",
    "for c in down_dummies.columns:\n",
    "    TRAINING_FEATURES.append(c)\n",
    "# for c in teams_dummies.columns:\n",
    "#     TRAINING_FEATURES.append(c)\n",
    "\n",
    "df[TRAINING_FEATURES]"
   ]
  },
  {
   "cell_type": "code",
   "execution_count": 7,
   "id": "0788f56d",
   "metadata": {},
   "outputs": [
    {
     "name": "stdout",
     "output_type": "stream",
     "text": [
      "The training set has 2418 rows\n",
      "The test set has 13706 rows\n",
      "The target feature is play_result and the 29 training columns are ['yardsToGo', 'secs_remaining', 'is_inside_two_mins', 'wr_count', 'te_count', 'rb_count', 'extra_ol', 'on_schedule', 'and_short', 'score_offset', 'win_probability', 'form_EMPTY', 'form_I_FORM', 'form_JUMBO', 'form_MUDDLE', 'form_PISTOL', 'form_SHOTGUN', 'form_SINGLEBACK', 'form_VICTORY', 'form_WILDCAT', 'quarter_1', 'quarter_2', 'quarter_3', 'quarter_4', 'quarter_5', 'down_1', 'down_2', 'down_3', 'down_4']\n"
     ]
    }
   ],
   "source": [
    "tmp = df[TRAINING_FEATURES]\n",
    "X_train, X_test, y_train, y_test = train_test_split(tmp.drop(TARGET_FEATURE, axis = 1), \n",
    "                                                    tmp[TARGET_FEATURE],\n",
    "                                                    train_size=TRAINING_PERCENT_PARAMETER,\n",
    "                                                    random_state=27,\n",
    "                                                    stratify = df[TARGET_FEATURE],\n",
    "                                                    shuffle=True)\n",
    "if DEBUG_PARAMETER:\n",
    "    print(f\"The training set has {len(y_train)} rows\")\n",
    "    print(f\"The test set has {len(y_test)} rows\")\n",
    "    print(f\"The target feature is {TARGET_FEATURE} and the {len(X_train.columns)} training columns are {[x for x in X_train.columns]}\")"
   ]
  },
  {
   "cell_type": "markdown",
   "id": "421a02ee",
   "metadata": {},
   "source": [
    "## Automation Layer"
   ]
  },
  {
   "cell_type": "code",
   "execution_count": 8,
   "id": "df2d9f0e",
   "metadata": {},
   "outputs": [],
   "source": [
    "# def create_confusion_matrix(model_name, predictions, y_test):\n",
    "#     cm = confusion_matrix(predictions, y_test)\n",
    "#     sns.heatmap(cm, annot=True, fmt = \"d\", cmap = \"Blues\", annot_kws={\"size\": 20}, cbar = False)\n",
    "#     plt.ylabel('Actual')\n",
    "#     plt.xlabel('Predicted')\n",
    "#     plt.title(f'Confusion matrix for {model_name}')\n",
    "#     sns.set(font_scale = 2)\n",
    "    \n",
    "# def create_confusion_matrix_2(model_name, predictions, y_test):\n",
    "#     cm = confusion_matrix(predictions, y_test)\n",
    "#     disp1 = ConfusionMatrixDisplay(cm, display_labels=['run', 'pass' ])\n",
    "#     disp1.plot()\n",
    "#     plt.title(\"Logistic Regression Confusion Matrix\")\n",
    "    \n",
    "def create_roc_curve(model, X_test, y_test):\n",
    "    y_score = model.predict_proba(X_test)[:, 1]\n",
    "    fpr, tpr, thresholds = roc_curve(y_test, y_score)\n",
    "    roc_auc_value = skl_auc(fpr, tpr)\n",
    "\n",
    "    disp2 = RocCurveDisplay(fpr=fpr, tpr=tpr, roc_auc=roc_auc_value)\n",
    "    disp2.plot()\n",
    "\n",
    "all_best_params = {}\n",
    "def print_best_params(name, best_params):\n",
    "    if IS_TRAINING_MODE:\n",
    "        return\n",
    "    print(f\"======== Best Params for {name} ========\")\n",
    "    for key in best_params:\n",
    "        value = best_params[key]\n",
    "        if not isinstance(value, str):\n",
    "            print(f\"{key} = {value}\")\n",
    "        else:\n",
    "            print(f\"{key} = '{value}'\")\n",
    "\n",
    "def append_best_params(name, best_params):\n",
    "    all_best_params.update(best_params)\n",
    "    print_best_params(name, best_params)\n",
    "\n",
    "all_runs = []\n",
    "best_run = None\n",
    "class ModelTrainer:\n",
    "    def __init__(self, model_name, actual_model, prefix, generate_charts=True, selected_features=None):\n",
    "        self.start_time = time.time()\n",
    "        self.model_name = model_name\n",
    "        self.model = actual_model\n",
    "        self.prefix = prefix\n",
    "        self.generate_charts = False #generate_charts\n",
    "        self.training_features = None\n",
    "        self.train_time = None\n",
    "        self.train_accuracy = None\n",
    "        self.test_accuracy = None\n",
    "        self.features = selected_features if selected_features is not None else [x for x in TRAINING_FEATURES if x != TARGET_FEATURE]\n",
    "        \n",
    "    def elapsed(self):\n",
    "        elapsed_time = time.time() - self.start_time\n",
    "        return f\"{elapsed_time:.4f} secs\"\n",
    "    \n",
    "    def model_predict(self, X, is_continuous):\n",
    "        prediction = self.model.predict(X)\n",
    "        if is_continuous:\n",
    "            prediction = (prediction >= 0.5).astype(int)\n",
    "        return prediction\n",
    "    \n",
    "    def chart_roc_and_confusion(self, is_continuous):\n",
    "        fig, ax = plt.subplots(1, 2)\n",
    "        if PARAM_FINAL_IMAGES:\n",
    "            fig.set_size_inches(20, 12)\n",
    "        else:\n",
    "            fig.set_size_inches(15, 5)\n",
    "\n",
    "        preds = self.model_predict(X_test[self.features], is_continuous)\n",
    "\n",
    "        # Confusion Matrix\n",
    "        if PARAM_GENERATE_CONFIDENCE_MATRIX:\n",
    "            conf_matrix = confusion_matrix(y_test, preds)\n",
    "            disp1 = ConfusionMatrixDisplay(conf_matrix, display_labels=['run', 'pass' ])\n",
    "            # plt.title(\"Confusion Matrix\")\n",
    "            disp1.plot(ax=ax[0])\n",
    "            print(f\"Precision: {precision_score(y_test, preds, labels=['run', 'pass' ], pos_label='run'):.4f}\")\n",
    "            print(f\"Recall: {recall_score(y_test, preds, labels=['run', 'pass' ], pos_label='run'):.4f}\")            \n",
    "\n",
    "        # ROC Curve\n",
    "        y_score = None\n",
    "        if not is_continuous:\n",
    "            y_score = self.model.predict_proba(X_test[self.features])[:, 1]\n",
    "        else:\n",
    "            y_score = self.model.predict(X_test[self.features])\n",
    "        fpr, tpr, thresholds = roc_curve(y_test, y_score, pos_label='run') # \n",
    "        roc_auc_value = skl_auc(fpr, tpr)\n",
    "\n",
    "        disp2 = RocCurveDisplay(fpr=fpr, tpr=tpr, roc_auc=roc_auc_value)\n",
    "        disp2.plot(ax=ax[1])\n",
    "    \n",
    "    def run(self, is_continuous=False):\n",
    "        features = self.features\n",
    "        global best_run\n",
    "        if not IS_TRAINING_MODE:\n",
    "            print(\"Not training models - IS_TRAINING_MODE=False\")\n",
    "            return\n",
    "        training_features = 0 if self.model_name == \"Dummy\" else len(TRAINING_FEATURES) - 1\n",
    "\n",
    "        model = self.model\n",
    "        model.fit(X_train[features], y_train)\n",
    "        predictions = model.predict(X_test[features])\n",
    "        train_accuracy = accuracy_score(model.predict(X_train[features]), y_train)\n",
    "        test_accuracy = accuracy_score(predictions, y_test) \n",
    "        self.training_features = training_features\n",
    "        self.train_time = self.elapsed()\n",
    "        self.train_accuracy = train_accuracy\n",
    "        self.test_accuracy = test_accuracy\n",
    "        if self.prefix is not None:\n",
    "            X_test[f'{self.prefix}_pred'] = predictions\n",
    "        all_runs.append(self)\n",
    "        if best_run is None or self.test_accuracy > best_run.test_accuracy:\n",
    "            best_run = self\n",
    "\n",
    "        if PARAM_GENERATE_CONFIDENCE_MATRIX:\n",
    "            self.chart_roc_and_confusion(False)\n",
    "\n",
    "def optimize_model_params(pipeline, parameters_to_try):\n",
    "    if IS_TRAINING_MODE:\n",
    "        print(\"Not optimizing hyper parameters - IS_TRAINING_MODE=True\")\n",
    "        return\n",
    "    model_finder = GridSearchCV(estimator = pipeline, \n",
    "                                param_grid = parameters_to_try, \n",
    "                                scoring = \"accuracy\",\n",
    "                                n_jobs=-1,      # parallelization\n",
    "                                cv = 5)\n",
    "    model_finder.fit(X_train, y_train)\n",
    "    append_best_params(\"LogisticRegression\", model_finder.best_params_)\n",
    "\n",
    "def show_run_output():\n",
    "    if not IS_TRAINING_MODE:\n",
    "        return\n",
    "    print(f\"*Best Run is {best_run.test_accuracy:4f} from {best_run.model_name}*\\n\")\n",
    "    print(\"| Model | Features | Train Time | Train Accuracy | Test Accuracy |\")\n",
    "    print(\"| ----- | -------- | ---------- | -------------  | -----------   |\")\n",
    "    for r in all_runs:\n",
    "        print(f\"| {r.model_name} | {r.training_features} | {r.train_time} | {r.train_accuracy:4f} | {r.test_accuracy:4f} |\")\n",
    "\n",
    "all_best_features = []\n",
    "def find_best_features(sq_model, prefix, max_features=10):\n",
    "    if IS_TRAINING_MODE:\n",
    "        print(\"Not optimizing hyper parameters - IS_TRAINING_MODE=True\")\n",
    "        return\n",
    "    best_accuracy = 0.0\n",
    "    best_features = []\n",
    "\n",
    "    for num_features in range(1, max_features + 1):\n",
    "        start = time.time()\n",
    "        selector = SequentialFeatureSelector(estimator=sq_model, n_features_to_select=num_features, n_jobs=-1)\n",
    "        pipeline = Pipeline([\n",
    "            # ('scaler', StandardScaler()),\n",
    "            ('sequential', selector)\n",
    "        ])\n",
    "        X_sfs = pipeline.fit_transform(X_train, y_train)\n",
    "\n",
    "        best_columns = selector.get_feature_names_out()\n",
    "\n",
    "        sq_model.fit(X_train[best_columns], y_train)\n",
    "        # train_accuracy = accuracy_score(sq_model.predict(X_train[best_columns]), y_train)\n",
    "        test_accuracy = accuracy_score(sq_model.predict(X_test[best_columns]), y_test) \n",
    "\n",
    "        elapsed_time = time.time() - start\n",
    "        print(f\"Best Training Accuracy for {num_features}: {test_accuracy:4f} in {elapsed_time:.4f} secs, features: {selector.get_feature_names_out()}\")\n",
    "\n",
    "        if test_accuracy > best_accuracy:\n",
    "            best_accuracy = test_accuracy\n",
    "            best_features = selector.get_feature_names_out()\n",
    "    print(f\"\\nOverall Best: {best_accuracy:4f} features: {best_features}\")\n",
    "    output = f\"{prefix}__features = [\"\n",
    "    for feature in best_features:\n",
    "        output += f\"'{feature}', \"\n",
    "    output += \"]\"\n",
    "    all_best_features.append(output)\n",
    "    return best_features\n",
    "\n",
    "def print_best_features():\n",
    "    for best_feature in all_best_features:\n",
    "        print(best_feature)\n"
   ]
  },
  {
   "cell_type": "markdown",
   "id": "3ed22e89",
   "metadata": {},
   "source": [
    "## EDA"
   ]
  },
  {
   "cell_type": "markdown",
   "id": "bc7d20f8",
   "metadata": {},
   "source": [
    "### Expectation: Teams pass substantially more in the last two minutes of each half"
   ]
  },
  {
   "cell_type": "code",
   "execution_count": 9,
   "id": "fa3afa07",
   "metadata": {},
   "outputs": [
    {
     "data": {
      "application/vnd.plotly.v1+json": {
       "config": {
        "plotlyServerURL": "https://plot.ly"
       },
       "data": [
        {
         "hovertemplate": "mins_in_half=%{x}<br>pass_percent=%{y}<extra></extra>",
         "legendgroup": "",
         "marker": {
          "color": "#636efa",
          "symbol": "circle"
         },
         "mode": "markers",
         "name": "",
         "orientation": "v",
         "showlegend": false,
         "type": "scatter",
         "x": {
          "bdata": "4uPk5ebn6Onq6+zt7u/w8fLz9PX29/j5+vv8/f7/",
          "dtype": "i1"
         },
         "xaxis": "x",
         "y": {
          "bdata": "ovdMovdM4j9Qn5cG6vPiP0dASrsRkOI/FYeMvXb54T80WKEzWKHjP3086K37k+M/X0J7Ce0l5D9IEbAx2k7jP4G3HxJ4++E/mpmZmZmZ4z8cA6u9vzHgPzs6k2pHZ+I/X0J7Ce0l5D+hsLplwdfjP9u2bdu2beE/qPCOe3NF4j8/gvsI7iPgP/Q8z/M8z+M/bCivobyG4j/tyMEmbnziP1VVVVVVVeU/k9aWktaW4j83A9N1jjXiP0SlI3sGouI/iYiIiIiI4j/ipO7LYyviP+JwOBwOh+M//rLeL+v94j/P8zzP8zznP1/sTkUt8eo/",
          "dtype": "f8"
         },
         "yaxis": "y"
        },
        {
         "hovertemplate": "<b>OLS trendline</b><br>pass_percent = 0.00247825 * mins_in_half + 0.637846<br>R<sup>2</sup>=0.122424<br><br>mins_in_half=%{x}<br>pass_percent=%{y} <b>(trend)</b><extra></extra>",
         "legendgroup": "",
         "marker": {
          "color": "#636efa",
          "symbol": "circle"
         },
         "mode": "lines",
         "name": "",
         "showlegend": false,
         "type": "scatter",
         "x": {
          "bdata": "4uPk5ebn6Onq6+zt7u/w8fLz9PX29/j5+vv8/f7/",
          "dtype": "i1"
         },
         "xaxis": "x",
         "y": {
          "bdata": "XBTpKS0I4j9ZLCdtehziP1ZEZbDHMOI/U1yj8xRF4j9QdOE2YlniP02MH3qvbeI/SqRdvfyB4j9IvJsASpbiP0XU2UOXquI/QuwXh+S+4j8/BFbKMdPiPzwclA1/5+I/OTTSUMz74j82TBCUGRDjPzNkTtdmJOM/MHyMGrQ44z8ulMpdAU3jPyusCKFOYeM/KMRG5Jt14z8l3IQn6YnjPyL0wmo2nuM/HwwBroOy4z8cJD/x0MbjPxk8fTQe2+M/FlS7d2vv4z8TbPm6uAPkPxGEN/4FGOQ/Dpx1QVMs5D8LtLOEoEDkPwjM8cftVOQ/",
          "dtype": "f8"
         },
         "yaxis": "y"
        }
       ],
       "layout": {
        "legend": {
         "tracegroupgap": 0
        },
        "template": {
         "data": {
          "bar": [
           {
            "error_x": {
             "color": "#2a3f5f"
            },
            "error_y": {
             "color": "#2a3f5f"
            },
            "marker": {
             "line": {
              "color": "#E5ECF6",
              "width": 0.5
             },
             "pattern": {
              "fillmode": "overlay",
              "size": 10,
              "solidity": 0.2
             }
            },
            "type": "bar"
           }
          ],
          "barpolar": [
           {
            "marker": {
             "line": {
              "color": "#E5ECF6",
              "width": 0.5
             },
             "pattern": {
              "fillmode": "overlay",
              "size": 10,
              "solidity": 0.2
             }
            },
            "type": "barpolar"
           }
          ],
          "carpet": [
           {
            "aaxis": {
             "endlinecolor": "#2a3f5f",
             "gridcolor": "white",
             "linecolor": "white",
             "minorgridcolor": "white",
             "startlinecolor": "#2a3f5f"
            },
            "baxis": {
             "endlinecolor": "#2a3f5f",
             "gridcolor": "white",
             "linecolor": "white",
             "minorgridcolor": "white",
             "startlinecolor": "#2a3f5f"
            },
            "type": "carpet"
           }
          ],
          "choropleth": [
           {
            "colorbar": {
             "outlinewidth": 0,
             "ticks": ""
            },
            "type": "choropleth"
           }
          ],
          "contour": [
           {
            "colorbar": {
             "outlinewidth": 0,
             "ticks": ""
            },
            "colorscale": [
             [
              0,
              "#0d0887"
             ],
             [
              0.1111111111111111,
              "#46039f"
             ],
             [
              0.2222222222222222,
              "#7201a8"
             ],
             [
              0.3333333333333333,
              "#9c179e"
             ],
             [
              0.4444444444444444,
              "#bd3786"
             ],
             [
              0.5555555555555556,
              "#d8576b"
             ],
             [
              0.6666666666666666,
              "#ed7953"
             ],
             [
              0.7777777777777778,
              "#fb9f3a"
             ],
             [
              0.8888888888888888,
              "#fdca26"
             ],
             [
              1,
              "#f0f921"
             ]
            ],
            "type": "contour"
           }
          ],
          "contourcarpet": [
           {
            "colorbar": {
             "outlinewidth": 0,
             "ticks": ""
            },
            "type": "contourcarpet"
           }
          ],
          "heatmap": [
           {
            "colorbar": {
             "outlinewidth": 0,
             "ticks": ""
            },
            "colorscale": [
             [
              0,
              "#0d0887"
             ],
             [
              0.1111111111111111,
              "#46039f"
             ],
             [
              0.2222222222222222,
              "#7201a8"
             ],
             [
              0.3333333333333333,
              "#9c179e"
             ],
             [
              0.4444444444444444,
              "#bd3786"
             ],
             [
              0.5555555555555556,
              "#d8576b"
             ],
             [
              0.6666666666666666,
              "#ed7953"
             ],
             [
              0.7777777777777778,
              "#fb9f3a"
             ],
             [
              0.8888888888888888,
              "#fdca26"
             ],
             [
              1,
              "#f0f921"
             ]
            ],
            "type": "heatmap"
           }
          ],
          "histogram": [
           {
            "marker": {
             "pattern": {
              "fillmode": "overlay",
              "size": 10,
              "solidity": 0.2
             }
            },
            "type": "histogram"
           }
          ],
          "histogram2d": [
           {
            "colorbar": {
             "outlinewidth": 0,
             "ticks": ""
            },
            "colorscale": [
             [
              0,
              "#0d0887"
             ],
             [
              0.1111111111111111,
              "#46039f"
             ],
             [
              0.2222222222222222,
              "#7201a8"
             ],
             [
              0.3333333333333333,
              "#9c179e"
             ],
             [
              0.4444444444444444,
              "#bd3786"
             ],
             [
              0.5555555555555556,
              "#d8576b"
             ],
             [
              0.6666666666666666,
              "#ed7953"
             ],
             [
              0.7777777777777778,
              "#fb9f3a"
             ],
             [
              0.8888888888888888,
              "#fdca26"
             ],
             [
              1,
              "#f0f921"
             ]
            ],
            "type": "histogram2d"
           }
          ],
          "histogram2dcontour": [
           {
            "colorbar": {
             "outlinewidth": 0,
             "ticks": ""
            },
            "colorscale": [
             [
              0,
              "#0d0887"
             ],
             [
              0.1111111111111111,
              "#46039f"
             ],
             [
              0.2222222222222222,
              "#7201a8"
             ],
             [
              0.3333333333333333,
              "#9c179e"
             ],
             [
              0.4444444444444444,
              "#bd3786"
             ],
             [
              0.5555555555555556,
              "#d8576b"
             ],
             [
              0.6666666666666666,
              "#ed7953"
             ],
             [
              0.7777777777777778,
              "#fb9f3a"
             ],
             [
              0.8888888888888888,
              "#fdca26"
             ],
             [
              1,
              "#f0f921"
             ]
            ],
            "type": "histogram2dcontour"
           }
          ],
          "mesh3d": [
           {
            "colorbar": {
             "outlinewidth": 0,
             "ticks": ""
            },
            "type": "mesh3d"
           }
          ],
          "parcoords": [
           {
            "line": {
             "colorbar": {
              "outlinewidth": 0,
              "ticks": ""
             }
            },
            "type": "parcoords"
           }
          ],
          "pie": [
           {
            "automargin": true,
            "type": "pie"
           }
          ],
          "scatter": [
           {
            "fillpattern": {
             "fillmode": "overlay",
             "size": 10,
             "solidity": 0.2
            },
            "type": "scatter"
           }
          ],
          "scatter3d": [
           {
            "line": {
             "colorbar": {
              "outlinewidth": 0,
              "ticks": ""
             }
            },
            "marker": {
             "colorbar": {
              "outlinewidth": 0,
              "ticks": ""
             }
            },
            "type": "scatter3d"
           }
          ],
          "scattercarpet": [
           {
            "marker": {
             "colorbar": {
              "outlinewidth": 0,
              "ticks": ""
             }
            },
            "type": "scattercarpet"
           }
          ],
          "scattergeo": [
           {
            "marker": {
             "colorbar": {
              "outlinewidth": 0,
              "ticks": ""
             }
            },
            "type": "scattergeo"
           }
          ],
          "scattergl": [
           {
            "marker": {
             "colorbar": {
              "outlinewidth": 0,
              "ticks": ""
             }
            },
            "type": "scattergl"
           }
          ],
          "scattermap": [
           {
            "marker": {
             "colorbar": {
              "outlinewidth": 0,
              "ticks": ""
             }
            },
            "type": "scattermap"
           }
          ],
          "scattermapbox": [
           {
            "marker": {
             "colorbar": {
              "outlinewidth": 0,
              "ticks": ""
             }
            },
            "type": "scattermapbox"
           }
          ],
          "scatterpolar": [
           {
            "marker": {
             "colorbar": {
              "outlinewidth": 0,
              "ticks": ""
             }
            },
            "type": "scatterpolar"
           }
          ],
          "scatterpolargl": [
           {
            "marker": {
             "colorbar": {
              "outlinewidth": 0,
              "ticks": ""
             }
            },
            "type": "scatterpolargl"
           }
          ],
          "scatterternary": [
           {
            "marker": {
             "colorbar": {
              "outlinewidth": 0,
              "ticks": ""
             }
            },
            "type": "scatterternary"
           }
          ],
          "surface": [
           {
            "colorbar": {
             "outlinewidth": 0,
             "ticks": ""
            },
            "colorscale": [
             [
              0,
              "#0d0887"
             ],
             [
              0.1111111111111111,
              "#46039f"
             ],
             [
              0.2222222222222222,
              "#7201a8"
             ],
             [
              0.3333333333333333,
              "#9c179e"
             ],
             [
              0.4444444444444444,
              "#bd3786"
             ],
             [
              0.5555555555555556,
              "#d8576b"
             ],
             [
              0.6666666666666666,
              "#ed7953"
             ],
             [
              0.7777777777777778,
              "#fb9f3a"
             ],
             [
              0.8888888888888888,
              "#fdca26"
             ],
             [
              1,
              "#f0f921"
             ]
            ],
            "type": "surface"
           }
          ],
          "table": [
           {
            "cells": {
             "fill": {
              "color": "#EBF0F8"
             },
             "line": {
              "color": "white"
             }
            },
            "header": {
             "fill": {
              "color": "#C8D4E3"
             },
             "line": {
              "color": "white"
             }
            },
            "type": "table"
           }
          ]
         },
         "layout": {
          "annotationdefaults": {
           "arrowcolor": "#2a3f5f",
           "arrowhead": 0,
           "arrowwidth": 1
          },
          "autotypenumbers": "strict",
          "coloraxis": {
           "colorbar": {
            "outlinewidth": 0,
            "ticks": ""
           }
          },
          "colorscale": {
           "diverging": [
            [
             0,
             "#8e0152"
            ],
            [
             0.1,
             "#c51b7d"
            ],
            [
             0.2,
             "#de77ae"
            ],
            [
             0.3,
             "#f1b6da"
            ],
            [
             0.4,
             "#fde0ef"
            ],
            [
             0.5,
             "#f7f7f7"
            ],
            [
             0.6,
             "#e6f5d0"
            ],
            [
             0.7,
             "#b8e186"
            ],
            [
             0.8,
             "#7fbc41"
            ],
            [
             0.9,
             "#4d9221"
            ],
            [
             1,
             "#276419"
            ]
           ],
           "sequential": [
            [
             0,
             "#0d0887"
            ],
            [
             0.1111111111111111,
             "#46039f"
            ],
            [
             0.2222222222222222,
             "#7201a8"
            ],
            [
             0.3333333333333333,
             "#9c179e"
            ],
            [
             0.4444444444444444,
             "#bd3786"
            ],
            [
             0.5555555555555556,
             "#d8576b"
            ],
            [
             0.6666666666666666,
             "#ed7953"
            ],
            [
             0.7777777777777778,
             "#fb9f3a"
            ],
            [
             0.8888888888888888,
             "#fdca26"
            ],
            [
             1,
             "#f0f921"
            ]
           ],
           "sequentialminus": [
            [
             0,
             "#0d0887"
            ],
            [
             0.1111111111111111,
             "#46039f"
            ],
            [
             0.2222222222222222,
             "#7201a8"
            ],
            [
             0.3333333333333333,
             "#9c179e"
            ],
            [
             0.4444444444444444,
             "#bd3786"
            ],
            [
             0.5555555555555556,
             "#d8576b"
            ],
            [
             0.6666666666666666,
             "#ed7953"
            ],
            [
             0.7777777777777778,
             "#fb9f3a"
            ],
            [
             0.8888888888888888,
             "#fdca26"
            ],
            [
             1,
             "#f0f921"
            ]
           ]
          },
          "colorway": [
           "#636efa",
           "#EF553B",
           "#00cc96",
           "#ab63fa",
           "#FFA15A",
           "#19d3f3",
           "#FF6692",
           "#B6E880",
           "#FF97FF",
           "#FECB52"
          ],
          "font": {
           "color": "#2a3f5f"
          },
          "geo": {
           "bgcolor": "white",
           "lakecolor": "white",
           "landcolor": "#E5ECF6",
           "showlakes": true,
           "showland": true,
           "subunitcolor": "white"
          },
          "hoverlabel": {
           "align": "left"
          },
          "hovermode": "closest",
          "mapbox": {
           "style": "light"
          },
          "paper_bgcolor": "white",
          "plot_bgcolor": "#E5ECF6",
          "polar": {
           "angularaxis": {
            "gridcolor": "white",
            "linecolor": "white",
            "ticks": ""
           },
           "bgcolor": "#E5ECF6",
           "radialaxis": {
            "gridcolor": "white",
            "linecolor": "white",
            "ticks": ""
           }
          },
          "scene": {
           "xaxis": {
            "backgroundcolor": "#E5ECF6",
            "gridcolor": "white",
            "gridwidth": 2,
            "linecolor": "white",
            "showbackground": true,
            "ticks": "",
            "zerolinecolor": "white"
           },
           "yaxis": {
            "backgroundcolor": "#E5ECF6",
            "gridcolor": "white",
            "gridwidth": 2,
            "linecolor": "white",
            "showbackground": true,
            "ticks": "",
            "zerolinecolor": "white"
           },
           "zaxis": {
            "backgroundcolor": "#E5ECF6",
            "gridcolor": "white",
            "gridwidth": 2,
            "linecolor": "white",
            "showbackground": true,
            "ticks": "",
            "zerolinecolor": "white"
           }
          },
          "shapedefaults": {
           "line": {
            "color": "#2a3f5f"
           }
          },
          "ternary": {
           "aaxis": {
            "gridcolor": "white",
            "linecolor": "white",
            "ticks": ""
           },
           "baxis": {
            "gridcolor": "white",
            "linecolor": "white",
            "ticks": ""
           },
           "bgcolor": "#E5ECF6",
           "caxis": {
            "gridcolor": "white",
            "linecolor": "white",
            "ticks": ""
           }
          },
          "title": {
           "x": 0.05
          },
          "xaxis": {
           "automargin": true,
           "gridcolor": "white",
           "linecolor": "white",
           "ticks": "",
           "title": {
            "standoff": 15
           },
           "zerolinecolor": "white",
           "zerolinewidth": 2
          },
          "yaxis": {
           "automargin": true,
           "gridcolor": "white",
           "linecolor": "white",
           "ticks": "",
           "title": {
            "standoff": 15
           },
           "zerolinecolor": "white",
           "zerolinewidth": 2
          }
         }
        },
        "title": {
         "text": "Percentage of Passing Plays by Time Remaining in First Half"
        },
        "xaxis": {
         "anchor": "y",
         "domain": [
          0,
          1
         ],
         "title": {
          "text": "mins_in_half"
         }
        },
        "yaxis": {
         "anchor": "x",
         "domain": [
          0,
          1
         ],
         "title": {
          "text": "pass_percent"
         }
        }
       }
      }
     },
     "metadata": {},
     "output_type": "display_data"
    }
   ],
   "source": [
    "df['pass_percent'] = df.apply(lambda p: 1 if p.play_result == \"pass\" else 0, axis = 1)\n",
    "df['mins_in_half'] = df.apply(lambda p: 30 - math.ceil(p.secs_remaining / 60), axis = 1)\n",
    "\n",
    "pass_by_min = df.loc[(df.quarter < 3), ['mins_in_half', 'pass_percent'] ].groupby(['mins_in_half']).mean('pass_percent').reset_index()\n",
    "\n",
    "px.scatter(pass_by_min, x='mins_in_half', y='pass_percent', trendline='ols', title='Percentage of Passing Plays by Time Remaining in First Half')"
   ]
  },
  {
   "cell_type": "code",
   "execution_count": 10,
   "id": "5c319403",
   "metadata": {},
   "outputs": [
    {
     "data": {
      "application/vnd.plotly.v1+json": {
       "config": {
        "plotlyServerURL": "https://plot.ly"
       },
       "data": [
        {
         "hovertemplate": "mins_in_half=%{x}<br>pass_percent=%{y}<extra></extra>",
         "legendgroup": "",
         "marker": {
          "color": "#636efa",
          "symbol": "circle"
         },
         "mode": "markers",
         "name": "",
         "orientation": "v",
         "showlegend": false,
         "type": "scatter",
         "x": {
          "bdata": "Hh8gISIjJCUmJygpKissLS4vMDEyMzQ1Njc4OTo7",
          "dtype": "i1"
         },
         "xaxis": "x",
         "y": {
          "bdata": "+ResJXzN4D8FfPNq4lnhPzMwXedYI+E/g2xDQPE54z9huacRlnviP4+4I+6IO+I/9DzP8zzP4z8RyDURyDXhP7P7jbL7jeI/Am8/JPD24z/jBTIpXiDjP2gMRwsSUOM/IQtZyEIW4j/b0ZlUOzrjP5zcTe4md+M/dRruXlYJ5D/sUbgehevhPy0TRMsE0eI/yGXFQAlv5D/KZDKZTCbjP70loYa0veI/FYeMvXb54T+RLJOeEcniP0U+6wZT5OM/EI31obE+5D+jYFGwKFjkP2ZmZmZmZuI/lzHl67CE4z/S+cu0sRfiP7XGrm8mq+Q/",
          "dtype": "f8"
         },
         "yaxis": "y"
        },
        {
         "hovertemplate": "<b>OLS trendline</b><br>pass_percent = 0.00182382 * mins_in_half + 0.509474<br>R<sup>2</sup>=0.241242<br><br>mins_in_half=%{x}<br>pass_percent=%{y} <b>(trend)</b><extra></extra>",
         "legendgroup": "",
         "marker": {
          "color": "#636efa",
          "symbol": "circle"
         },
         "mode": "lines",
         "name": "",
         "showlegend": false,
         "type": "scatter",
         "x": {
          "bdata": "Hh8gISIjJCUmJygpKissLS4vMDEyMzQ1Njc4OTo7",
          "dtype": "i1"
         },
         "xaxis": "x",
         "y": {
          "bdata": "/cBdctYN4j9/CrxIxxziPwJUGh+4K+I/hJ149ag64j8H59bLmUniP4owNaKKWOI/DHqTeHtn4j+Pw/FObHbiPxENUCVdheI/lFau+02U4j8WoAzSPqPiP5npaqgvsuI/GzPJfiDB4j+efCdVEdDiPyHGhSsC3+I/ow/kAfPt4j8mWULY4/ziP6iioK7UC+M/K+z+hMUa4z+tNV1btinjPzB/uzGnOOM/ssgZCJhH4z81EnjeiFbjP7hb1rR5ZeM/OqU0i2p04z+97pJhW4PjPz848TdMkuM/woFPDj2h4z9Ey63kLbDjP8cUDLsev+M/",
          "dtype": "f8"
         },
         "yaxis": "y"
        }
       ],
       "layout": {
        "legend": {
         "tracegroupgap": 0
        },
        "template": {
         "data": {
          "bar": [
           {
            "error_x": {
             "color": "#2a3f5f"
            },
            "error_y": {
             "color": "#2a3f5f"
            },
            "marker": {
             "line": {
              "color": "#E5ECF6",
              "width": 0.5
             },
             "pattern": {
              "fillmode": "overlay",
              "size": 10,
              "solidity": 0.2
             }
            },
            "type": "bar"
           }
          ],
          "barpolar": [
           {
            "marker": {
             "line": {
              "color": "#E5ECF6",
              "width": 0.5
             },
             "pattern": {
              "fillmode": "overlay",
              "size": 10,
              "solidity": 0.2
             }
            },
            "type": "barpolar"
           }
          ],
          "carpet": [
           {
            "aaxis": {
             "endlinecolor": "#2a3f5f",
             "gridcolor": "white",
             "linecolor": "white",
             "minorgridcolor": "white",
             "startlinecolor": "#2a3f5f"
            },
            "baxis": {
             "endlinecolor": "#2a3f5f",
             "gridcolor": "white",
             "linecolor": "white",
             "minorgridcolor": "white",
             "startlinecolor": "#2a3f5f"
            },
            "type": "carpet"
           }
          ],
          "choropleth": [
           {
            "colorbar": {
             "outlinewidth": 0,
             "ticks": ""
            },
            "type": "choropleth"
           }
          ],
          "contour": [
           {
            "colorbar": {
             "outlinewidth": 0,
             "ticks": ""
            },
            "colorscale": [
             [
              0,
              "#0d0887"
             ],
             [
              0.1111111111111111,
              "#46039f"
             ],
             [
              0.2222222222222222,
              "#7201a8"
             ],
             [
              0.3333333333333333,
              "#9c179e"
             ],
             [
              0.4444444444444444,
              "#bd3786"
             ],
             [
              0.5555555555555556,
              "#d8576b"
             ],
             [
              0.6666666666666666,
              "#ed7953"
             ],
             [
              0.7777777777777778,
              "#fb9f3a"
             ],
             [
              0.8888888888888888,
              "#fdca26"
             ],
             [
              1,
              "#f0f921"
             ]
            ],
            "type": "contour"
           }
          ],
          "contourcarpet": [
           {
            "colorbar": {
             "outlinewidth": 0,
             "ticks": ""
            },
            "type": "contourcarpet"
           }
          ],
          "heatmap": [
           {
            "colorbar": {
             "outlinewidth": 0,
             "ticks": ""
            },
            "colorscale": [
             [
              0,
              "#0d0887"
             ],
             [
              0.1111111111111111,
              "#46039f"
             ],
             [
              0.2222222222222222,
              "#7201a8"
             ],
             [
              0.3333333333333333,
              "#9c179e"
             ],
             [
              0.4444444444444444,
              "#bd3786"
             ],
             [
              0.5555555555555556,
              "#d8576b"
             ],
             [
              0.6666666666666666,
              "#ed7953"
             ],
             [
              0.7777777777777778,
              "#fb9f3a"
             ],
             [
              0.8888888888888888,
              "#fdca26"
             ],
             [
              1,
              "#f0f921"
             ]
            ],
            "type": "heatmap"
           }
          ],
          "histogram": [
           {
            "marker": {
             "pattern": {
              "fillmode": "overlay",
              "size": 10,
              "solidity": 0.2
             }
            },
            "type": "histogram"
           }
          ],
          "histogram2d": [
           {
            "colorbar": {
             "outlinewidth": 0,
             "ticks": ""
            },
            "colorscale": [
             [
              0,
              "#0d0887"
             ],
             [
              0.1111111111111111,
              "#46039f"
             ],
             [
              0.2222222222222222,
              "#7201a8"
             ],
             [
              0.3333333333333333,
              "#9c179e"
             ],
             [
              0.4444444444444444,
              "#bd3786"
             ],
             [
              0.5555555555555556,
              "#d8576b"
             ],
             [
              0.6666666666666666,
              "#ed7953"
             ],
             [
              0.7777777777777778,
              "#fb9f3a"
             ],
             [
              0.8888888888888888,
              "#fdca26"
             ],
             [
              1,
              "#f0f921"
             ]
            ],
            "type": "histogram2d"
           }
          ],
          "histogram2dcontour": [
           {
            "colorbar": {
             "outlinewidth": 0,
             "ticks": ""
            },
            "colorscale": [
             [
              0,
              "#0d0887"
             ],
             [
              0.1111111111111111,
              "#46039f"
             ],
             [
              0.2222222222222222,
              "#7201a8"
             ],
             [
              0.3333333333333333,
              "#9c179e"
             ],
             [
              0.4444444444444444,
              "#bd3786"
             ],
             [
              0.5555555555555556,
              "#d8576b"
             ],
             [
              0.6666666666666666,
              "#ed7953"
             ],
             [
              0.7777777777777778,
              "#fb9f3a"
             ],
             [
              0.8888888888888888,
              "#fdca26"
             ],
             [
              1,
              "#f0f921"
             ]
            ],
            "type": "histogram2dcontour"
           }
          ],
          "mesh3d": [
           {
            "colorbar": {
             "outlinewidth": 0,
             "ticks": ""
            },
            "type": "mesh3d"
           }
          ],
          "parcoords": [
           {
            "line": {
             "colorbar": {
              "outlinewidth": 0,
              "ticks": ""
             }
            },
            "type": "parcoords"
           }
          ],
          "pie": [
           {
            "automargin": true,
            "type": "pie"
           }
          ],
          "scatter": [
           {
            "fillpattern": {
             "fillmode": "overlay",
             "size": 10,
             "solidity": 0.2
            },
            "type": "scatter"
           }
          ],
          "scatter3d": [
           {
            "line": {
             "colorbar": {
              "outlinewidth": 0,
              "ticks": ""
             }
            },
            "marker": {
             "colorbar": {
              "outlinewidth": 0,
              "ticks": ""
             }
            },
            "type": "scatter3d"
           }
          ],
          "scattercarpet": [
           {
            "marker": {
             "colorbar": {
              "outlinewidth": 0,
              "ticks": ""
             }
            },
            "type": "scattercarpet"
           }
          ],
          "scattergeo": [
           {
            "marker": {
             "colorbar": {
              "outlinewidth": 0,
              "ticks": ""
             }
            },
            "type": "scattergeo"
           }
          ],
          "scattergl": [
           {
            "marker": {
             "colorbar": {
              "outlinewidth": 0,
              "ticks": ""
             }
            },
            "type": "scattergl"
           }
          ],
          "scattermap": [
           {
            "marker": {
             "colorbar": {
              "outlinewidth": 0,
              "ticks": ""
             }
            },
            "type": "scattermap"
           }
          ],
          "scattermapbox": [
           {
            "marker": {
             "colorbar": {
              "outlinewidth": 0,
              "ticks": ""
             }
            },
            "type": "scattermapbox"
           }
          ],
          "scatterpolar": [
           {
            "marker": {
             "colorbar": {
              "outlinewidth": 0,
              "ticks": ""
             }
            },
            "type": "scatterpolar"
           }
          ],
          "scatterpolargl": [
           {
            "marker": {
             "colorbar": {
              "outlinewidth": 0,
              "ticks": ""
             }
            },
            "type": "scatterpolargl"
           }
          ],
          "scatterternary": [
           {
            "marker": {
             "colorbar": {
              "outlinewidth": 0,
              "ticks": ""
             }
            },
            "type": "scatterternary"
           }
          ],
          "surface": [
           {
            "colorbar": {
             "outlinewidth": 0,
             "ticks": ""
            },
            "colorscale": [
             [
              0,
              "#0d0887"
             ],
             [
              0.1111111111111111,
              "#46039f"
             ],
             [
              0.2222222222222222,
              "#7201a8"
             ],
             [
              0.3333333333333333,
              "#9c179e"
             ],
             [
              0.4444444444444444,
              "#bd3786"
             ],
             [
              0.5555555555555556,
              "#d8576b"
             ],
             [
              0.6666666666666666,
              "#ed7953"
             ],
             [
              0.7777777777777778,
              "#fb9f3a"
             ],
             [
              0.8888888888888888,
              "#fdca26"
             ],
             [
              1,
              "#f0f921"
             ]
            ],
            "type": "surface"
           }
          ],
          "table": [
           {
            "cells": {
             "fill": {
              "color": "#EBF0F8"
             },
             "line": {
              "color": "white"
             }
            },
            "header": {
             "fill": {
              "color": "#C8D4E3"
             },
             "line": {
              "color": "white"
             }
            },
            "type": "table"
           }
          ]
         },
         "layout": {
          "annotationdefaults": {
           "arrowcolor": "#2a3f5f",
           "arrowhead": 0,
           "arrowwidth": 1
          },
          "autotypenumbers": "strict",
          "coloraxis": {
           "colorbar": {
            "outlinewidth": 0,
            "ticks": ""
           }
          },
          "colorscale": {
           "diverging": [
            [
             0,
             "#8e0152"
            ],
            [
             0.1,
             "#c51b7d"
            ],
            [
             0.2,
             "#de77ae"
            ],
            [
             0.3,
             "#f1b6da"
            ],
            [
             0.4,
             "#fde0ef"
            ],
            [
             0.5,
             "#f7f7f7"
            ],
            [
             0.6,
             "#e6f5d0"
            ],
            [
             0.7,
             "#b8e186"
            ],
            [
             0.8,
             "#7fbc41"
            ],
            [
             0.9,
             "#4d9221"
            ],
            [
             1,
             "#276419"
            ]
           ],
           "sequential": [
            [
             0,
             "#0d0887"
            ],
            [
             0.1111111111111111,
             "#46039f"
            ],
            [
             0.2222222222222222,
             "#7201a8"
            ],
            [
             0.3333333333333333,
             "#9c179e"
            ],
            [
             0.4444444444444444,
             "#bd3786"
            ],
            [
             0.5555555555555556,
             "#d8576b"
            ],
            [
             0.6666666666666666,
             "#ed7953"
            ],
            [
             0.7777777777777778,
             "#fb9f3a"
            ],
            [
             0.8888888888888888,
             "#fdca26"
            ],
            [
             1,
             "#f0f921"
            ]
           ],
           "sequentialminus": [
            [
             0,
             "#0d0887"
            ],
            [
             0.1111111111111111,
             "#46039f"
            ],
            [
             0.2222222222222222,
             "#7201a8"
            ],
            [
             0.3333333333333333,
             "#9c179e"
            ],
            [
             0.4444444444444444,
             "#bd3786"
            ],
            [
             0.5555555555555556,
             "#d8576b"
            ],
            [
             0.6666666666666666,
             "#ed7953"
            ],
            [
             0.7777777777777778,
             "#fb9f3a"
            ],
            [
             0.8888888888888888,
             "#fdca26"
            ],
            [
             1,
             "#f0f921"
            ]
           ]
          },
          "colorway": [
           "#636efa",
           "#EF553B",
           "#00cc96",
           "#ab63fa",
           "#FFA15A",
           "#19d3f3",
           "#FF6692",
           "#B6E880",
           "#FF97FF",
           "#FECB52"
          ],
          "font": {
           "color": "#2a3f5f"
          },
          "geo": {
           "bgcolor": "white",
           "lakecolor": "white",
           "landcolor": "#E5ECF6",
           "showlakes": true,
           "showland": true,
           "subunitcolor": "white"
          },
          "hoverlabel": {
           "align": "left"
          },
          "hovermode": "closest",
          "mapbox": {
           "style": "light"
          },
          "paper_bgcolor": "white",
          "plot_bgcolor": "#E5ECF6",
          "polar": {
           "angularaxis": {
            "gridcolor": "white",
            "linecolor": "white",
            "ticks": ""
           },
           "bgcolor": "#E5ECF6",
           "radialaxis": {
            "gridcolor": "white",
            "linecolor": "white",
            "ticks": ""
           }
          },
          "scene": {
           "xaxis": {
            "backgroundcolor": "#E5ECF6",
            "gridcolor": "white",
            "gridwidth": 2,
            "linecolor": "white",
            "showbackground": true,
            "ticks": "",
            "zerolinecolor": "white"
           },
           "yaxis": {
            "backgroundcolor": "#E5ECF6",
            "gridcolor": "white",
            "gridwidth": 2,
            "linecolor": "white",
            "showbackground": true,
            "ticks": "",
            "zerolinecolor": "white"
           },
           "zaxis": {
            "backgroundcolor": "#E5ECF6",
            "gridcolor": "white",
            "gridwidth": 2,
            "linecolor": "white",
            "showbackground": true,
            "ticks": "",
            "zerolinecolor": "white"
           }
          },
          "shapedefaults": {
           "line": {
            "color": "#2a3f5f"
           }
          },
          "ternary": {
           "aaxis": {
            "gridcolor": "white",
            "linecolor": "white",
            "ticks": ""
           },
           "baxis": {
            "gridcolor": "white",
            "linecolor": "white",
            "ticks": ""
           },
           "bgcolor": "#E5ECF6",
           "caxis": {
            "gridcolor": "white",
            "linecolor": "white",
            "ticks": ""
           }
          },
          "title": {
           "x": 0.05
          },
          "xaxis": {
           "automargin": true,
           "gridcolor": "white",
           "linecolor": "white",
           "ticks": "",
           "title": {
            "standoff": 15
           },
           "zerolinecolor": "white",
           "zerolinewidth": 2
          },
          "yaxis": {
           "automargin": true,
           "gridcolor": "white",
           "linecolor": "white",
           "ticks": "",
           "title": {
            "standoff": 15
           },
           "zerolinecolor": "white",
           "zerolinewidth": 2
          }
         }
        },
        "title": {
         "text": "Percentage of Passing Plays by Time Remaining in Second Half"
        },
        "xaxis": {
         "anchor": "y",
         "domain": [
          0,
          1
         ],
         "title": {
          "text": "mins_in_half"
         }
        },
        "yaxis": {
         "anchor": "x",
         "domain": [
          0,
          1
         ],
         "title": {
          "text": "pass_percent"
         }
        }
       }
      }
     },
     "metadata": {},
     "output_type": "display_data"
    }
   ],
   "source": [
    "df['mins_in_half'] = df.apply(lambda p: 60 - math.ceil(p.secs_remaining / 60), axis = 1)\n",
    "\n",
    "pass_by_min = df.loc[(df.quarter == 3) | (df.quarter == 4), ['mins_in_half', 'pass_percent'] ].groupby(['mins_in_half']).mean('pass_percent').reset_index()\n",
    "\n",
    "px.scatter(pass_by_min, x='mins_in_half', y='pass_percent', trendline='ols', title='Percentage of Passing Plays by Time Remaining in Second Half')"
   ]
  },
  {
   "cell_type": "markdown",
   "id": "ead1e774",
   "metadata": {},
   "source": [
    "### Expectation: Teams pass more based on how much they are winning or losing"
   ]
  },
  {
   "cell_type": "code",
   "execution_count": 11,
   "id": "84be4bef",
   "metadata": {},
   "outputs": [
    {
     "data": {
      "application/vnd.plotly.v1+json": {
       "config": {
        "plotlyServerURL": "https://plot.ly"
       },
       "data": [
        {
         "hovertemplate": "score_offset=%{x}<br>pass_percent=%{y}<extra></extra>",
         "legendgroup": "",
         "marker": {
          "color": "#636efa",
          "symbol": "circle"
         },
         "mode": "markers",
         "name": "",
         "orientation": "v",
         "showlegend": false,
         "type": "scatter",
         "x": {
          "bdata": "7/Lz9PX29/j5+vv8/f7/AAECAwQFBgcKCwwO",
          "dtype": "i1"
         },
         "xaxis": "x",
         "y": {
          "bdata": "AAAAAAAA8D8zMzMzMzPjP5qZmZmZmdk/VVVVVVVV1T8AAAAAAADkP6J2JWpXouY/AAAAAAAA4D8AAAAAAADgPwOW9PKnLeQ/Hh4eHh4e3j9VVVVVVVXlP5Fp2G6WJ+E/5ewWfjUm4j+amZmZmZnpP6uqqqqqquo/GHjAdv/l4j/qTW9605vePzMzMzMzM+M/8RVf8RVf4T8/Wk1CFH/hP5qZmZmZmek/chzHcRzH4T8yBwG3PpvhPwAAAAAAAOg/AAAAAAAA6D8AAAAAAADwP5qZmZmZmek/",
          "dtype": "f8"
         },
         "yaxis": "y"
        },
        {
         "hovertemplate": "<b>OLS trendline</b><br>pass_percent = 0.00600917 * score_offset + 0.645063<br>R<sup>2</sup>=0.098768<br><br>score_offset=%{x}<br>pass_percent=%{y} <b>(trend)</b><extra></extra>",
         "legendgroup": "",
         "marker": {
          "color": "#636efa",
          "symbol": "circle"
         },
         "mode": "lines",
         "name": "",
         "showlegend": false,
         "type": "scatter",
         "x": {
          "bdata": "7/Lz9PX29/j5+vv8/f7/AAECAwQFBgcKCwwO",
          "dtype": "i1"
         },
         "xaxis": "x",
         "y": {
          "bdata": "/Woa435f4T/LCYZOLfPhPxCUVHJnJOI/VR4jlqFV4j+aqPG524biP98ywN0VuOI/JL2OAVDp4j9pR10lihrjP67RK0nES+M/81v6bP584z845siQOK7jP3xwl7Ry3+M/wfpl2KwQ5D8GhTT85kHkP0sPAyAhc+Q/kJnRQ1uk5D/VI6BnldXkPxqubovPBuU/Xzg9rwk45T+kwgvTQ2nlP+hM2vZ9muU/LdeoGrjL5T9yYXc+8vzlP0EA46mgkOY/hoqxzdrB5j/LFIDxFPPmP1UpHTmJVec/",
          "dtype": "f8"
         },
         "yaxis": "y"
        }
       ],
       "layout": {
        "legend": {
         "tracegroupgap": 0
        },
        "template": {
         "data": {
          "bar": [
           {
            "error_x": {
             "color": "#2a3f5f"
            },
            "error_y": {
             "color": "#2a3f5f"
            },
            "marker": {
             "line": {
              "color": "#E5ECF6",
              "width": 0.5
             },
             "pattern": {
              "fillmode": "overlay",
              "size": 10,
              "solidity": 0.2
             }
            },
            "type": "bar"
           }
          ],
          "barpolar": [
           {
            "marker": {
             "line": {
              "color": "#E5ECF6",
              "width": 0.5
             },
             "pattern": {
              "fillmode": "overlay",
              "size": 10,
              "solidity": 0.2
             }
            },
            "type": "barpolar"
           }
          ],
          "carpet": [
           {
            "aaxis": {
             "endlinecolor": "#2a3f5f",
             "gridcolor": "white",
             "linecolor": "white",
             "minorgridcolor": "white",
             "startlinecolor": "#2a3f5f"
            },
            "baxis": {
             "endlinecolor": "#2a3f5f",
             "gridcolor": "white",
             "linecolor": "white",
             "minorgridcolor": "white",
             "startlinecolor": "#2a3f5f"
            },
            "type": "carpet"
           }
          ],
          "choropleth": [
           {
            "colorbar": {
             "outlinewidth": 0,
             "ticks": ""
            },
            "type": "choropleth"
           }
          ],
          "contour": [
           {
            "colorbar": {
             "outlinewidth": 0,
             "ticks": ""
            },
            "colorscale": [
             [
              0,
              "#0d0887"
             ],
             [
              0.1111111111111111,
              "#46039f"
             ],
             [
              0.2222222222222222,
              "#7201a8"
             ],
             [
              0.3333333333333333,
              "#9c179e"
             ],
             [
              0.4444444444444444,
              "#bd3786"
             ],
             [
              0.5555555555555556,
              "#d8576b"
             ],
             [
              0.6666666666666666,
              "#ed7953"
             ],
             [
              0.7777777777777778,
              "#fb9f3a"
             ],
             [
              0.8888888888888888,
              "#fdca26"
             ],
             [
              1,
              "#f0f921"
             ]
            ],
            "type": "contour"
           }
          ],
          "contourcarpet": [
           {
            "colorbar": {
             "outlinewidth": 0,
             "ticks": ""
            },
            "type": "contourcarpet"
           }
          ],
          "heatmap": [
           {
            "colorbar": {
             "outlinewidth": 0,
             "ticks": ""
            },
            "colorscale": [
             [
              0,
              "#0d0887"
             ],
             [
              0.1111111111111111,
              "#46039f"
             ],
             [
              0.2222222222222222,
              "#7201a8"
             ],
             [
              0.3333333333333333,
              "#9c179e"
             ],
             [
              0.4444444444444444,
              "#bd3786"
             ],
             [
              0.5555555555555556,
              "#d8576b"
             ],
             [
              0.6666666666666666,
              "#ed7953"
             ],
             [
              0.7777777777777778,
              "#fb9f3a"
             ],
             [
              0.8888888888888888,
              "#fdca26"
             ],
             [
              1,
              "#f0f921"
             ]
            ],
            "type": "heatmap"
           }
          ],
          "histogram": [
           {
            "marker": {
             "pattern": {
              "fillmode": "overlay",
              "size": 10,
              "solidity": 0.2
             }
            },
            "type": "histogram"
           }
          ],
          "histogram2d": [
           {
            "colorbar": {
             "outlinewidth": 0,
             "ticks": ""
            },
            "colorscale": [
             [
              0,
              "#0d0887"
             ],
             [
              0.1111111111111111,
              "#46039f"
             ],
             [
              0.2222222222222222,
              "#7201a8"
             ],
             [
              0.3333333333333333,
              "#9c179e"
             ],
             [
              0.4444444444444444,
              "#bd3786"
             ],
             [
              0.5555555555555556,
              "#d8576b"
             ],
             [
              0.6666666666666666,
              "#ed7953"
             ],
             [
              0.7777777777777778,
              "#fb9f3a"
             ],
             [
              0.8888888888888888,
              "#fdca26"
             ],
             [
              1,
              "#f0f921"
             ]
            ],
            "type": "histogram2d"
           }
          ],
          "histogram2dcontour": [
           {
            "colorbar": {
             "outlinewidth": 0,
             "ticks": ""
            },
            "colorscale": [
             [
              0,
              "#0d0887"
             ],
             [
              0.1111111111111111,
              "#46039f"
             ],
             [
              0.2222222222222222,
              "#7201a8"
             ],
             [
              0.3333333333333333,
              "#9c179e"
             ],
             [
              0.4444444444444444,
              "#bd3786"
             ],
             [
              0.5555555555555556,
              "#d8576b"
             ],
             [
              0.6666666666666666,
              "#ed7953"
             ],
             [
              0.7777777777777778,
              "#fb9f3a"
             ],
             [
              0.8888888888888888,
              "#fdca26"
             ],
             [
              1,
              "#f0f921"
             ]
            ],
            "type": "histogram2dcontour"
           }
          ],
          "mesh3d": [
           {
            "colorbar": {
             "outlinewidth": 0,
             "ticks": ""
            },
            "type": "mesh3d"
           }
          ],
          "parcoords": [
           {
            "line": {
             "colorbar": {
              "outlinewidth": 0,
              "ticks": ""
             }
            },
            "type": "parcoords"
           }
          ],
          "pie": [
           {
            "automargin": true,
            "type": "pie"
           }
          ],
          "scatter": [
           {
            "fillpattern": {
             "fillmode": "overlay",
             "size": 10,
             "solidity": 0.2
            },
            "type": "scatter"
           }
          ],
          "scatter3d": [
           {
            "line": {
             "colorbar": {
              "outlinewidth": 0,
              "ticks": ""
             }
            },
            "marker": {
             "colorbar": {
              "outlinewidth": 0,
              "ticks": ""
             }
            },
            "type": "scatter3d"
           }
          ],
          "scattercarpet": [
           {
            "marker": {
             "colorbar": {
              "outlinewidth": 0,
              "ticks": ""
             }
            },
            "type": "scattercarpet"
           }
          ],
          "scattergeo": [
           {
            "marker": {
             "colorbar": {
              "outlinewidth": 0,
              "ticks": ""
             }
            },
            "type": "scattergeo"
           }
          ],
          "scattergl": [
           {
            "marker": {
             "colorbar": {
              "outlinewidth": 0,
              "ticks": ""
             }
            },
            "type": "scattergl"
           }
          ],
          "scattermap": [
           {
            "marker": {
             "colorbar": {
              "outlinewidth": 0,
              "ticks": ""
             }
            },
            "type": "scattermap"
           }
          ],
          "scattermapbox": [
           {
            "marker": {
             "colorbar": {
              "outlinewidth": 0,
              "ticks": ""
             }
            },
            "type": "scattermapbox"
           }
          ],
          "scatterpolar": [
           {
            "marker": {
             "colorbar": {
              "outlinewidth": 0,
              "ticks": ""
             }
            },
            "type": "scatterpolar"
           }
          ],
          "scatterpolargl": [
           {
            "marker": {
             "colorbar": {
              "outlinewidth": 0,
              "ticks": ""
             }
            },
            "type": "scatterpolargl"
           }
          ],
          "scatterternary": [
           {
            "marker": {
             "colorbar": {
              "outlinewidth": 0,
              "ticks": ""
             }
            },
            "type": "scatterternary"
           }
          ],
          "surface": [
           {
            "colorbar": {
             "outlinewidth": 0,
             "ticks": ""
            },
            "colorscale": [
             [
              0,
              "#0d0887"
             ],
             [
              0.1111111111111111,
              "#46039f"
             ],
             [
              0.2222222222222222,
              "#7201a8"
             ],
             [
              0.3333333333333333,
              "#9c179e"
             ],
             [
              0.4444444444444444,
              "#bd3786"
             ],
             [
              0.5555555555555556,
              "#d8576b"
             ],
             [
              0.6666666666666666,
              "#ed7953"
             ],
             [
              0.7777777777777778,
              "#fb9f3a"
             ],
             [
              0.8888888888888888,
              "#fdca26"
             ],
             [
              1,
              "#f0f921"
             ]
            ],
            "type": "surface"
           }
          ],
          "table": [
           {
            "cells": {
             "fill": {
              "color": "#EBF0F8"
             },
             "line": {
              "color": "white"
             }
            },
            "header": {
             "fill": {
              "color": "#C8D4E3"
             },
             "line": {
              "color": "white"
             }
            },
            "type": "table"
           }
          ]
         },
         "layout": {
          "annotationdefaults": {
           "arrowcolor": "#2a3f5f",
           "arrowhead": 0,
           "arrowwidth": 1
          },
          "autotypenumbers": "strict",
          "coloraxis": {
           "colorbar": {
            "outlinewidth": 0,
            "ticks": ""
           }
          },
          "colorscale": {
           "diverging": [
            [
             0,
             "#8e0152"
            ],
            [
             0.1,
             "#c51b7d"
            ],
            [
             0.2,
             "#de77ae"
            ],
            [
             0.3,
             "#f1b6da"
            ],
            [
             0.4,
             "#fde0ef"
            ],
            [
             0.5,
             "#f7f7f7"
            ],
            [
             0.6,
             "#e6f5d0"
            ],
            [
             0.7,
             "#b8e186"
            ],
            [
             0.8,
             "#7fbc41"
            ],
            [
             0.9,
             "#4d9221"
            ],
            [
             1,
             "#276419"
            ]
           ],
           "sequential": [
            [
             0,
             "#0d0887"
            ],
            [
             0.1111111111111111,
             "#46039f"
            ],
            [
             0.2222222222222222,
             "#7201a8"
            ],
            [
             0.3333333333333333,
             "#9c179e"
            ],
            [
             0.4444444444444444,
             "#bd3786"
            ],
            [
             0.5555555555555556,
             "#d8576b"
            ],
            [
             0.6666666666666666,
             "#ed7953"
            ],
            [
             0.7777777777777778,
             "#fb9f3a"
            ],
            [
             0.8888888888888888,
             "#fdca26"
            ],
            [
             1,
             "#f0f921"
            ]
           ],
           "sequentialminus": [
            [
             0,
             "#0d0887"
            ],
            [
             0.1111111111111111,
             "#46039f"
            ],
            [
             0.2222222222222222,
             "#7201a8"
            ],
            [
             0.3333333333333333,
             "#9c179e"
            ],
            [
             0.4444444444444444,
             "#bd3786"
            ],
            [
             0.5555555555555556,
             "#d8576b"
            ],
            [
             0.6666666666666666,
             "#ed7953"
            ],
            [
             0.7777777777777778,
             "#fb9f3a"
            ],
            [
             0.8888888888888888,
             "#fdca26"
            ],
            [
             1,
             "#f0f921"
            ]
           ]
          },
          "colorway": [
           "#636efa",
           "#EF553B",
           "#00cc96",
           "#ab63fa",
           "#FFA15A",
           "#19d3f3",
           "#FF6692",
           "#B6E880",
           "#FF97FF",
           "#FECB52"
          ],
          "font": {
           "color": "#2a3f5f"
          },
          "geo": {
           "bgcolor": "white",
           "lakecolor": "white",
           "landcolor": "#E5ECF6",
           "showlakes": true,
           "showland": true,
           "subunitcolor": "white"
          },
          "hoverlabel": {
           "align": "left"
          },
          "hovermode": "closest",
          "mapbox": {
           "style": "light"
          },
          "paper_bgcolor": "white",
          "plot_bgcolor": "#E5ECF6",
          "polar": {
           "angularaxis": {
            "gridcolor": "white",
            "linecolor": "white",
            "ticks": ""
           },
           "bgcolor": "#E5ECF6",
           "radialaxis": {
            "gridcolor": "white",
            "linecolor": "white",
            "ticks": ""
           }
          },
          "scene": {
           "xaxis": {
            "backgroundcolor": "#E5ECF6",
            "gridcolor": "white",
            "gridwidth": 2,
            "linecolor": "white",
            "showbackground": true,
            "ticks": "",
            "zerolinecolor": "white"
           },
           "yaxis": {
            "backgroundcolor": "#E5ECF6",
            "gridcolor": "white",
            "gridwidth": 2,
            "linecolor": "white",
            "showbackground": true,
            "ticks": "",
            "zerolinecolor": "white"
           },
           "zaxis": {
            "backgroundcolor": "#E5ECF6",
            "gridcolor": "white",
            "gridwidth": 2,
            "linecolor": "white",
            "showbackground": true,
            "ticks": "",
            "zerolinecolor": "white"
           }
          },
          "shapedefaults": {
           "line": {
            "color": "#2a3f5f"
           }
          },
          "ternary": {
           "aaxis": {
            "gridcolor": "white",
            "linecolor": "white",
            "ticks": ""
           },
           "baxis": {
            "gridcolor": "white",
            "linecolor": "white",
            "ticks": ""
           },
           "bgcolor": "#E5ECF6",
           "caxis": {
            "gridcolor": "white",
            "linecolor": "white",
            "ticks": ""
           }
          },
          "title": {
           "x": 0.05
          },
          "xaxis": {
           "automargin": true,
           "gridcolor": "white",
           "linecolor": "white",
           "ticks": "",
           "title": {
            "standoff": 15
           },
           "zerolinecolor": "white",
           "zerolinewidth": 2
          },
          "yaxis": {
           "automargin": true,
           "gridcolor": "white",
           "linecolor": "white",
           "ticks": "",
           "title": {
            "standoff": 15
           },
           "zerolinecolor": "white",
           "zerolinewidth": 2
          }
         }
        },
        "title": {
         "text": "Odds of pass versus the score in the First Quarter"
        },
        "xaxis": {
         "anchor": "y",
         "domain": [
          0,
          1
         ],
         "title": {
          "text": "score_offset"
         }
        },
        "yaxis": {
         "anchor": "x",
         "domain": [
          0,
          1
         ],
         "title": {
          "text": "pass_percent"
         }
        }
       }
      }
     },
     "metadata": {},
     "output_type": "display_data"
    }
   ],
   "source": [
    "score_and_result = df.loc[df.quarter_1 == True, ['quarter', 'score_offset', 'pass_percent'] ].groupby(['quarter', 'score_offset']).mean('pass_percent').reset_index()\n",
    "score_and_result\n",
    "\n",
    "px.scatter(score_and_result, x='score_offset', y='pass_percent', trendline='ols', title='Odds of pass versus the score in the First Quarter')"
   ]
  },
  {
   "cell_type": "code",
   "execution_count": 12,
   "id": "1bc81420",
   "metadata": {},
   "outputs": [
    {
     "data": {
      "application/vnd.plotly.v1+json": {
       "config": {
        "plotlyServerURL": "https://plot.ly"
       },
       "data": [
        {
         "hovertemplate": "score_offset=%{x}<br>pass_percent=%{y}<extra></extra>",
         "legendgroup": "",
         "marker": {
          "color": "#636efa",
          "symbol": "circle"
         },
         "mode": "markers",
         "name": "",
         "orientation": "v",
         "showlegend": false,
         "type": "scatter",
         "x": {
          "bdata": "5Orr7O7v8fLz9PX29/j5+vv8/f7/AAECAwQFBgcICQoLDA0ODxESFRYc",
          "dtype": "i1"
         },
         "xaxis": "x",
         "y": {
          "bdata": "AAAAAAAA7D8XXXTRRRftP73pTW9609s/AAAAAAAA7D/XWmuttdbqP+ZbvuVbvuU/MzMzMzMz4z/Xo3A9CtfjP7qaq7maq+k/DeU1lNdQ3j+VNWVNWVPmP7lQcxKIC+U/F1100UUX3T/4KS4ZgnXkPyUyDdvN8uQ/s/uNsvuN4j+amZmZmZnpP1SPZ9eMvuI/J3ZiJ3Zi5D/NzMzMzMzkPxl4ujU/LOI/mOrnhDW84z8HaZAGaZDmP1VVVVVVVeU/UAd1UAd15D9dUvkw7tflP7dt27Zt29Y/VVVVVVVV5T83talNbWrjPxiGYRiGYeg/AAAAAAAAAABUL+ZTL+bjP7Hc0wjLPeU/VVVVVVVV1T+UPumTPunjP4qd2Imd2OU/chzHcRzH4T+uR+F6FK7nPzMzMzMzM+M/dmIndmIn5j+rqqqqqqrqP0YXXXTRRec/",
          "dtype": "f8"
         },
         "yaxis": "y"
        },
        {
         "hovertemplate": "<b>OLS trendline</b><br>pass_percent = -0.00233089 * score_offset + 0.637165<br>R<sup>2</sup>=0.037988<br><br>score_offset=%{x}<br>pass_percent=%{y} <b>(trend)</b><extra></extra>",
         "legendgroup": "",
         "marker": {
          "color": "#636efa",
          "symbol": "circle"
         },
         "mode": "lines",
         "name": "",
         "showlegend": false,
         "type": "scatter",
         "x": {
          "bdata": "5Orr7O7v8fLz9PX29/j5+vv8/f7/AAECAwQFBgcICQoLDA0ODxESFRYc",
          "dtype": "i1"
         },
         "xaxis": "x",
         "y": {
          "bdata": "BWFp3U565j9zVtFwvQfmP7BUDTSl9OU/7VJJ94zh5T9nT8F9XLvlP6NN/UBEqOU/HUp1xxOC5T9aSLGK+27lP5dG7U3jW+U/1EQpEctI5T8RQ2XUsjXlP05BoZeaIuU/iz/dWoIP5T/IPRkeavzkPwU8VeFR6eQ/QjqRpDnW5D9+OM1nIcPkP7s2CSsJsOQ/+DRF7vCc5D81M4Gx2InkP3IxvXTAduQ/ry/5N6hj5D/sLTX7j1DkPykscb53PeQ/ZiqtgV8q5D+jKOlERxfkP+AmJQgvBOQ/HCVhyxbx4z9ZI52O/t3jP5Yh2VHmyuM/0x8VFc634z8QHlHYtaTjP00cjZudkeM/ihrJXoV+4z/HGAUibWvjPwQXQeVUWOM/QRV9qDxF4z+7EfUuDB/jP/cPMfLzC+M/rgrlO6vS4j/rCCH/kr/iP1n+iJIBTeI/",
          "dtype": "f8"
         },
         "yaxis": "y"
        }
       ],
       "layout": {
        "legend": {
         "tracegroupgap": 0
        },
        "template": {
         "data": {
          "bar": [
           {
            "error_x": {
             "color": "#2a3f5f"
            },
            "error_y": {
             "color": "#2a3f5f"
            },
            "marker": {
             "line": {
              "color": "#E5ECF6",
              "width": 0.5
             },
             "pattern": {
              "fillmode": "overlay",
              "size": 10,
              "solidity": 0.2
             }
            },
            "type": "bar"
           }
          ],
          "barpolar": [
           {
            "marker": {
             "line": {
              "color": "#E5ECF6",
              "width": 0.5
             },
             "pattern": {
              "fillmode": "overlay",
              "size": 10,
              "solidity": 0.2
             }
            },
            "type": "barpolar"
           }
          ],
          "carpet": [
           {
            "aaxis": {
             "endlinecolor": "#2a3f5f",
             "gridcolor": "white",
             "linecolor": "white",
             "minorgridcolor": "white",
             "startlinecolor": "#2a3f5f"
            },
            "baxis": {
             "endlinecolor": "#2a3f5f",
             "gridcolor": "white",
             "linecolor": "white",
             "minorgridcolor": "white",
             "startlinecolor": "#2a3f5f"
            },
            "type": "carpet"
           }
          ],
          "choropleth": [
           {
            "colorbar": {
             "outlinewidth": 0,
             "ticks": ""
            },
            "type": "choropleth"
           }
          ],
          "contour": [
           {
            "colorbar": {
             "outlinewidth": 0,
             "ticks": ""
            },
            "colorscale": [
             [
              0,
              "#0d0887"
             ],
             [
              0.1111111111111111,
              "#46039f"
             ],
             [
              0.2222222222222222,
              "#7201a8"
             ],
             [
              0.3333333333333333,
              "#9c179e"
             ],
             [
              0.4444444444444444,
              "#bd3786"
             ],
             [
              0.5555555555555556,
              "#d8576b"
             ],
             [
              0.6666666666666666,
              "#ed7953"
             ],
             [
              0.7777777777777778,
              "#fb9f3a"
             ],
             [
              0.8888888888888888,
              "#fdca26"
             ],
             [
              1,
              "#f0f921"
             ]
            ],
            "type": "contour"
           }
          ],
          "contourcarpet": [
           {
            "colorbar": {
             "outlinewidth": 0,
             "ticks": ""
            },
            "type": "contourcarpet"
           }
          ],
          "heatmap": [
           {
            "colorbar": {
             "outlinewidth": 0,
             "ticks": ""
            },
            "colorscale": [
             [
              0,
              "#0d0887"
             ],
             [
              0.1111111111111111,
              "#46039f"
             ],
             [
              0.2222222222222222,
              "#7201a8"
             ],
             [
              0.3333333333333333,
              "#9c179e"
             ],
             [
              0.4444444444444444,
              "#bd3786"
             ],
             [
              0.5555555555555556,
              "#d8576b"
             ],
             [
              0.6666666666666666,
              "#ed7953"
             ],
             [
              0.7777777777777778,
              "#fb9f3a"
             ],
             [
              0.8888888888888888,
              "#fdca26"
             ],
             [
              1,
              "#f0f921"
             ]
            ],
            "type": "heatmap"
           }
          ],
          "histogram": [
           {
            "marker": {
             "pattern": {
              "fillmode": "overlay",
              "size": 10,
              "solidity": 0.2
             }
            },
            "type": "histogram"
           }
          ],
          "histogram2d": [
           {
            "colorbar": {
             "outlinewidth": 0,
             "ticks": ""
            },
            "colorscale": [
             [
              0,
              "#0d0887"
             ],
             [
              0.1111111111111111,
              "#46039f"
             ],
             [
              0.2222222222222222,
              "#7201a8"
             ],
             [
              0.3333333333333333,
              "#9c179e"
             ],
             [
              0.4444444444444444,
              "#bd3786"
             ],
             [
              0.5555555555555556,
              "#d8576b"
             ],
             [
              0.6666666666666666,
              "#ed7953"
             ],
             [
              0.7777777777777778,
              "#fb9f3a"
             ],
             [
              0.8888888888888888,
              "#fdca26"
             ],
             [
              1,
              "#f0f921"
             ]
            ],
            "type": "histogram2d"
           }
          ],
          "histogram2dcontour": [
           {
            "colorbar": {
             "outlinewidth": 0,
             "ticks": ""
            },
            "colorscale": [
             [
              0,
              "#0d0887"
             ],
             [
              0.1111111111111111,
              "#46039f"
             ],
             [
              0.2222222222222222,
              "#7201a8"
             ],
             [
              0.3333333333333333,
              "#9c179e"
             ],
             [
              0.4444444444444444,
              "#bd3786"
             ],
             [
              0.5555555555555556,
              "#d8576b"
             ],
             [
              0.6666666666666666,
              "#ed7953"
             ],
             [
              0.7777777777777778,
              "#fb9f3a"
             ],
             [
              0.8888888888888888,
              "#fdca26"
             ],
             [
              1,
              "#f0f921"
             ]
            ],
            "type": "histogram2dcontour"
           }
          ],
          "mesh3d": [
           {
            "colorbar": {
             "outlinewidth": 0,
             "ticks": ""
            },
            "type": "mesh3d"
           }
          ],
          "parcoords": [
           {
            "line": {
             "colorbar": {
              "outlinewidth": 0,
              "ticks": ""
             }
            },
            "type": "parcoords"
           }
          ],
          "pie": [
           {
            "automargin": true,
            "type": "pie"
           }
          ],
          "scatter": [
           {
            "fillpattern": {
             "fillmode": "overlay",
             "size": 10,
             "solidity": 0.2
            },
            "type": "scatter"
           }
          ],
          "scatter3d": [
           {
            "line": {
             "colorbar": {
              "outlinewidth": 0,
              "ticks": ""
             }
            },
            "marker": {
             "colorbar": {
              "outlinewidth": 0,
              "ticks": ""
             }
            },
            "type": "scatter3d"
           }
          ],
          "scattercarpet": [
           {
            "marker": {
             "colorbar": {
              "outlinewidth": 0,
              "ticks": ""
             }
            },
            "type": "scattercarpet"
           }
          ],
          "scattergeo": [
           {
            "marker": {
             "colorbar": {
              "outlinewidth": 0,
              "ticks": ""
             }
            },
            "type": "scattergeo"
           }
          ],
          "scattergl": [
           {
            "marker": {
             "colorbar": {
              "outlinewidth": 0,
              "ticks": ""
             }
            },
            "type": "scattergl"
           }
          ],
          "scattermap": [
           {
            "marker": {
             "colorbar": {
              "outlinewidth": 0,
              "ticks": ""
             }
            },
            "type": "scattermap"
           }
          ],
          "scattermapbox": [
           {
            "marker": {
             "colorbar": {
              "outlinewidth": 0,
              "ticks": ""
             }
            },
            "type": "scattermapbox"
           }
          ],
          "scatterpolar": [
           {
            "marker": {
             "colorbar": {
              "outlinewidth": 0,
              "ticks": ""
             }
            },
            "type": "scatterpolar"
           }
          ],
          "scatterpolargl": [
           {
            "marker": {
             "colorbar": {
              "outlinewidth": 0,
              "ticks": ""
             }
            },
            "type": "scatterpolargl"
           }
          ],
          "scatterternary": [
           {
            "marker": {
             "colorbar": {
              "outlinewidth": 0,
              "ticks": ""
             }
            },
            "type": "scatterternary"
           }
          ],
          "surface": [
           {
            "colorbar": {
             "outlinewidth": 0,
             "ticks": ""
            },
            "colorscale": [
             [
              0,
              "#0d0887"
             ],
             [
              0.1111111111111111,
              "#46039f"
             ],
             [
              0.2222222222222222,
              "#7201a8"
             ],
             [
              0.3333333333333333,
              "#9c179e"
             ],
             [
              0.4444444444444444,
              "#bd3786"
             ],
             [
              0.5555555555555556,
              "#d8576b"
             ],
             [
              0.6666666666666666,
              "#ed7953"
             ],
             [
              0.7777777777777778,
              "#fb9f3a"
             ],
             [
              0.8888888888888888,
              "#fdca26"
             ],
             [
              1,
              "#f0f921"
             ]
            ],
            "type": "surface"
           }
          ],
          "table": [
           {
            "cells": {
             "fill": {
              "color": "#EBF0F8"
             },
             "line": {
              "color": "white"
             }
            },
            "header": {
             "fill": {
              "color": "#C8D4E3"
             },
             "line": {
              "color": "white"
             }
            },
            "type": "table"
           }
          ]
         },
         "layout": {
          "annotationdefaults": {
           "arrowcolor": "#2a3f5f",
           "arrowhead": 0,
           "arrowwidth": 1
          },
          "autotypenumbers": "strict",
          "coloraxis": {
           "colorbar": {
            "outlinewidth": 0,
            "ticks": ""
           }
          },
          "colorscale": {
           "diverging": [
            [
             0,
             "#8e0152"
            ],
            [
             0.1,
             "#c51b7d"
            ],
            [
             0.2,
             "#de77ae"
            ],
            [
             0.3,
             "#f1b6da"
            ],
            [
             0.4,
             "#fde0ef"
            ],
            [
             0.5,
             "#f7f7f7"
            ],
            [
             0.6,
             "#e6f5d0"
            ],
            [
             0.7,
             "#b8e186"
            ],
            [
             0.8,
             "#7fbc41"
            ],
            [
             0.9,
             "#4d9221"
            ],
            [
             1,
             "#276419"
            ]
           ],
           "sequential": [
            [
             0,
             "#0d0887"
            ],
            [
             0.1111111111111111,
             "#46039f"
            ],
            [
             0.2222222222222222,
             "#7201a8"
            ],
            [
             0.3333333333333333,
             "#9c179e"
            ],
            [
             0.4444444444444444,
             "#bd3786"
            ],
            [
             0.5555555555555556,
             "#d8576b"
            ],
            [
             0.6666666666666666,
             "#ed7953"
            ],
            [
             0.7777777777777778,
             "#fb9f3a"
            ],
            [
             0.8888888888888888,
             "#fdca26"
            ],
            [
             1,
             "#f0f921"
            ]
           ],
           "sequentialminus": [
            [
             0,
             "#0d0887"
            ],
            [
             0.1111111111111111,
             "#46039f"
            ],
            [
             0.2222222222222222,
             "#7201a8"
            ],
            [
             0.3333333333333333,
             "#9c179e"
            ],
            [
             0.4444444444444444,
             "#bd3786"
            ],
            [
             0.5555555555555556,
             "#d8576b"
            ],
            [
             0.6666666666666666,
             "#ed7953"
            ],
            [
             0.7777777777777778,
             "#fb9f3a"
            ],
            [
             0.8888888888888888,
             "#fdca26"
            ],
            [
             1,
             "#f0f921"
            ]
           ]
          },
          "colorway": [
           "#636efa",
           "#EF553B",
           "#00cc96",
           "#ab63fa",
           "#FFA15A",
           "#19d3f3",
           "#FF6692",
           "#B6E880",
           "#FF97FF",
           "#FECB52"
          ],
          "font": {
           "color": "#2a3f5f"
          },
          "geo": {
           "bgcolor": "white",
           "lakecolor": "white",
           "landcolor": "#E5ECF6",
           "showlakes": true,
           "showland": true,
           "subunitcolor": "white"
          },
          "hoverlabel": {
           "align": "left"
          },
          "hovermode": "closest",
          "mapbox": {
           "style": "light"
          },
          "paper_bgcolor": "white",
          "plot_bgcolor": "#E5ECF6",
          "polar": {
           "angularaxis": {
            "gridcolor": "white",
            "linecolor": "white",
            "ticks": ""
           },
           "bgcolor": "#E5ECF6",
           "radialaxis": {
            "gridcolor": "white",
            "linecolor": "white",
            "ticks": ""
           }
          },
          "scene": {
           "xaxis": {
            "backgroundcolor": "#E5ECF6",
            "gridcolor": "white",
            "gridwidth": 2,
            "linecolor": "white",
            "showbackground": true,
            "ticks": "",
            "zerolinecolor": "white"
           },
           "yaxis": {
            "backgroundcolor": "#E5ECF6",
            "gridcolor": "white",
            "gridwidth": 2,
            "linecolor": "white",
            "showbackground": true,
            "ticks": "",
            "zerolinecolor": "white"
           },
           "zaxis": {
            "backgroundcolor": "#E5ECF6",
            "gridcolor": "white",
            "gridwidth": 2,
            "linecolor": "white",
            "showbackground": true,
            "ticks": "",
            "zerolinecolor": "white"
           }
          },
          "shapedefaults": {
           "line": {
            "color": "#2a3f5f"
           }
          },
          "ternary": {
           "aaxis": {
            "gridcolor": "white",
            "linecolor": "white",
            "ticks": ""
           },
           "baxis": {
            "gridcolor": "white",
            "linecolor": "white",
            "ticks": ""
           },
           "bgcolor": "#E5ECF6",
           "caxis": {
            "gridcolor": "white",
            "linecolor": "white",
            "ticks": ""
           }
          },
          "title": {
           "x": 0.05
          },
          "xaxis": {
           "automargin": true,
           "gridcolor": "white",
           "linecolor": "white",
           "ticks": "",
           "title": {
            "standoff": 15
           },
           "zerolinecolor": "white",
           "zerolinewidth": 2
          },
          "yaxis": {
           "automargin": true,
           "gridcolor": "white",
           "linecolor": "white",
           "ticks": "",
           "title": {
            "standoff": 15
           },
           "zerolinecolor": "white",
           "zerolinewidth": 2
          }
         }
        },
        "title": {
         "text": "Odds of pass versus the score in the Second Quarter"
        },
        "xaxis": {
         "anchor": "y",
         "domain": [
          0,
          1
         ],
         "title": {
          "text": "score_offset"
         }
        },
        "yaxis": {
         "anchor": "x",
         "domain": [
          0,
          1
         ],
         "title": {
          "text": "pass_percent"
         }
        }
       }
      }
     },
     "metadata": {},
     "output_type": "display_data"
    }
   ],
   "source": [
    "df['pass_percent'] = df.apply(lambda p: 1 if p.play_result == \"pass\" else 0, axis = 1)\n",
    "score_and_result = df.loc[df.quarter_2 == True, ['quarter', 'score_offset', 'pass_percent'] ].groupby(['quarter', 'score_offset']).mean('pass_percent').reset_index()\n",
    "score_and_result\n",
    "\n",
    "px.scatter(score_and_result, x='score_offset', y='pass_percent', trendline='ols', title='Odds of pass versus the score in the Second Quarter')"
   ]
  },
  {
   "cell_type": "code",
   "execution_count": 13,
   "id": "39bd82b6",
   "metadata": {},
   "outputs": [
    {
     "data": {
      "application/vnd.plotly.v1+json": {
       "config": {
        "plotlyServerURL": "https://plot.ly"
       },
       "data": [
        {
         "hovertemplate": "score_offset=%{x}<br>pass_percent=%{y}<extra></extra>",
         "legendgroup": "",
         "marker": {
          "color": "#636efa",
          "symbol": "circle"
         },
         "mode": "markers",
         "name": "",
         "orientation": "v",
         "showlegend": false,
         "type": "scatter",
         "x": {
          "bdata": "3d7i5OXm5+jp6uvs7e7v8PHy8/T19vf4+fr7/P3+/wABAgMEBQYHCAkKCwwNDg8QERITFBUXGBkcIiM=",
          "dtype": "i1"
         },
         "xaxis": "x",
         "y": {
          "bdata": "RhdddNFF5z+amZmZmZnZPwAAAAAAAOg/27Zt27Zt6z8AAAAAAADwPwAAAAAAAPA/t23btm3b5j/GGGOMMcboPwAAAAAAAOA/mpmZmZmZ6T9VVVVVVVXlP+Q4juM4juM/AAAAAAAA3D9eTsHLKXjpP0EYaccKhOE/XXTRRRdd5D9eQ3kN5TXkP5jQXkJ7CeU/KV4gk+IF4j8vuuiiiy7qP5TINGw3y+M/ntiJndiJ4T/4KS4ZgnXkPyAqHdkzEOU/e8fUwN4x5T+MGDFixIjhPxEREREREeE/AjeWQakw4T+rJYv3tlriPx4eHh4eHt4/Uyu1Uiu14j8SHuERHuHhPxCLlIGnW+M/AAAAAAAA3j9aWlpaWlriP9PS0tLS0uI/+N5777333j9VVVVVVVXfPywVsVTEUuE/IQtZyEIW4j/43nvvvffeP4PzMTgfg+M/IxVzqzNS4T8AAAAAAADkP8dxHMdxHN8/6aKLLrro4j8RERERERHhPwAAAAAAAOI/S0tLS0tL4z+D8zE4H4PjPwAAAAAAAOQ/nud5nud53j9VVVVVVVXlP7dt27Zt2+Y/AAAAAAAA4D8AAAAAAADgP5IkSZIkSeI/AAAAAAAAAABVVVVVVVXVPw==",
          "dtype": "f8"
         },
         "yaxis": "y"
        },
        {
         "hovertemplate": "<b>OLS trendline</b><br>pass_percent = -0.00446817 * score_offset + 0.588126<br>R<sup>2</sup>=0.292719<br><br>score_offset=%{x}<br>pass_percent=%{y} <b>(trend)</b><extra></extra>",
         "legendgroup": "",
         "marker": {
          "color": "#636efa",
          "symbol": "circle"
         },
         "mode": "lines",
         "name": "",
         "showlegend": false,
         "type": "scatter",
         "x": {
          "bdata": "3d7i5OXm5+jp6uvs7e7v8PHy8/T19vf4+fr7/P3+/wABAgMEBQYHCAkKCwwNDg8QERITFBUXGBkcIiM=",
          "dtype": "i1"
         },
         "xaxis": "x",
         "y": {
          "bdata": "JTFe4QnT5z+MdYF0b67nPyiHDsEFHOc/9g9V59DS5j9eVHh6Nq7mP8WYmw2cieY/LN2+oAFl5j+TIeIzZ0DmP/plBcfMG+Y/YaooWjL35T/I7kvtl9LlPy8zb4D9reU/lneSE2OJ5T/9u7WmyGTlP2QA2TkuQOU/y0T8zJMb5T8yiR9g+fbkP5nNQvNe0uQ/ABJmhsSt5D9nVokZKonkP86arKyPZOQ/Nd/PP/U/5D+dI/PSWhvkPwRoFmbA9uM/a6w5+SXS4z/S8FyMi63jPzk1gB/xiOM/oHmjslZk4z8HvsZFvD/jP24C6tghG+M/1UYNbIf24j88izD/7NHiP6PPU5JSreI/ChR3JbiI4j9xWJq4HWTiP9icvUuDP+I/P+Hg3uga4j+mJQRyTvbhPw1qJwW00eE/dK5KmBmt4T/b8m0rf4jhP0M3kb7kY+E/qnu0UUo/4T8RwNfkrxrhP3gE+3cV9uA/30geC3vR4D9GjUGe4KzgP63RZDFGiOA/FBaIxKtj4D97WqtXET/gP+Kezup2GuA/ksbj+7jr3z9gTyoihKLfP/1gt24aEN8/y+n9lOXG3j+ZckS7sH3ePwMNGC4Sot0/2EG/E9Xq2z+mygU6oKHbPw==",
          "dtype": "f8"
         },
         "yaxis": "y"
        }
       ],
       "layout": {
        "legend": {
         "tracegroupgap": 0
        },
        "template": {
         "data": {
          "bar": [
           {
            "error_x": {
             "color": "#2a3f5f"
            },
            "error_y": {
             "color": "#2a3f5f"
            },
            "marker": {
             "line": {
              "color": "#E5ECF6",
              "width": 0.5
             },
             "pattern": {
              "fillmode": "overlay",
              "size": 10,
              "solidity": 0.2
             }
            },
            "type": "bar"
           }
          ],
          "barpolar": [
           {
            "marker": {
             "line": {
              "color": "#E5ECF6",
              "width": 0.5
             },
             "pattern": {
              "fillmode": "overlay",
              "size": 10,
              "solidity": 0.2
             }
            },
            "type": "barpolar"
           }
          ],
          "carpet": [
           {
            "aaxis": {
             "endlinecolor": "#2a3f5f",
             "gridcolor": "white",
             "linecolor": "white",
             "minorgridcolor": "white",
             "startlinecolor": "#2a3f5f"
            },
            "baxis": {
             "endlinecolor": "#2a3f5f",
             "gridcolor": "white",
             "linecolor": "white",
             "minorgridcolor": "white",
             "startlinecolor": "#2a3f5f"
            },
            "type": "carpet"
           }
          ],
          "choropleth": [
           {
            "colorbar": {
             "outlinewidth": 0,
             "ticks": ""
            },
            "type": "choropleth"
           }
          ],
          "contour": [
           {
            "colorbar": {
             "outlinewidth": 0,
             "ticks": ""
            },
            "colorscale": [
             [
              0,
              "#0d0887"
             ],
             [
              0.1111111111111111,
              "#46039f"
             ],
             [
              0.2222222222222222,
              "#7201a8"
             ],
             [
              0.3333333333333333,
              "#9c179e"
             ],
             [
              0.4444444444444444,
              "#bd3786"
             ],
             [
              0.5555555555555556,
              "#d8576b"
             ],
             [
              0.6666666666666666,
              "#ed7953"
             ],
             [
              0.7777777777777778,
              "#fb9f3a"
             ],
             [
              0.8888888888888888,
              "#fdca26"
             ],
             [
              1,
              "#f0f921"
             ]
            ],
            "type": "contour"
           }
          ],
          "contourcarpet": [
           {
            "colorbar": {
             "outlinewidth": 0,
             "ticks": ""
            },
            "type": "contourcarpet"
           }
          ],
          "heatmap": [
           {
            "colorbar": {
             "outlinewidth": 0,
             "ticks": ""
            },
            "colorscale": [
             [
              0,
              "#0d0887"
             ],
             [
              0.1111111111111111,
              "#46039f"
             ],
             [
              0.2222222222222222,
              "#7201a8"
             ],
             [
              0.3333333333333333,
              "#9c179e"
             ],
             [
              0.4444444444444444,
              "#bd3786"
             ],
             [
              0.5555555555555556,
              "#d8576b"
             ],
             [
              0.6666666666666666,
              "#ed7953"
             ],
             [
              0.7777777777777778,
              "#fb9f3a"
             ],
             [
              0.8888888888888888,
              "#fdca26"
             ],
             [
              1,
              "#f0f921"
             ]
            ],
            "type": "heatmap"
           }
          ],
          "histogram": [
           {
            "marker": {
             "pattern": {
              "fillmode": "overlay",
              "size": 10,
              "solidity": 0.2
             }
            },
            "type": "histogram"
           }
          ],
          "histogram2d": [
           {
            "colorbar": {
             "outlinewidth": 0,
             "ticks": ""
            },
            "colorscale": [
             [
              0,
              "#0d0887"
             ],
             [
              0.1111111111111111,
              "#46039f"
             ],
             [
              0.2222222222222222,
              "#7201a8"
             ],
             [
              0.3333333333333333,
              "#9c179e"
             ],
             [
              0.4444444444444444,
              "#bd3786"
             ],
             [
              0.5555555555555556,
              "#d8576b"
             ],
             [
              0.6666666666666666,
              "#ed7953"
             ],
             [
              0.7777777777777778,
              "#fb9f3a"
             ],
             [
              0.8888888888888888,
              "#fdca26"
             ],
             [
              1,
              "#f0f921"
             ]
            ],
            "type": "histogram2d"
           }
          ],
          "histogram2dcontour": [
           {
            "colorbar": {
             "outlinewidth": 0,
             "ticks": ""
            },
            "colorscale": [
             [
              0,
              "#0d0887"
             ],
             [
              0.1111111111111111,
              "#46039f"
             ],
             [
              0.2222222222222222,
              "#7201a8"
             ],
             [
              0.3333333333333333,
              "#9c179e"
             ],
             [
              0.4444444444444444,
              "#bd3786"
             ],
             [
              0.5555555555555556,
              "#d8576b"
             ],
             [
              0.6666666666666666,
              "#ed7953"
             ],
             [
              0.7777777777777778,
              "#fb9f3a"
             ],
             [
              0.8888888888888888,
              "#fdca26"
             ],
             [
              1,
              "#f0f921"
             ]
            ],
            "type": "histogram2dcontour"
           }
          ],
          "mesh3d": [
           {
            "colorbar": {
             "outlinewidth": 0,
             "ticks": ""
            },
            "type": "mesh3d"
           }
          ],
          "parcoords": [
           {
            "line": {
             "colorbar": {
              "outlinewidth": 0,
              "ticks": ""
             }
            },
            "type": "parcoords"
           }
          ],
          "pie": [
           {
            "automargin": true,
            "type": "pie"
           }
          ],
          "scatter": [
           {
            "fillpattern": {
             "fillmode": "overlay",
             "size": 10,
             "solidity": 0.2
            },
            "type": "scatter"
           }
          ],
          "scatter3d": [
           {
            "line": {
             "colorbar": {
              "outlinewidth": 0,
              "ticks": ""
             }
            },
            "marker": {
             "colorbar": {
              "outlinewidth": 0,
              "ticks": ""
             }
            },
            "type": "scatter3d"
           }
          ],
          "scattercarpet": [
           {
            "marker": {
             "colorbar": {
              "outlinewidth": 0,
              "ticks": ""
             }
            },
            "type": "scattercarpet"
           }
          ],
          "scattergeo": [
           {
            "marker": {
             "colorbar": {
              "outlinewidth": 0,
              "ticks": ""
             }
            },
            "type": "scattergeo"
           }
          ],
          "scattergl": [
           {
            "marker": {
             "colorbar": {
              "outlinewidth": 0,
              "ticks": ""
             }
            },
            "type": "scattergl"
           }
          ],
          "scattermap": [
           {
            "marker": {
             "colorbar": {
              "outlinewidth": 0,
              "ticks": ""
             }
            },
            "type": "scattermap"
           }
          ],
          "scattermapbox": [
           {
            "marker": {
             "colorbar": {
              "outlinewidth": 0,
              "ticks": ""
             }
            },
            "type": "scattermapbox"
           }
          ],
          "scatterpolar": [
           {
            "marker": {
             "colorbar": {
              "outlinewidth": 0,
              "ticks": ""
             }
            },
            "type": "scatterpolar"
           }
          ],
          "scatterpolargl": [
           {
            "marker": {
             "colorbar": {
              "outlinewidth": 0,
              "ticks": ""
             }
            },
            "type": "scatterpolargl"
           }
          ],
          "scatterternary": [
           {
            "marker": {
             "colorbar": {
              "outlinewidth": 0,
              "ticks": ""
             }
            },
            "type": "scatterternary"
           }
          ],
          "surface": [
           {
            "colorbar": {
             "outlinewidth": 0,
             "ticks": ""
            },
            "colorscale": [
             [
              0,
              "#0d0887"
             ],
             [
              0.1111111111111111,
              "#46039f"
             ],
             [
              0.2222222222222222,
              "#7201a8"
             ],
             [
              0.3333333333333333,
              "#9c179e"
             ],
             [
              0.4444444444444444,
              "#bd3786"
             ],
             [
              0.5555555555555556,
              "#d8576b"
             ],
             [
              0.6666666666666666,
              "#ed7953"
             ],
             [
              0.7777777777777778,
              "#fb9f3a"
             ],
             [
              0.8888888888888888,
              "#fdca26"
             ],
             [
              1,
              "#f0f921"
             ]
            ],
            "type": "surface"
           }
          ],
          "table": [
           {
            "cells": {
             "fill": {
              "color": "#EBF0F8"
             },
             "line": {
              "color": "white"
             }
            },
            "header": {
             "fill": {
              "color": "#C8D4E3"
             },
             "line": {
              "color": "white"
             }
            },
            "type": "table"
           }
          ]
         },
         "layout": {
          "annotationdefaults": {
           "arrowcolor": "#2a3f5f",
           "arrowhead": 0,
           "arrowwidth": 1
          },
          "autotypenumbers": "strict",
          "coloraxis": {
           "colorbar": {
            "outlinewidth": 0,
            "ticks": ""
           }
          },
          "colorscale": {
           "diverging": [
            [
             0,
             "#8e0152"
            ],
            [
             0.1,
             "#c51b7d"
            ],
            [
             0.2,
             "#de77ae"
            ],
            [
             0.3,
             "#f1b6da"
            ],
            [
             0.4,
             "#fde0ef"
            ],
            [
             0.5,
             "#f7f7f7"
            ],
            [
             0.6,
             "#e6f5d0"
            ],
            [
             0.7,
             "#b8e186"
            ],
            [
             0.8,
             "#7fbc41"
            ],
            [
             0.9,
             "#4d9221"
            ],
            [
             1,
             "#276419"
            ]
           ],
           "sequential": [
            [
             0,
             "#0d0887"
            ],
            [
             0.1111111111111111,
             "#46039f"
            ],
            [
             0.2222222222222222,
             "#7201a8"
            ],
            [
             0.3333333333333333,
             "#9c179e"
            ],
            [
             0.4444444444444444,
             "#bd3786"
            ],
            [
             0.5555555555555556,
             "#d8576b"
            ],
            [
             0.6666666666666666,
             "#ed7953"
            ],
            [
             0.7777777777777778,
             "#fb9f3a"
            ],
            [
             0.8888888888888888,
             "#fdca26"
            ],
            [
             1,
             "#f0f921"
            ]
           ],
           "sequentialminus": [
            [
             0,
             "#0d0887"
            ],
            [
             0.1111111111111111,
             "#46039f"
            ],
            [
             0.2222222222222222,
             "#7201a8"
            ],
            [
             0.3333333333333333,
             "#9c179e"
            ],
            [
             0.4444444444444444,
             "#bd3786"
            ],
            [
             0.5555555555555556,
             "#d8576b"
            ],
            [
             0.6666666666666666,
             "#ed7953"
            ],
            [
             0.7777777777777778,
             "#fb9f3a"
            ],
            [
             0.8888888888888888,
             "#fdca26"
            ],
            [
             1,
             "#f0f921"
            ]
           ]
          },
          "colorway": [
           "#636efa",
           "#EF553B",
           "#00cc96",
           "#ab63fa",
           "#FFA15A",
           "#19d3f3",
           "#FF6692",
           "#B6E880",
           "#FF97FF",
           "#FECB52"
          ],
          "font": {
           "color": "#2a3f5f"
          },
          "geo": {
           "bgcolor": "white",
           "lakecolor": "white",
           "landcolor": "#E5ECF6",
           "showlakes": true,
           "showland": true,
           "subunitcolor": "white"
          },
          "hoverlabel": {
           "align": "left"
          },
          "hovermode": "closest",
          "mapbox": {
           "style": "light"
          },
          "paper_bgcolor": "white",
          "plot_bgcolor": "#E5ECF6",
          "polar": {
           "angularaxis": {
            "gridcolor": "white",
            "linecolor": "white",
            "ticks": ""
           },
           "bgcolor": "#E5ECF6",
           "radialaxis": {
            "gridcolor": "white",
            "linecolor": "white",
            "ticks": ""
           }
          },
          "scene": {
           "xaxis": {
            "backgroundcolor": "#E5ECF6",
            "gridcolor": "white",
            "gridwidth": 2,
            "linecolor": "white",
            "showbackground": true,
            "ticks": "",
            "zerolinecolor": "white"
           },
           "yaxis": {
            "backgroundcolor": "#E5ECF6",
            "gridcolor": "white",
            "gridwidth": 2,
            "linecolor": "white",
            "showbackground": true,
            "ticks": "",
            "zerolinecolor": "white"
           },
           "zaxis": {
            "backgroundcolor": "#E5ECF6",
            "gridcolor": "white",
            "gridwidth": 2,
            "linecolor": "white",
            "showbackground": true,
            "ticks": "",
            "zerolinecolor": "white"
           }
          },
          "shapedefaults": {
           "line": {
            "color": "#2a3f5f"
           }
          },
          "ternary": {
           "aaxis": {
            "gridcolor": "white",
            "linecolor": "white",
            "ticks": ""
           },
           "baxis": {
            "gridcolor": "white",
            "linecolor": "white",
            "ticks": ""
           },
           "bgcolor": "#E5ECF6",
           "caxis": {
            "gridcolor": "white",
            "linecolor": "white",
            "ticks": ""
           }
          },
          "title": {
           "x": 0.05
          },
          "xaxis": {
           "automargin": true,
           "gridcolor": "white",
           "linecolor": "white",
           "ticks": "",
           "title": {
            "standoff": 15
           },
           "zerolinecolor": "white",
           "zerolinewidth": 2
          },
          "yaxis": {
           "automargin": true,
           "gridcolor": "white",
           "linecolor": "white",
           "ticks": "",
           "title": {
            "standoff": 15
           },
           "zerolinecolor": "white",
           "zerolinewidth": 2
          }
         }
        },
        "title": {
         "text": "Odds of pass versus the score in the Third Quarter"
        },
        "xaxis": {
         "anchor": "y",
         "domain": [
          0,
          1
         ],
         "title": {
          "text": "score_offset"
         }
        },
        "yaxis": {
         "anchor": "x",
         "domain": [
          0,
          1
         ],
         "title": {
          "text": "pass_percent"
         }
        }
       }
      }
     },
     "metadata": {},
     "output_type": "display_data"
    }
   ],
   "source": [
    "score_and_result = df.loc[df.quarter_3 == True, ['quarter', 'score_offset', 'pass_percent'] ].groupby(['quarter', 'score_offset']).mean('pass_percent').reset_index()\n",
    "score_and_result\n",
    "\n",
    "px.scatter(score_and_result, x='score_offset', y='pass_percent', trendline='ols', title='Odds of pass versus the score in the Third Quarter')"
   ]
  },
  {
   "cell_type": "code",
   "execution_count": 14,
   "id": "44288acd",
   "metadata": {},
   "outputs": [
    {
     "data": {
      "application/vnd.plotly.v1+json": {
       "config": {
        "plotlyServerURL": "https://plot.ly"
       },
       "data": [
        {
         "hovertemplate": "score_offset=%{x}<br>pass_percent=%{y}<extra></extra>",
         "legendgroup": "",
         "marker": {
          "color": "#636efa",
          "symbol": "circle"
         },
         "mode": "markers",
         "name": "",
         "orientation": "v",
         "showlegend": false,
         "type": "scatter",
         "x": {
          "bdata": "3d7i4+Tm5+jp6uvs7e7v8PHy8/T19vf4+fr7/P3+/wABAgMEBQYHCAkKCwwNDg8QERITFBUWFxgaHB0iIw==",
          "dtype": "i1"
         },
         "xaxis": "x",
         "y": {
          "bdata": "zjnnnHPO6T8zMzMzMzPTP1VVVVVVVeU/2Ymd2Imd6D9GF1100UXnPzw8PDw8POw/AAAAAAAA4D9cvuVbvuXrP97d3d3d3e0/idqVqF2J6j/p1DzIXT/rPxdddNFFF90/etOb3vSm5z9Y+4a1b1jrP+SzbjBFPus/5MePHz9+7D/lNZTXUF7rPwAAAAAAAOg/hixkIQtZ6D81JtIDlbPrP+nUPMhdP+s/Ntlkk0026T8T6J26loPrP5gin3WDKeo/WH/1V3/15z8AAAAAAEDqP4/C9Shcj+I/bnVGKuZW5z9S+TDu1yXlP8P1KFyPwuU/ZGRkZGRk5D9vIruJ7CbiP6c3velNb9o/q42h6Q722z90bL4bflTXP8u3fMu3fNs/BA0ndV8e2z/Bpv1kCWzaP0oppZRSStk/QnsJ7SW01z+amZmZmZnJPyZDsI4279M/INEKmwOJ1j8AAAAAAADUPx3UQR3UQd0/ip3YiZ3Y0T9xR9wRd8TNPxj0BX1BX9A/q6qqqqqq2j8apEEapEHaP3sUrkfheqQ/AAAAAAAA0D8AAAAAAADeP+xRuB6F69E/AAAAAAAAAACxEzuxEzvRPxzHcRzHccw/VVVVVVVVxT8AAAAAAAAAAFVVVVVVVcU/dNFFF1104T8=",
          "dtype": "f8"
         },
         "yaxis": "y"
        },
        {
         "hovertemplate": "<b>OLS trendline</b><br>pass_percent = -0.0109276 * score_offset + 0.527567<br>R<sup>2</sup>=0.596546<br><br>score_offset=%{x}<br>pass_percent=%{y} <b>(trend)</b><extra></extra>",
         "legendgroup": "",
         "marker": {
          "color": "#636efa",
          "symbol": "circle"
         },
         "mode": "lines",
         "name": "",
         "showlegend": false,
         "type": "scatter",
         "x": {
          "bdata": "3d7i4+Tm5+jp6uvs7e7v8PHy8/T19vf4+fr7/P3+/wABAgMEBQYHCAkKCwwNDg8QERITFBUWFxgaHB0iIw==",
          "dtype": "i1"
         },
         "xaxis": "x",
         "y": {
          "bdata": "BRm6IPse7T+/0NdUdsXsP6SvTiVjX+s/XmdsWd4F6z8XH4qNWazqP4qOxfVP+ek/REbjKcuf6T/9/QBeRkbpP7e1HpLB7Og/cG08xjyT6D8pJVr6tznoP+Pcdy4z4Oc/nJSVYq6G5z9WTLOWKS3nPw8E0cqk0+Y/ybvu/h965j+CcwwzmyDmPzwrKmcWx+U/9eJHm5Ft5T+vmmXPDBTlP2hSgwOIuuQ/IQqhNwNh5D/bwb5rfgfkP5R53J/5reM/TjH603RU4z8H6RcI8PriP8GgNTxroeI/elhTcOZH4j80EHGkYe7hP+3HjtjclOE/p3+sDFg74T9gN8pA0+HgPxnv53ROiOA/06YFqcku4D8ZvUa6iarfP4wsgiKA994//5u9inZE3j9xC/nybJHdP+R6NFtj3tw/V+pvw1kr3D/KWasrUHjbPz3J5pNGxdo/sDgi/DwS2j8jqF1kM1/ZP5YXmcwprNg/CYfUNCD51z989g+dFkbXP+5lSwUNk9Y/YdWGbQPg1T/URMLV+SzVP0e0/T3wedQ/uiM5pubG0z8tk3QO3RPTP6ACsHbTYNI/E3Lr3smt0T+G4SZHwPrQP9eAOy9aKc8/oz4p0DNdzD+JHaCgIPfKPwZ48rLA+MM/61Zpg62Swj8=",
          "dtype": "f8"
         },
         "yaxis": "y"
        }
       ],
       "layout": {
        "legend": {
         "tracegroupgap": 0
        },
        "template": {
         "data": {
          "bar": [
           {
            "error_x": {
             "color": "#2a3f5f"
            },
            "error_y": {
             "color": "#2a3f5f"
            },
            "marker": {
             "line": {
              "color": "#E5ECF6",
              "width": 0.5
             },
             "pattern": {
              "fillmode": "overlay",
              "size": 10,
              "solidity": 0.2
             }
            },
            "type": "bar"
           }
          ],
          "barpolar": [
           {
            "marker": {
             "line": {
              "color": "#E5ECF6",
              "width": 0.5
             },
             "pattern": {
              "fillmode": "overlay",
              "size": 10,
              "solidity": 0.2
             }
            },
            "type": "barpolar"
           }
          ],
          "carpet": [
           {
            "aaxis": {
             "endlinecolor": "#2a3f5f",
             "gridcolor": "white",
             "linecolor": "white",
             "minorgridcolor": "white",
             "startlinecolor": "#2a3f5f"
            },
            "baxis": {
             "endlinecolor": "#2a3f5f",
             "gridcolor": "white",
             "linecolor": "white",
             "minorgridcolor": "white",
             "startlinecolor": "#2a3f5f"
            },
            "type": "carpet"
           }
          ],
          "choropleth": [
           {
            "colorbar": {
             "outlinewidth": 0,
             "ticks": ""
            },
            "type": "choropleth"
           }
          ],
          "contour": [
           {
            "colorbar": {
             "outlinewidth": 0,
             "ticks": ""
            },
            "colorscale": [
             [
              0,
              "#0d0887"
             ],
             [
              0.1111111111111111,
              "#46039f"
             ],
             [
              0.2222222222222222,
              "#7201a8"
             ],
             [
              0.3333333333333333,
              "#9c179e"
             ],
             [
              0.4444444444444444,
              "#bd3786"
             ],
             [
              0.5555555555555556,
              "#d8576b"
             ],
             [
              0.6666666666666666,
              "#ed7953"
             ],
             [
              0.7777777777777778,
              "#fb9f3a"
             ],
             [
              0.8888888888888888,
              "#fdca26"
             ],
             [
              1,
              "#f0f921"
             ]
            ],
            "type": "contour"
           }
          ],
          "contourcarpet": [
           {
            "colorbar": {
             "outlinewidth": 0,
             "ticks": ""
            },
            "type": "contourcarpet"
           }
          ],
          "heatmap": [
           {
            "colorbar": {
             "outlinewidth": 0,
             "ticks": ""
            },
            "colorscale": [
             [
              0,
              "#0d0887"
             ],
             [
              0.1111111111111111,
              "#46039f"
             ],
             [
              0.2222222222222222,
              "#7201a8"
             ],
             [
              0.3333333333333333,
              "#9c179e"
             ],
             [
              0.4444444444444444,
              "#bd3786"
             ],
             [
              0.5555555555555556,
              "#d8576b"
             ],
             [
              0.6666666666666666,
              "#ed7953"
             ],
             [
              0.7777777777777778,
              "#fb9f3a"
             ],
             [
              0.8888888888888888,
              "#fdca26"
             ],
             [
              1,
              "#f0f921"
             ]
            ],
            "type": "heatmap"
           }
          ],
          "histogram": [
           {
            "marker": {
             "pattern": {
              "fillmode": "overlay",
              "size": 10,
              "solidity": 0.2
             }
            },
            "type": "histogram"
           }
          ],
          "histogram2d": [
           {
            "colorbar": {
             "outlinewidth": 0,
             "ticks": ""
            },
            "colorscale": [
             [
              0,
              "#0d0887"
             ],
             [
              0.1111111111111111,
              "#46039f"
             ],
             [
              0.2222222222222222,
              "#7201a8"
             ],
             [
              0.3333333333333333,
              "#9c179e"
             ],
             [
              0.4444444444444444,
              "#bd3786"
             ],
             [
              0.5555555555555556,
              "#d8576b"
             ],
             [
              0.6666666666666666,
              "#ed7953"
             ],
             [
              0.7777777777777778,
              "#fb9f3a"
             ],
             [
              0.8888888888888888,
              "#fdca26"
             ],
             [
              1,
              "#f0f921"
             ]
            ],
            "type": "histogram2d"
           }
          ],
          "histogram2dcontour": [
           {
            "colorbar": {
             "outlinewidth": 0,
             "ticks": ""
            },
            "colorscale": [
             [
              0,
              "#0d0887"
             ],
             [
              0.1111111111111111,
              "#46039f"
             ],
             [
              0.2222222222222222,
              "#7201a8"
             ],
             [
              0.3333333333333333,
              "#9c179e"
             ],
             [
              0.4444444444444444,
              "#bd3786"
             ],
             [
              0.5555555555555556,
              "#d8576b"
             ],
             [
              0.6666666666666666,
              "#ed7953"
             ],
             [
              0.7777777777777778,
              "#fb9f3a"
             ],
             [
              0.8888888888888888,
              "#fdca26"
             ],
             [
              1,
              "#f0f921"
             ]
            ],
            "type": "histogram2dcontour"
           }
          ],
          "mesh3d": [
           {
            "colorbar": {
             "outlinewidth": 0,
             "ticks": ""
            },
            "type": "mesh3d"
           }
          ],
          "parcoords": [
           {
            "line": {
             "colorbar": {
              "outlinewidth": 0,
              "ticks": ""
             }
            },
            "type": "parcoords"
           }
          ],
          "pie": [
           {
            "automargin": true,
            "type": "pie"
           }
          ],
          "scatter": [
           {
            "fillpattern": {
             "fillmode": "overlay",
             "size": 10,
             "solidity": 0.2
            },
            "type": "scatter"
           }
          ],
          "scatter3d": [
           {
            "line": {
             "colorbar": {
              "outlinewidth": 0,
              "ticks": ""
             }
            },
            "marker": {
             "colorbar": {
              "outlinewidth": 0,
              "ticks": ""
             }
            },
            "type": "scatter3d"
           }
          ],
          "scattercarpet": [
           {
            "marker": {
             "colorbar": {
              "outlinewidth": 0,
              "ticks": ""
             }
            },
            "type": "scattercarpet"
           }
          ],
          "scattergeo": [
           {
            "marker": {
             "colorbar": {
              "outlinewidth": 0,
              "ticks": ""
             }
            },
            "type": "scattergeo"
           }
          ],
          "scattergl": [
           {
            "marker": {
             "colorbar": {
              "outlinewidth": 0,
              "ticks": ""
             }
            },
            "type": "scattergl"
           }
          ],
          "scattermap": [
           {
            "marker": {
             "colorbar": {
              "outlinewidth": 0,
              "ticks": ""
             }
            },
            "type": "scattermap"
           }
          ],
          "scattermapbox": [
           {
            "marker": {
             "colorbar": {
              "outlinewidth": 0,
              "ticks": ""
             }
            },
            "type": "scattermapbox"
           }
          ],
          "scatterpolar": [
           {
            "marker": {
             "colorbar": {
              "outlinewidth": 0,
              "ticks": ""
             }
            },
            "type": "scatterpolar"
           }
          ],
          "scatterpolargl": [
           {
            "marker": {
             "colorbar": {
              "outlinewidth": 0,
              "ticks": ""
             }
            },
            "type": "scatterpolargl"
           }
          ],
          "scatterternary": [
           {
            "marker": {
             "colorbar": {
              "outlinewidth": 0,
              "ticks": ""
             }
            },
            "type": "scatterternary"
           }
          ],
          "surface": [
           {
            "colorbar": {
             "outlinewidth": 0,
             "ticks": ""
            },
            "colorscale": [
             [
              0,
              "#0d0887"
             ],
             [
              0.1111111111111111,
              "#46039f"
             ],
             [
              0.2222222222222222,
              "#7201a8"
             ],
             [
              0.3333333333333333,
              "#9c179e"
             ],
             [
              0.4444444444444444,
              "#bd3786"
             ],
             [
              0.5555555555555556,
              "#d8576b"
             ],
             [
              0.6666666666666666,
              "#ed7953"
             ],
             [
              0.7777777777777778,
              "#fb9f3a"
             ],
             [
              0.8888888888888888,
              "#fdca26"
             ],
             [
              1,
              "#f0f921"
             ]
            ],
            "type": "surface"
           }
          ],
          "table": [
           {
            "cells": {
             "fill": {
              "color": "#EBF0F8"
             },
             "line": {
              "color": "white"
             }
            },
            "header": {
             "fill": {
              "color": "#C8D4E3"
             },
             "line": {
              "color": "white"
             }
            },
            "type": "table"
           }
          ]
         },
         "layout": {
          "annotationdefaults": {
           "arrowcolor": "#2a3f5f",
           "arrowhead": 0,
           "arrowwidth": 1
          },
          "autotypenumbers": "strict",
          "coloraxis": {
           "colorbar": {
            "outlinewidth": 0,
            "ticks": ""
           }
          },
          "colorscale": {
           "diverging": [
            [
             0,
             "#8e0152"
            ],
            [
             0.1,
             "#c51b7d"
            ],
            [
             0.2,
             "#de77ae"
            ],
            [
             0.3,
             "#f1b6da"
            ],
            [
             0.4,
             "#fde0ef"
            ],
            [
             0.5,
             "#f7f7f7"
            ],
            [
             0.6,
             "#e6f5d0"
            ],
            [
             0.7,
             "#b8e186"
            ],
            [
             0.8,
             "#7fbc41"
            ],
            [
             0.9,
             "#4d9221"
            ],
            [
             1,
             "#276419"
            ]
           ],
           "sequential": [
            [
             0,
             "#0d0887"
            ],
            [
             0.1111111111111111,
             "#46039f"
            ],
            [
             0.2222222222222222,
             "#7201a8"
            ],
            [
             0.3333333333333333,
             "#9c179e"
            ],
            [
             0.4444444444444444,
             "#bd3786"
            ],
            [
             0.5555555555555556,
             "#d8576b"
            ],
            [
             0.6666666666666666,
             "#ed7953"
            ],
            [
             0.7777777777777778,
             "#fb9f3a"
            ],
            [
             0.8888888888888888,
             "#fdca26"
            ],
            [
             1,
             "#f0f921"
            ]
           ],
           "sequentialminus": [
            [
             0,
             "#0d0887"
            ],
            [
             0.1111111111111111,
             "#46039f"
            ],
            [
             0.2222222222222222,
             "#7201a8"
            ],
            [
             0.3333333333333333,
             "#9c179e"
            ],
            [
             0.4444444444444444,
             "#bd3786"
            ],
            [
             0.5555555555555556,
             "#d8576b"
            ],
            [
             0.6666666666666666,
             "#ed7953"
            ],
            [
             0.7777777777777778,
             "#fb9f3a"
            ],
            [
             0.8888888888888888,
             "#fdca26"
            ],
            [
             1,
             "#f0f921"
            ]
           ]
          },
          "colorway": [
           "#636efa",
           "#EF553B",
           "#00cc96",
           "#ab63fa",
           "#FFA15A",
           "#19d3f3",
           "#FF6692",
           "#B6E880",
           "#FF97FF",
           "#FECB52"
          ],
          "font": {
           "color": "#2a3f5f"
          },
          "geo": {
           "bgcolor": "white",
           "lakecolor": "white",
           "landcolor": "#E5ECF6",
           "showlakes": true,
           "showland": true,
           "subunitcolor": "white"
          },
          "hoverlabel": {
           "align": "left"
          },
          "hovermode": "closest",
          "mapbox": {
           "style": "light"
          },
          "paper_bgcolor": "white",
          "plot_bgcolor": "#E5ECF6",
          "polar": {
           "angularaxis": {
            "gridcolor": "white",
            "linecolor": "white",
            "ticks": ""
           },
           "bgcolor": "#E5ECF6",
           "radialaxis": {
            "gridcolor": "white",
            "linecolor": "white",
            "ticks": ""
           }
          },
          "scene": {
           "xaxis": {
            "backgroundcolor": "#E5ECF6",
            "gridcolor": "white",
            "gridwidth": 2,
            "linecolor": "white",
            "showbackground": true,
            "ticks": "",
            "zerolinecolor": "white"
           },
           "yaxis": {
            "backgroundcolor": "#E5ECF6",
            "gridcolor": "white",
            "gridwidth": 2,
            "linecolor": "white",
            "showbackground": true,
            "ticks": "",
            "zerolinecolor": "white"
           },
           "zaxis": {
            "backgroundcolor": "#E5ECF6",
            "gridcolor": "white",
            "gridwidth": 2,
            "linecolor": "white",
            "showbackground": true,
            "ticks": "",
            "zerolinecolor": "white"
           }
          },
          "shapedefaults": {
           "line": {
            "color": "#2a3f5f"
           }
          },
          "ternary": {
           "aaxis": {
            "gridcolor": "white",
            "linecolor": "white",
            "ticks": ""
           },
           "baxis": {
            "gridcolor": "white",
            "linecolor": "white",
            "ticks": ""
           },
           "bgcolor": "#E5ECF6",
           "caxis": {
            "gridcolor": "white",
            "linecolor": "white",
            "ticks": ""
           }
          },
          "title": {
           "x": 0.05
          },
          "xaxis": {
           "automargin": true,
           "gridcolor": "white",
           "linecolor": "white",
           "ticks": "",
           "title": {
            "standoff": 15
           },
           "zerolinecolor": "white",
           "zerolinewidth": 2
          },
          "yaxis": {
           "automargin": true,
           "gridcolor": "white",
           "linecolor": "white",
           "ticks": "",
           "title": {
            "standoff": 15
           },
           "zerolinecolor": "white",
           "zerolinewidth": 2
          }
         }
        },
        "title": {
         "text": "Odds of pass versus the score in the Fourth Quarter"
        },
        "xaxis": {
         "anchor": "y",
         "domain": [
          0,
          1
         ],
         "title": {
          "text": "score_offset"
         }
        },
        "yaxis": {
         "anchor": "x",
         "domain": [
          0,
          1
         ],
         "title": {
          "text": "pass_percent"
         }
        }
       }
      }
     },
     "metadata": {},
     "output_type": "display_data"
    }
   ],
   "source": [
    "score_and_result = df.loc[df.quarter_4 == True, ['quarter', 'score_offset', 'pass_percent'] ].groupby(['quarter', 'score_offset']).mean('pass_percent').reset_index()\n",
    "score_and_result\n",
    "\n",
    "px.scatter(score_and_result, x='score_offset', y='pass_percent', trendline='ols', title='Odds of pass versus the score in the Fourth Quarter')"
   ]
  },
  {
   "cell_type": "markdown",
   "id": "662b4f46",
   "metadata": {},
   "source": [
    "# Determine Hyperparameters"
   ]
  },
  {
   "cell_type": "markdown",
   "id": "9b95d976",
   "metadata": {},
   "source": [
    "### Logistic Regression"
   ]
  },
  {
   "cell_type": "code",
   "execution_count": 15,
   "id": "86b60003",
   "metadata": {},
   "outputs": [
    {
     "name": "stdout",
     "output_type": "stream",
     "text": [
      "Not optimizing hyper parameters - IS_TRAINING_MODE=True\n"
     ]
    }
   ],
   "source": [
    "pipeline = Pipeline([\n",
    "    ('logistic_regression', LogisticRegression(max_iter=10000))\n",
    "])\n",
    "parameters_to_try = {\n",
    "    'logistic_regression__fit_intercept': [True, False],\n",
    "    'logistic_regression__penalty': [None, 'l1', 'l2', 'elasticnet'],\n",
    "    'logistic_regression__C': [1.0, 100.0, 10000.0],\n",
    "    'logistic_regression__class_weight': [None, 'balanced'],\n",
    "    'logistic_regression__solver': ['lbfgs', 'liblinear', 'newton-cg', 'newton-cholesky', 'sag', 'saga'],\n",
    "}\n",
    "\n",
    "optimize_model_params(pipeline, parameters_to_try)"
   ]
  },
  {
   "cell_type": "code",
   "execution_count": 16,
   "id": "f2c26c95",
   "metadata": {},
   "outputs": [
    {
     "name": "stdout",
     "output_type": "stream",
     "text": [
      "Not optimizing hyper parameters - IS_TRAINING_MODE=True\n"
     ]
    }
   ],
   "source": [
    "model = LogisticRegression(fit_intercept = logistic_regression__fit_intercept,\n",
    "                           penalty = logistic_regression__penalty,\n",
    "                           C = logistic_regression__C,\n",
    "                           class_weight = logistic_regression__class_weight,\n",
    "                           solver = logistic_regression__solver)\n",
    "features = find_best_features(model, \"logistic_regression\")"
   ]
  },
  {
   "cell_type": "markdown",
   "id": "b368b08e",
   "metadata": {},
   "source": [
    "### K-Nearest Neighbors"
   ]
  },
  {
   "cell_type": "code",
   "execution_count": 17,
   "id": "7887622b",
   "metadata": {},
   "outputs": [
    {
     "name": "stdout",
     "output_type": "stream",
     "text": [
      "Not optimizing hyper parameters - IS_TRAINING_MODE=True\n"
     ]
    }
   ],
   "source": [
    "pipeline = Pipeline([\n",
    "    ('kneighbors', KNeighborsClassifier())\n",
    "])\n",
    "parameters_to_try = {\n",
    "    'kneighbors__n_neighbors': np.array(range(1, 20)),\n",
    "    'kneighbors__weights': [None, 'uniform', 'distance'],\n",
    "    'kneighbors__algorithm': ['auto', 'ball_tree', 'kd_tree', 'brute'],\n",
    "    # 'kneighbors__leaf_sizeint': ['algorithm', 'leaf_size', 'metric', 'metric_params', 'n_jobs', 'n_neighbors', 'p', 'weights']\n",
    "}\n",
    "\n",
    "optimize_model_params(pipeline, parameters_to_try)"
   ]
  },
  {
   "cell_type": "code",
   "execution_count": 18,
   "id": "4a64010b",
   "metadata": {},
   "outputs": [
    {
     "name": "stdout",
     "output_type": "stream",
     "text": [
      "Not optimizing hyper parameters - IS_TRAINING_MODE=True\n"
     ]
    }
   ],
   "source": [
    "model = KNeighborsClassifier(algorithm = kneighbors__algorithm,\n",
    "                             n_neighbors = kneighbors__n_neighbors,\n",
    "                             weights = kneighbors__weights)\n",
    "features = find_best_features(model, \"kneighbors\")"
   ]
  },
  {
   "cell_type": "markdown",
   "id": "c0368569",
   "metadata": {},
   "source": [
    "### Decision Tree"
   ]
  },
  {
   "cell_type": "code",
   "execution_count": 19,
   "id": "963338b6",
   "metadata": {},
   "outputs": [
    {
     "name": "stdout",
     "output_type": "stream",
     "text": [
      "Not optimizing hyper parameters - IS_TRAINING_MODE=True\n"
     ]
    }
   ],
   "source": [
    "pipeline = Pipeline([\n",
    "    ('decision_tree', DecisionTreeClassifier(criterion='entropy'))\n",
    "])\n",
    "parameters_to_try = {\n",
    "    'decision_tree__criterion': ['gini', 'entropy', 'log_loss'],\n",
    "    'decision_tree__max_depth': np.array(range(1, 20)),\n",
    "    'decision_tree__max_features': [None, 'sqrt', 'log2'],\n",
    "}\n",
    "\n",
    "optimize_model_params(pipeline, parameters_to_try)"
   ]
  },
  {
   "cell_type": "code",
   "execution_count": 20,
   "id": "86d5e23f",
   "metadata": {},
   "outputs": [
    {
     "name": "stdout",
     "output_type": "stream",
     "text": [
      "Not optimizing hyper parameters - IS_TRAINING_MODE=True\n"
     ]
    }
   ],
   "source": [
    "model = DecisionTreeClassifier(criterion=decision_tree__criterion, \n",
    "                                    max_depth=decision_tree__max_depth, \n",
    "                                    max_features=decision_tree__max_features)\n",
    "features = find_best_features(model, \"decision_tree\")"
   ]
  },
  {
   "cell_type": "markdown",
   "id": "f4b4dd68",
   "metadata": {},
   "source": [
    "### Support Vector Machines"
   ]
  },
  {
   "cell_type": "code",
   "execution_count": 21,
   "id": "567ad50e",
   "metadata": {},
   "outputs": [],
   "source": [
    "# pipeline = Pipeline([\n",
    "#     ('support_vector', SVC(probability=False))        # avoid applying expensive Platt's calibration internally\n",
    "# ])\n",
    "# parameters_to_try = {\n",
    "#     'support_vector__C': [0.1, 10, 1000], \n",
    "# \t'support_vector__gamma': [0.1, 10, 100], # 1, 0.1, 0.01, 0.001, 0.0001\n",
    "# \t'support_vector__kernel': ['poly']\n",
    "# }\n",
    "\n",
    "# optimize_model_params(pipeline, parameters_to_try)"
   ]
  },
  {
   "cell_type": "code",
   "execution_count": 22,
   "id": "a8cf68ec",
   "metadata": {},
   "outputs": [
    {
     "name": "stdout",
     "output_type": "stream",
     "text": [
      "Not optimizing hyper parameters - IS_TRAINING_MODE=True\n"
     ]
    }
   ],
   "source": [
    "model = SVC()\n",
    "features = find_best_features(model, \"support_vector\")\n",
    "\n",
    "# Overall Best: 0.742667 features: ['rb_count' 'on_schedule' 'form_SHOTGUN' 'form_SINGLEBACK' 'form_VICTORY']"
   ]
  },
  {
   "cell_type": "markdown",
   "id": "d3f70f1c",
   "metadata": {},
   "source": [
    "### Random Forest"
   ]
  },
  {
   "cell_type": "code",
   "execution_count": 23,
   "id": "d19651dd",
   "metadata": {},
   "outputs": [
    {
     "name": "stdout",
     "output_type": "stream",
     "text": [
      "Not optimizing hyper parameters - IS_TRAINING_MODE=True\n"
     ]
    }
   ],
   "source": [
    "pipeline = Pipeline([\n",
    "    ('random_forest', RandomForestClassifier(n_estimators=5, max_features=10, oob_score=True))\n",
    "])\n",
    "parameters_to_try = {\n",
    "    'random_forest__n_estimators': np.array(range(1, 5)),\n",
    "    'random_forest__max_features': np.array(range(1, 10)),\n",
    "}\n",
    "\n",
    "optimize_model_params(pipeline, parameters_to_try)"
   ]
  },
  {
   "cell_type": "code",
   "execution_count": 24,
   "id": "84ea34c9",
   "metadata": {},
   "outputs": [
    {
     "name": "stdout",
     "output_type": "stream",
     "text": [
      "[0.6344086021505376, 0.6679073614557486, 0.6815550041356493, 0.7038875103391232, 0.7043010752688172, 0.7092638544251447, 0.71712158808933, 0.7237386269644334, 0.7196029776674938, 0.717948717948718, 0.717535153019024, 0.71712158808933, 0.717535153019024]\n"
     ]
    },
    {
     "data": {
      "image/png": "[encoded data removed]",
      "text/plain": [
       "<Figure size 640x480 with 1 Axes>"
      ]
     },
     "metadata": {},
     "output_type": "display_data"
    }
   ],
   "source": [
    "n_trees = [1, 5, 10, 25, 50, 75, 100, 150, 200, 250, 500, 750, 1000]\n",
    "\n",
    "### GRADED\n",
    "oob_scores = []\n",
    "accuracy = []\n",
    "for i in n_trees:\n",
    "    f = RandomForestClassifier(random_state=42, n_estimators=i, oob_score=True).fit(X_train, y_train)\n",
    "    oob_scores.append(f.oob_score_)\n",
    "    accuracy.append(accuracy_score(f.predict(X_test), y_test))\n",
    "\n",
    "### ANSWER CHECK\n",
    "print(oob_scores)\n",
    "\n",
    "plt.plot(n_trees, oob_scores, '--o')\n",
    "plt.grid()\n",
    "plt.title('Number of trees and oob score')\n",
    "plt.xlabel('Number of Trees')\n",
    "plt.ylabel(\"oob score\");"
   ]
  },
  {
   "cell_type": "code",
   "execution_count": 25,
   "id": "9821e8f5",
   "metadata": {},
   "outputs": [
    {
     "name": "stdout",
     "output_type": "stream",
     "text": [
      "[0.658981467970232, 0.690646432219466, 0.7042900919305414, 0.7120968918721727, 0.7128264993433533, 0.7137020283087698, 0.7164015759521377, 0.7150153217568948, 0.7156719684809573, 0.7145775572741865, 0.7168393404348461, 0.7166204581934918, 0.7171311834233183]\n"
     ]
    },
    {
     "data": {
      "image/png": "[encoded data removed]",
      "text/plain": [
       "<Figure size 640x480 with 1 Axes>"
      ]
     },
     "metadata": {},
     "output_type": "display_data"
    }
   ],
   "source": [
    "print(accuracy)\n",
    "\n",
    "plt.plot(n_trees, accuracy, '--o')\n",
    "plt.grid()\n",
    "plt.title('Number of trees and oob score')\n",
    "plt.xlabel('Number of Trees')\n",
    "plt.ylabel(\"oob score\");"
   ]
  },
  {
   "cell_type": "markdown",
   "id": "7daeba24",
   "metadata": {},
   "source": [
    "### Gradient Boosting Ensemble"
   ]
  },
  {
   "cell_type": "code",
   "execution_count": 26,
   "id": "3e42c842",
   "metadata": {},
   "outputs": [
    {
     "name": "stdout",
     "output_type": "stream",
     "text": [
      "[0.7423026411790457, 0.7415000729607472, 0.7414271122136291, 0.7418648766963374, 0.7425944841675178, 0.7422296804319276, 0.7432511308915803, 0.7436888953742886, 0.7439077776156428, 0.7433970523858164, 0.7433240916386984, 0.7434700131329345, 0.7433970523858164, 0.7436888953742886, 0.7431781701444623, 0.7444185028454692, 0.7442725813512331, 0.7449292280752955, 0.7446373850868233, 0.7446373850868233, 0.7457317962935941, 0.7462425215234204, 0.7464614037647745, 0.7458777177878302, 0.7462425215234204, 0.7458777177878302, 0.7460236392820663, 0.7460236392820663, 0.7457317962935941, 0.7451481103166496, 0.7448562673281774, 0.7450021888224135, 0.7443455420983511, 0.7450021888224135, 0.7447833065810594, 0.7448562673281774, 0.7450021888224135, 0.7443455420983511, 0.7441266598569969, 0.7443455420983511]\n",
      "[0.7423026411790457, 0.7415000729607472, 0.7414271122136291, 0.7418648766963374, 0.7425944841675178, 0.7422296804319276, 0.7432511308915803, 0.7436888953742886, 0.7439077776156428, 0.7433970523858164, 0.7433240916386984, 0.7434700131329345, 0.7433970523858164, 0.7436888953742886, 0.7431781701444623, 0.7444185028454692, 0.7442725813512331, 0.7449292280752955, 0.7446373850868233, 0.7446373850868233, 0.7457317962935941, 0.7462425215234204, 0.7464614037647745, 0.7458777177878302, 0.7462425215234204, 0.7458777177878302, 0.7460236392820663, 0.7460236392820663, 0.7457317962935941, 0.7451481103166496, 0.7448562673281774, 0.7450021888224135, 0.7443455420983511, 0.7450021888224135, 0.7447833065810594, 0.7448562673281774, 0.7450021888224135, 0.7443455420983511, 0.7441266598569969, 0.7443455420983511]\n"
     ]
    },
    {
     "data": {
      "image/png": "[encoded data removed]",
      "text/plain": [
       "<Figure size 640x480 with 1 Axes>"
      ]
     },
     "metadata": {},
     "output_type": "display_data"
    }
   ],
   "source": [
    "gbc_estimators = np.array(range(20, 60))\n",
    "gbc_scores = []\n",
    "gbc_accuracy = []\n",
    "for i in gbc_estimators:\n",
    "    gbc = GradientBoostingClassifier(n_estimators=i)\n",
    "    gbc.fit(X_train, y_train)\n",
    "    gbc_score = gbc.score(X_test, y_test)\n",
    "    gbc_scores.append(gbc_score)\n",
    "    gbc_accuracy.append(accuracy_score(gbc.predict(X_test), y_test))\n",
    "\n",
    "### ANSWER CHECK\n",
    "print(gbc_scores)\n",
    "print(gbc_accuracy)\n",
    "\n",
    "plt.plot(gbc_estimators, gbc_scores, '--o')\n",
    "plt.grid()\n",
    "plt.title('Number of estimators and score')\n",
    "plt.xlabel('Number of Estimators')\n",
    "plt.ylabel(\"score\");"
   ]
  },
  {
   "cell_type": "markdown",
   "id": "2af6c883",
   "metadata": {},
   "source": [
    "# Runtime Models"
   ]
  },
  {
   "cell_type": "markdown",
   "id": "6a91285a",
   "metadata": {},
   "source": [
    "### Baseline"
   ]
  },
  {
   "cell_type": "code",
   "execution_count": 27,
   "id": "d2648312",
   "metadata": {},
   "outputs": [
    {
     "name": "stdout",
     "output_type": "stream",
     "text": [
      "Precision: 0.0000\n",
      "Recall: 0.0000\n"
     ]
    },
    {
     "data": {
      "image/png": "[encoded data removed]",
      "text/plain": [
       "<Figure size 1500x500 with 3 Axes>"
      ]
     },
     "metadata": {},
     "output_type": "display_data"
    }
   ],
   "source": [
    "modeller = ModelTrainer(\n",
    "    \"Dummy\", \n",
    "    DummyClassifier(),\n",
    "    None\n",
    ")\n",
    "modeller.run()"
   ]
  },
  {
   "cell_type": "markdown",
   "id": "c0fdc43e",
   "metadata": {},
   "source": [
    "### Logistic Regression"
   ]
  },
  {
   "cell_type": "code",
   "execution_count": 28,
   "id": "e6f5804d",
   "metadata": {},
   "outputs": [
    {
     "name": "stdout",
     "output_type": "stream",
     "text": [
      "Precision: 0.6870\n",
      "Recall: 0.6486\n"
     ]
    },
    {
     "data": {
      "image/png": "[encoded data removed]",
      "text/plain": [
       "<Figure size 1500x500 with 3 Axes>"
      ]
     },
     "metadata": {},
     "output_type": "display_data"
    }
   ],
   "source": [
    "model_name = f\"LogisticRegression (fit_intercept = {logistic_regression__fit_intercept}, penalty = {logistic_regression__penalty}, C = {logistic_regression__C}, class_weight = {logistic_regression__class_weight}, solver = {logistic_regression__solver})\"\n",
    "model = LogisticRegression(fit_intercept = logistic_regression__fit_intercept,\n",
    "                           penalty = logistic_regression__penalty,\n",
    "                           C = logistic_regression__C,\n",
    "                           class_weight = logistic_regression__class_weight,\n",
    "                           solver = logistic_regression__solver)\n",
    "\n",
    "ModelTrainer(model_name, \n",
    "             Pipeline([\n",
    "                 ('scaler', StandardScaler()), \n",
    "                 ('regression', model)\n",
    "            ]),\n",
    "            \"lr\",\n",
    "            selected_features=logistic_regression__features).run()"
   ]
  },
  {
   "cell_type": "markdown",
   "id": "080c2bca",
   "metadata": {},
   "source": [
    "### K-Nearest Neighbors"
   ]
  },
  {
   "cell_type": "code",
   "execution_count": 29,
   "id": "8109dd24",
   "metadata": {},
   "outputs": [
    {
     "name": "stdout",
     "output_type": "stream",
     "text": [
      "Precision: 0.6853\n",
      "Recall: 0.6378\n"
     ]
    },
    {
     "data": {
      "image/png": "[encoded data removed]",
      "text/plain": [
       "<Figure size 1500x500 with 3 Axes>"
      ]
     },
     "metadata": {},
     "output_type": "display_data"
    }
   ],
   "source": [
    "model_name = f\"K-Nearest Neighbors (algorithm = {kneighbors__algorithm}, n_neighbors = {kneighbors__n_neighbors}, weights = {kneighbors__weights})\"\n",
    "model = KNeighborsClassifier(algorithm = kneighbors__algorithm,\n",
    "                             n_neighbors = kneighbors__n_neighbors,\n",
    "                             weights = kneighbors__weights)\n",
    "ModelTrainer(model_name, \n",
    "             Pipeline([\n",
    "                 ('scaler', StandardScaler()), \n",
    "                 ('regression', model)\n",
    "            ]),\n",
    "            \"kn\",\n",
    "            selected_features=kneighbors__features).run()"
   ]
  },
  {
   "cell_type": "markdown",
   "id": "79e3d07e",
   "metadata": {},
   "source": [
    "### Decision Tree"
   ]
  },
  {
   "cell_type": "code",
   "execution_count": 30,
   "id": "c35498d5",
   "metadata": {},
   "outputs": [
    {
     "name": "stdout",
     "output_type": "stream",
     "text": [
      "Precision: 0.6843\n",
      "Recall: 0.6521\n"
     ]
    },
    {
     "data": {
      "image/png": "[encoded data removed]",
      "text/plain": [
       "<Figure size 1500x500 with 3 Axes>"
      ]
     },
     "metadata": {},
     "output_type": "display_data"
    }
   ],
   "source": [
    "# for max_depth in range(1, 30):\n",
    "model_name = f\"DecisionTreeClassifier with (criterion={decision_tree__criterion}, max_depth={decision_tree__max_depth}, max_features={decision_tree__max_features})\"\n",
    "model = DecisionTreeClassifier(criterion=decision_tree__criterion, \n",
    "                                    max_depth=decision_tree__max_depth, \n",
    "                                    max_features=decision_tree__max_features)\n",
    "ModelTrainer(model_name, \n",
    "            Pipeline([\n",
    "                ('regression', model)\n",
    "            ]),\n",
    "            \"dt\",\n",
    "            selected_features=decision_tree__features).run()"
   ]
  },
  {
   "cell_type": "markdown",
   "id": "4bfbec80",
   "metadata": {},
   "source": [
    "### Support Vector Machines"
   ]
  },
  {
   "cell_type": "code",
   "execution_count": 31,
   "id": "f7ec5986",
   "metadata": {},
   "outputs": [
    {
     "name": "stdout",
     "output_type": "stream",
     "text": [
      "Precision: 0.6513\n",
      "Recall: 0.6856\n"
     ]
    },
    {
     "data": {
      "image/png": "[encoded data removed]",
      "text/plain": [
       "<Figure size 1500x500 with 3 Axes>"
      ]
     },
     "metadata": {},
     "output_type": "display_data"
    }
   ],
   "source": [
    "svc = SVC() #kernel=PARAM_SVM_KERNEL, gamma=PARAM_SVM_GAMMA, C=PARAM_SVM_C)\n",
    "model_name = f\"SVM (default params)\"\n",
    "\n",
    "ModelTrainer(model_name, \n",
    "            Pipeline([\n",
    "                ('regression', model)\n",
    "            ]),\n",
    "            \"sv\").run()"
   ]
  },
  {
   "cell_type": "markdown",
   "id": "ddc02793",
   "metadata": {},
   "source": [
    "### Random Forest"
   ]
  },
  {
   "cell_type": "code",
   "execution_count": 32,
   "id": "5fa64e01",
   "metadata": {},
   "outputs": [
    {
     "name": "stdout",
     "output_type": "stream",
     "text": [
      "Precision: 0.6041\n",
      "Recall: 0.6401\n"
     ]
    },
    {
     "data": {
      "image/png": "[encoded data removed]",
      "text/plain": [
       "<Figure size 1500x500 with 3 Axes>"
      ]
     },
     "metadata": {},
     "output_type": "display_data"
    }
   ],
   "source": [
    "model_name = f\"RandomForestClassifier with (n_estimators={random_forest__n_estimators}, max_features={random_forest__max_features})\"\n",
    "model = RandomForestClassifier(n_estimators=random_forest__n_estimators, \n",
    "                               max_features=random_forest__max_features,\n",
    "                               oob_score=True)\n",
    "ModelTrainer(model_name, \n",
    "            Pipeline([\n",
    "                ('regression', model)\n",
    "            ]),\n",
    "            \"rf\").run()"
   ]
  },
  {
   "cell_type": "markdown",
   "id": "2d2051a3",
   "metadata": {},
   "source": [
    "### Gradient Boosting Ensemble"
   ]
  },
  {
   "cell_type": "code",
   "execution_count": 33,
   "id": "8522bac1",
   "metadata": {},
   "outputs": [
    {
     "name": "stdout",
     "output_type": "stream",
     "text": [
      "Precision: 0.6923\n",
      "Recall: 0.6341\n"
     ]
    },
    {
     "data": {
      "image/png": "[encoded data removed]",
      "text/plain": [
       "<Figure size 1500x500 with 3 Axes>"
      ]
     },
     "metadata": {},
     "output_type": "display_data"
    }
   ],
   "source": [
    "model_name = f\"GradientBoostingClassifier with (n_estimators={gradient_boost__n_estimators})\"\n",
    "model = GradientBoostingClassifier(n_estimators=gradient_boost__n_estimators)\n",
    "ModelTrainer(model_name, \n",
    "            Pipeline([\n",
    "                ('regression', model)\n",
    "            ]),\n",
    "            \"gb\").run()"
   ]
  },
  {
   "cell_type": "markdown",
   "id": "76a68b5f",
   "metadata": {},
   "source": [
    "# Summary"
   ]
  },
  {
   "cell_type": "code",
   "execution_count": 34,
   "id": "d53a5106",
   "metadata": {},
   "outputs": [
    {
     "name": "stdout",
     "output_type": "stream",
     "text": [
      "*Best Run is 0.743689 from LogisticRegression (fit_intercept = True, penalty = l2, C = 1.0, class_weight = None, solver = newton-cholesky)*\n",
      "\n",
      "| Model | Features | Train Time | Train Accuracy | Test Accuracy |\n",
      "| ----- | -------- | ---------- | -------------  | -----------   |\n",
      "| Dummy | 0 | 0.0089 secs | 0.603805 | 0.603823 |\n",
      "| LogisticRegression (fit_intercept = True, penalty = l2, C = 1.0, class_weight = None, solver = newton-cholesky) | 29 | 0.0144 secs | 0.741935 | 0.743689 |\n",
      "| K-Nearest Neighbors (algorithm = auto, n_neighbors = 10, weights = None) | 29 | 0.1744 secs | 0.740281 | 0.740479 |\n",
      "| DecisionTreeClassifier with (criterion=entropy, max_depth=6, max_features=None) | 29 | 0.0118 secs | 0.746071 | 0.742959 |\n",
      "| SVM (default params) | 29 | 0.0160 secs | 0.767577 | 0.730045 |\n",
      "| RandomForestClassifier with (n_estimators=3, max_features=6) | 29 | 0.0200 secs | 0.938792 | 0.691230 |\n",
      "| GradientBoostingClassifier with (n_estimators=32) | 29 | 0.0733 secs | 0.753929 | 0.743397 |\n"
     ]
    }
   ],
   "source": [
    "print_best_params(\"All Hyperparameters\", all_best_params)\n",
    "print_best_features()\n",
    "show_run_output()"
   ]
  },
  {
   "cell_type": "code",
   "execution_count": null,
   "id": "37aa0943",
   "metadata": {},
   "outputs": [
    {
     "data": {
      "text/plain": [
       "Index(['yardsToGo', 'secs_remaining', 'is_inside_two_mins', 'wr_count',\n",
       "       'te_count', 'rb_count', 'extra_ol', 'on_schedule', 'and_short',\n",
       "       'score_offset', 'win_probability', 'form_EMPTY', 'form_I_FORM',\n",
       "       'form_JUMBO', 'form_MUDDLE', 'form_PISTOL', 'form_SHOTGUN',\n",
       "       'form_SINGLEBACK', 'form_VICTORY', 'form_WILDCAT', 'quarter_1',\n",
       "       'quarter_2', 'quarter_3', 'quarter_4', 'quarter_5', 'down_1', 'down_2',\n",
       "       'down_3', 'down_4', 'lr_pred', 'kn_pred', 'dt_pred', 'sv_pred',\n",
       "       'rf_pred', 'gb_pred', 'actual', 'lr_acc', 'kn_acc', 'dt_acc', 'sv_acc',\n",
       "       'rf_acc', 'gb_acc'],\n",
       "      dtype='object')"
      ]
     },
     "execution_count": 35,
     "metadata": {},
     "output_type": "execute_result"
    }
   ],
   "source": [
    "X_test[\"actual\"] = y_test\n",
    "X_test['lr_acc'] = X_test.apply(lambda p: p.lr_pred == p.actual, axis = 1)   \n",
    "X_test[model_acc] = X_test.apply(lambda p: p.lr_pred == p.actual, axis = 1) \n",
    "X_test['kn_acc'] = X_test.apply(lambda p: p.kn_pred == p.actual, axis = 1)   \n",
    "X_test['dt_acc'] = X_test.apply(lambda p: p.dt_pred == p.actual, axis = 1)   \n",
    "X_test['sv_acc'] = X_test.apply(lambda p: p.sv_pred == p.actual, axis = 1)   \n",
    "X_test['rf_acc'] = X_test.apply(lambda p: p.rf_pred == p.actual, axis = 1)   \n",
    "X_test['gb_acc'] = X_test.apply(lambda p: p.gb_pred == p.actual, axis = 1)   \n",
    "\n",
    "X_test.columns"
   ]
  },
  {
   "cell_type": "code",
   "execution_count": 44,
   "id": "52249354",
   "metadata": {},
   "outputs": [
    {
     "name": "stdout",
     "output_type": "stream",
     "text": [
      "| Model | EMPTY | I_FORM | JUMBO | MUDDLE | PISTOL | SHOTGUN | SINGLEBACK | VICTORY | WILDCAT |\n",
      "| ---- | ---- | ---- | ---- | ---- | ---- | ---- | ---- | ---- | ---- |\n",
      "| lr | 0.9665 | 0.7138 | 0.8426 | 1.0000 | 0.6552 | 0.7464 | 0.6658 | 1.0000 | 0.8378 | \n",
      "| kn | 0.9665 | 0.7149 | 0.8426 | 0.0476 | 0.6438 | 0.7456 | 0.6616 | 1.0000 | 0.8514 | \n",
      "| dt | 0.9656 | 0.7103 | 0.8426 | 1.0000 | 0.6610 | 0.7468 | 0.6655 | 1.0000 | 0.6892 | \n",
      "| sv | 0.9550 | 0.7034 | 0.8148 | 0.4762 | 0.6800 | 0.7294 | 0.6553 | 0.9728 | 0.8649 | \n",
      "| rf | 0.9259 | 0.6431 | 0.6667 | 0.7143 | 0.6190 | 0.7053 | 0.5918 | 1.0000 | 0.6622 | \n",
      "| gb | 0.9665 | 0.7080 | 0.7963 | 0.0000 | 0.7029 | 0.7509 | 0.6586 | 1.0000 | 0.7297 | \n",
      "{'EMPTY': np.float64(0.9664902998236331), 'I_FORM': np.float64(0.7149478563151797), 'JUMBO': np.float64(0.8425925925925926), 'MUDDLE': np.float64(1.0), 'PISTOL': np.float64(0.7028571428571428), 'SHOTGUN': np.float64(0.7509020446345048), 'SINGLEBACK': np.float64(0.6657714115189496), 'VICTORY': np.float64(1.0), 'WILDCAT': np.float64(0.8648648648648649)}\n",
      "{'EMPTY': 'lr', 'I_FORM': 'kn', 'JUMBO': 'lr', 'MUDDLE': 'lr', 'PISTOL': 'gb', 'SHOTGUN': 'gb', 'SINGLEBACK': 'lr', 'VICTORY': 'lr', 'WILDCAT': 'sv'}\n",
      "Total Records - EMPTY: 1134\n",
      "Total Records - I_FORM: 863\n",
      "Total Records - JUMBO: 108\n",
      "Total Records - MUDDLE: 21\n",
      "Total Records - PISTOL: 525\n",
      "Total Records - SHOTGUN: 7483\n",
      "Total Records - SINGLEBACK: 3351\n",
      "Total Records - VICTORY: 147\n",
      "Total Records - WILDCAT: 74\n",
      "Overall Accuracy of Best by Formation: 0.7482\n"
     ]
    }
   ],
   "source": [
    "print(\"| Model | EMPTY | I_FORM | JUMBO | MUDDLE | PISTOL | SHOTGUN | SINGLEBACK | VICTORY | WILDCAT |\")\n",
    "print(\"| ---- | ---- | ---- | ---- | ---- | ---- | ---- | ---- | ---- | ---- |\")\n",
    "form_best_acc = {}\n",
    "form_best_model = {}\n",
    "for prefix in ['lr', 'kn', 'dt', 'sv', 'rf', 'gb']:\n",
    "    model_acc = f'{prefix}_acc'\n",
    "    row = f\"| {prefix} | \"\n",
    "    for form in ['EMPTY', 'I_FORM', 'JUMBO', 'MUDDLE', 'PISTOL', 'SHOTGUN', 'SINGLEBACK', 'VICTORY', 'WILDCAT']:\n",
    "        form_col = f'form_{form}'\n",
    "        mean_acc = X_test[X_test[form_col] == 1][model_acc].mean()\n",
    "        row += f\"{mean_acc:.4f} | \"\n",
    "        if form not in form_best_acc or mean_acc > form_best_acc[form]:\n",
    "            form_best_acc[form] = mean_acc\n",
    "            form_best_model[form] = prefix\n",
    "    print(row)\n",
    "\n",
    "print(form_best_acc)\n",
    "print(form_best_model)\n",
    "\n",
    "total_recs = 0\n",
    "total_accurate = 0\n",
    "for form in ['EMPTY', 'I_FORM', 'JUMBO', 'MUDDLE', 'PISTOL', 'SHOTGUN', 'SINGLEBACK', 'VICTORY', 'WILDCAT']:\n",
    "    recs = X_test[X_test[f'form_{form}'] == 1].shape[0]\n",
    "    print(f\"Total Records - {form}: {recs}\")\n",
    "    total_recs += recs\n",
    "    total_accurate += recs * form_best_acc[form]\n",
    "\n",
    "print(f\"Overall Accuracy of Best by Formation: {total_accurate / total_recs:.4f}\")"
   ]
  },
  {
   "cell_type": "markdown",
   "id": "ff9bd1ab",
   "metadata": {},
   "source": []
  }
 ],
 "metadata": {
  "kernelspec": {
   "display_name": "Python (predict_plays)",
   "language": "python",
   "name": "predict_plays"
  },
  "language_info": {
   "codemirror_mode": {
    "name": "ipython",
    "version": 3
   },
   "file_extension": ".py",
   "mimetype": "text/x-python",
   "name": "python",
   "nbconvert_exporter": "python",
   "pygments_lexer": "ipython3",
   "version": "3.13.5"
  }
 },
 "nbformat": 4,
 "nbformat_minor": 5
}
